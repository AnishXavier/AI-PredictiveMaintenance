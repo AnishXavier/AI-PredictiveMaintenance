{
 "cells": [
  {
   "cell_type": "markdown",
   "metadata": {},
   "source": [
    "# Feature Engineering\n",
    "\n",
    "In machine learning, a feature is an individual measurable attribute of a phenomenon being observed. The extraction of features from raw training data is called *feature engineering*. In other words, feature engineering is a process of transforming raw training data into a *representation* suitable for the application of machine learning algorithms.\n",
    "\n",
    "This process usually requires a certain degree of domain expertise and can be divided into the following stages <sup>[[1]](#ref_1)</sup>: \n",
    "- Brainstorming on features\n",
    "- Deciding what features to create\n",
    "- Creating features\n",
    "- Studying how the features impact model's predictive accuracy\n",
    "- Iterating if necessary"
   ]
  },
  {
   "cell_type": "code",
   "execution_count": 1,
   "metadata": {},
   "outputs": [],
   "source": [
    "%matplotlib inline\n",
    "import pyspark\n",
    "from functools import reduce\n",
    "from pyspark.sql import SparkSession, SQLContext, Window\n",
    "import pyspark.sql.functions as F\n",
    "import pandas as pd\n",
    "import matplotlib\n",
    "import matplotlib.pyplot as plt\n",
    "from pyspark.storagelevel import StorageLevel\n",
    "\n",
    "matplotlib.style.use('ggplot')"
   ]
  },
  {
   "cell_type": "markdown",
   "metadata": {},
   "source": [
    "## Reading input data"
   ]
  },
  {
   "cell_type": "code",
   "execution_count": 2,
   "metadata": {},
   "outputs": [
    {
     "name": "stdout",
     "output_type": "stream",
     "text": [
      "root\n",
      " |-- timestamp: timestamp (nullable = true)\n",
      " |-- ambient_pressure: double (nullable = true)\n",
      " |-- ambient_temperature: double (nullable = true)\n",
      " |-- machineID: string (nullable = true)\n",
      " |-- pressure: double (nullable = true)\n",
      " |-- speed: double (nullable = true)\n",
      " |-- speed_desired: long (nullable = true)\n",
      " |-- temperature: double (nullable = true)\n",
      "\n",
      "root\n",
      " |-- timestamp: timestamp (nullable = true)\n",
      " |-- code: string (nullable = true)\n",
      " |-- level: string (nullable = true)\n",
      " |-- machineID: string (nullable = true)\n",
      "\n"
     ]
    }
   ],
   "source": [
    "sqlContext = SQLContext(sc)\n",
    "\n",
    "df_telemetry = sqlContext.read.parquet('data/telemetry')\n",
    "df_logs = sqlContext.read.parquet('data/logs')\n",
    "\n",
    "df_telemetry.printSchema()\n",
    "df_logs.printSchema()"
   ]
  },
  {
   "cell_type": "code",
   "execution_count": 3,
   "metadata": {},
   "outputs": [
    {
     "name": "stdout",
     "output_type": "stream",
     "text": [
      "24487553\n",
      "683\n"
     ]
    }
   ],
   "source": [
    "print(df_telemetry.count())\n",
    "print(df_logs.count())"
   ]
  },
  {
   "cell_type": "markdown",
   "metadata": {},
   "source": [
    "## Data exploration"
   ]
  },
  {
   "cell_type": "code",
   "execution_count": 4,
   "metadata": {},
   "outputs": [
    {
     "data": {
      "text/html": [
       "<div>\n",
       "<style scoped>\n",
       "    .dataframe tbody tr th:only-of-type {\n",
       "        vertical-align: middle;\n",
       "    }\n",
       "\n",
       "    .dataframe tbody tr th {\n",
       "        vertical-align: top;\n",
       "    }\n",
       "\n",
       "    .dataframe thead th {\n",
       "        text-align: right;\n",
       "    }\n",
       "</style>\n",
       "<table border=\"1\" class=\"dataframe\">\n",
       "  <thead>\n",
       "    <tr style=\"text-align: right;\">\n",
       "      <th></th>\n",
       "      <th>ambient_pressure</th>\n",
       "      <th>ambient_temperature</th>\n",
       "      <th>pressure</th>\n",
       "      <th>speed</th>\n",
       "      <th>speed_desired</th>\n",
       "      <th>temperature</th>\n",
       "    </tr>\n",
       "  </thead>\n",
       "  <tbody>\n",
       "    <tr>\n",
       "      <th>count</th>\n",
       "      <td>5311.000000</td>\n",
       "      <td>5311.000000</td>\n",
       "      <td>5311.000000</td>\n",
       "      <td>5311.000000</td>\n",
       "      <td>5311.0</td>\n",
       "      <td>5311.000000</td>\n",
       "    </tr>\n",
       "    <tr>\n",
       "      <th>mean</th>\n",
       "      <td>101.000128</td>\n",
       "      <td>20.000444</td>\n",
       "      <td>821.208157</td>\n",
       "      <td>999.845263</td>\n",
       "      <td>1000.0</td>\n",
       "      <td>156.676287</td>\n",
       "    </tr>\n",
       "    <tr>\n",
       "      <th>std</th>\n",
       "      <td>0.058225</td>\n",
       "      <td>0.058283</td>\n",
       "      <td>139.458385</td>\n",
       "      <td>8.394249</td>\n",
       "      <td>0.0</td>\n",
       "      <td>9.254828</td>\n",
       "    </tr>\n",
       "    <tr>\n",
       "      <th>min</th>\n",
       "      <td>100.900000</td>\n",
       "      <td>19.900000</td>\n",
       "      <td>136.280000</td>\n",
       "      <td>501.520000</td>\n",
       "      <td>1000.0</td>\n",
       "      <td>25.040000</td>\n",
       "    </tr>\n",
       "    <tr>\n",
       "      <th>25%</th>\n",
       "      <td>100.950000</td>\n",
       "      <td>19.950000</td>\n",
       "      <td>751.010000</td>\n",
       "      <td>997.510000</td>\n",
       "      <td>1000.0</td>\n",
       "      <td>150.850000</td>\n",
       "    </tr>\n",
       "    <tr>\n",
       "      <th>50%</th>\n",
       "      <td>101.000000</td>\n",
       "      <td>20.000000</td>\n",
       "      <td>860.200000</td>\n",
       "      <td>1000.030000</td>\n",
       "      <td>1000.0</td>\n",
       "      <td>154.080000</td>\n",
       "    </tr>\n",
       "    <tr>\n",
       "      <th>75%</th>\n",
       "      <td>101.050000</td>\n",
       "      <td>20.050000</td>\n",
       "      <td>928.690000</td>\n",
       "      <td>1002.510000</td>\n",
       "      <td>1000.0</td>\n",
       "      <td>159.900000</td>\n",
       "    </tr>\n",
       "    <tr>\n",
       "      <th>max</th>\n",
       "      <td>101.100000</td>\n",
       "      <td>20.100000</td>\n",
       "      <td>996.310000</td>\n",
       "      <td>1005.000000</td>\n",
       "      <td>1000.0</td>\n",
       "      <td>214.890000</td>\n",
       "    </tr>\n",
       "  </tbody>\n",
       "</table>\n",
       "</div>"
      ],
      "text/plain": [
       "       ambient_pressure  ambient_temperature     pressure        speed  \\\n",
       "count       5311.000000          5311.000000  5311.000000  5311.000000   \n",
       "mean         101.000128            20.000444   821.208157   999.845263   \n",
       "std            0.058225             0.058283   139.458385     8.394249   \n",
       "min          100.900000            19.900000   136.280000   501.520000   \n",
       "25%          100.950000            19.950000   751.010000   997.510000   \n",
       "50%          101.000000            20.000000   860.200000  1000.030000   \n",
       "75%          101.050000            20.050000   928.690000  1002.510000   \n",
       "max          101.100000            20.100000   996.310000  1005.000000   \n",
       "\n",
       "       speed_desired  temperature  \n",
       "count         5311.0  5311.000000  \n",
       "mean          1000.0   156.676287  \n",
       "std              0.0     9.254828  \n",
       "min           1000.0    25.040000  \n",
       "25%           1000.0   150.850000  \n",
       "50%           1000.0   154.080000  \n",
       "75%           1000.0   159.900000  \n",
       "max           1000.0   214.890000  "
      ]
     },
     "execution_count": 4,
     "metadata": {},
     "output_type": "execute_result"
    }
   ],
   "source": [
    "machineID = df_logs.first().machineID\n",
    "\n",
    "machine_sequence_df = df_telemetry.where(df_telemetry.machineID == machineID).orderBy(df_telemetry.timestamp)\n",
    "machine_sequence_df.persist(StorageLevel.MEMORY_ONLY)\n",
    "pdf = machine_sequence_df.toPandas()\n",
    "pdf.set_index('timestamp', inplace=True)\n",
    "pdf.describe()"
   ]
  },
  {
   "cell_type": "code",
   "execution_count": 5,
   "metadata": {},
   "outputs": [
    {
     "data": {
      "text/plain": [
       "<matplotlib.axes._subplots.AxesSubplot at 0x7f01e626f518>"
      ]
     },
     "execution_count": 5,
     "metadata": {},
     "output_type": "execute_result"
    },
    {
     "data": {
      "image/png": "[encoded data removed]",
      "text/plain": [
       "<matplotlib.figure.Figure at 0x7f020c560c18>"
      ]
     },
     "metadata": {},
     "output_type": "display_data"
    }
   ],
   "source": [
    "pdf.plot(title=machineID , style=\".\", y='speed_desired')"
   ]
  },
  {
   "cell_type": "markdown",
   "metadata": {},
   "source": [
    "## Feature creation\n",
    "\n",
    "### Operational cycles"
   ]
  },
  {
   "cell_type": "code",
   "execution_count": 14,
   "metadata": {},
   "outputs": [
    {
     "data": {
      "text/plain": [
       "array([<matplotlib.axes._subplots.AxesSubplot object at 0x7f01e3787860>,\n",
       "       <matplotlib.axes._subplots.AxesSubplot object at 0x7f01e371ab70>,\n",
       "       <matplotlib.axes._subplots.AxesSubplot object at 0x7f01e36ceb38>],\n",
       "      dtype=object)"
      ]
     },
     "execution_count": 14,
     "metadata": {},
     "output_type": "execute_result"
    },
    {
     "data": {
      "image/png": "[encoded data removed]",
      "text/plain": [
       "<matplotlib.figure.Figure at 0x7f01e3863da0>"
      ]
     },
     "metadata": {},
     "output_type": "display_data"
    }
   ],
   "source": [
    "def cycles(df):\n",
    "    w = Window.partitionBy('machineID').orderBy('timestamp')\n",
    "\n",
    "    # Difference from the previous record or 0 if this is the first one\n",
    "    diff = F.coalesce(F.unix_timestamp('timestamp') - F.unix_timestamp(F.lag('timestamp', 1).over(w)), F.lit(0))\n",
    "\n",
    "    # 0 if diff <= 30, 1 otherwise\n",
    "    indicator = (diff > 30).cast('integer')\n",
    "\n",
    "    subgroup = F.sum(indicator).over(w).alias('cycle')\n",
    "\n",
    "    return df.select(\"*\", subgroup).groupBy('machineID', 'cycle').agg(\n",
    "        F.avg('speed').alias('speed_avg'),\n",
    "        F.avg('temperature').alias('temperature_avg'),\n",
    "        F.max('temperature').alias('temperature_max'),\n",
    "        F.avg('pressure').alias('pressure_avg'),\n",
    "        F.min('timestamp').alias('cycle_start'),\n",
    "        F.max('timestamp').alias('cycle_end')\n",
    "    ).orderBy('cycle')\n",
    "\n",
    "msdf_cycles = cycles(machine_sequence_df)\n",
    "msdf_cycles[['temperature_avg', 'temperature_max', 'pressure_avg']].toPandas().plot(subplots=True, title='Cycle features')"
   ]
  },
  {
   "cell_type": "code",
   "execution_count": 8,
   "metadata": {},
   "outputs": [
    {
     "data": {
      "text/plain": [
       "136485"
      ]
     },
     "execution_count": 8,
     "metadata": {},
     "output_type": "execute_result"
    }
   ],
   "source": [
    "cycles_df = cycles(df_telemetry)\n",
    "cycles_df.persist(StorageLevel.MEMORY_AND_DISK)\n",
    "cycles_df.count()"
   ]
  },
  {
   "cell_type": "markdown",
   "metadata": {},
   "source": [
    "### Augmenting data with additional lag features"
   ]
  },
  {
   "cell_type": "markdown",
   "metadata": {},
   "source": [
    "### Labeling"
   ]
  },
  {
   "cell_type": "code",
   "execution_count": 16,
   "metadata": {},
   "outputs": [],
   "source": [
    "#df_logs.show()\n",
    "\n",
    "w = Window.partitionBy('machineID', 'level', 'code').orderBy('timestamp') # since last failure of the same type?\n",
    "diff = F.coalesce(F.lag('timestamp', 1).over(w), F.to_timestamp(F.lit('2000-01-01 00:00:00')))\n",
    "\n",
    "failures_df = (df_logs.where(df_logs.level == 'CRITICAL')\n",
    "               .withColumn('last_failure_timestamp', diff)\n",
    "               .withColumnRenamed('timestamp', 'failure_timestamp')\n",
    "               .withColumnRenamed('code', 'failure')\n",
    "               .drop('level'))\n",
    "\n",
    "labeled_cycles_df = (cycles_df.join(failures_df,\n",
    "                                       (cycles_df.machineID == failures_df.machineID) &\n",
    "                                       (cycles_df.cycle_start >= failures_df.last_failure_timestamp) &\n",
    "                                       (cycles_df.cycle_end <= failures_df.failure_timestamp),\n",
    "                                       'left_outer')\n",
    "                     .drop(failures_df.machineID)\n",
    "                     .drop(cycles_df.cycle_start)\n",
    "                     .drop(cycles_df.cycle_end)\n",
    "                     .drop(failures_df.last_failure_timestamp)\n",
    "                     .withColumn(\n",
    "                         'rul',\n",
    "                         F.dense_rank().over(Window.partitionBy('machineID', 'failure_timestamp')\n",
    "                                             .orderBy(F.desc('cycle'))))\n",
    "                     .drop(failures_df.failure_timestamp))"
   ]
  },
  {
   "cell_type": "code",
   "execution_count": 18,
   "metadata": {},
   "outputs": [
    {
     "data": {
      "text/html": [
       "<div>\n",
       "<style scoped>\n",
       "    .dataframe tbody tr th:only-of-type {\n",
       "        vertical-align: middle;\n",
       "    }\n",
       "\n",
       "    .dataframe tbody tr th {\n",
       "        vertical-align: top;\n",
       "    }\n",
       "\n",
       "    .dataframe thead th {\n",
       "        text-align: right;\n",
       "    }\n",
       "</style>\n",
       "<table border=\"1\" class=\"dataframe\">\n",
       "  <thead>\n",
       "    <tr style=\"text-align: right;\">\n",
       "      <th></th>\n",
       "      <th>machineID</th>\n",
       "      <th>cycle</th>\n",
       "      <th>speed</th>\n",
       "      <th>temperature</th>\n",
       "      <th>temperature_max</th>\n",
       "      <th>pressure</th>\n",
       "      <th>failure</th>\n",
       "      <th>rul</th>\n",
       "    </tr>\n",
       "  </thead>\n",
       "  <tbody>\n",
       "    <tr>\n",
       "      <th>0</th>\n",
       "      <td>M_0121</td>\n",
       "      <td>173</td>\n",
       "      <td>1000.006636</td>\n",
       "      <td>189.467727</td>\n",
       "      <td>214.95</td>\n",
       "      <td>363.070091</td>\n",
       "      <td>F1</td>\n",
       "      <td>1</td>\n",
       "    </tr>\n",
       "    <tr>\n",
       "      <th>1</th>\n",
       "      <td>M_0121</td>\n",
       "      <td>172</td>\n",
       "      <td>999.707083</td>\n",
       "      <td>178.061000</td>\n",
       "      <td>181.56</td>\n",
       "      <td>486.870583</td>\n",
       "      <td>F1</td>\n",
       "      <td>2</td>\n",
       "    </tr>\n",
       "    <tr>\n",
       "      <th>2</th>\n",
       "      <td>M_0121</td>\n",
       "      <td>171</td>\n",
       "      <td>999.789417</td>\n",
       "      <td>173.273333</td>\n",
       "      <td>175.20</td>\n",
       "      <td>547.044417</td>\n",
       "      <td>F1</td>\n",
       "      <td>3</td>\n",
       "    </tr>\n",
       "    <tr>\n",
       "      <th>3</th>\n",
       "      <td>M_0121</td>\n",
       "      <td>170</td>\n",
       "      <td>1000.112792</td>\n",
       "      <td>169.062958</td>\n",
       "      <td>171.62</td>\n",
       "      <td>606.547583</td>\n",
       "      <td>F1</td>\n",
       "      <td>4</td>\n",
       "    </tr>\n",
       "    <tr>\n",
       "      <th>4</th>\n",
       "      <td>M_0121</td>\n",
       "      <td>169</td>\n",
       "      <td>1000.292000</td>\n",
       "      <td>166.120500</td>\n",
       "      <td>166.98</td>\n",
       "      <td>648.603750</td>\n",
       "      <td>F1</td>\n",
       "      <td>5</td>\n",
       "    </tr>\n",
       "  </tbody>\n",
       "</table>\n",
       "</div>"
      ],
      "text/plain": [
       "  machineID  cycle        speed  temperature  temperature_max    pressure  \\\n",
       "0    M_0121    173  1000.006636   189.467727           214.95  363.070091   \n",
       "1    M_0121    172   999.707083   178.061000           181.56  486.870583   \n",
       "2    M_0121    171   999.789417   173.273333           175.20  547.044417   \n",
       "3    M_0121    170  1000.112792   169.062958           171.62  606.547583   \n",
       "4    M_0121    169  1000.292000   166.120500           166.98  648.603750   \n",
       "\n",
       "  failure  rul  \n",
       "0      F1    1  \n",
       "1      F1    2  \n",
       "2      F1    3  \n",
       "3      F1    4  \n",
       "4      F1    5  "
      ]
     },
     "execution_count": 18,
     "metadata": {},
     "output_type": "execute_result"
    }
   ],
   "source": [
    "labeled_cycles_df.limit(10).toPandas().head()"
   ]
  },
  {
   "cell_type": "code",
   "execution_count": 19,
   "metadata": {},
   "outputs": [
    {
     "data": {
      "text/html": [
       "<div>\n",
       "<style scoped>\n",
       "    .dataframe tbody tr th:only-of-type {\n",
       "        vertical-align: middle;\n",
       "    }\n",
       "\n",
       "    .dataframe tbody tr th {\n",
       "        vertical-align: top;\n",
       "    }\n",
       "\n",
       "    .dataframe thead th {\n",
       "        text-align: right;\n",
       "    }\n",
       "</style>\n",
       "<table border=\"1\" class=\"dataframe\">\n",
       "  <thead>\n",
       "    <tr style=\"text-align: right;\">\n",
       "      <th></th>\n",
       "      <th>max(rul)</th>\n",
       "    </tr>\n",
       "  </thead>\n",
       "  <tbody>\n",
       "    <tr>\n",
       "      <th>count</th>\n",
       "      <td>683.000000</td>\n",
       "    </tr>\n",
       "    <tr>\n",
       "      <th>mean</th>\n",
       "      <td>110.973646</td>\n",
       "    </tr>\n",
       "    <tr>\n",
       "      <th>std</th>\n",
       "      <td>50.136025</td>\n",
       "    </tr>\n",
       "    <tr>\n",
       "      <th>min</th>\n",
       "      <td>27.000000</td>\n",
       "    </tr>\n",
       "    <tr>\n",
       "      <th>25%</th>\n",
       "      <td>69.000000</td>\n",
       "    </tr>\n",
       "    <tr>\n",
       "      <th>50%</th>\n",
       "      <td>108.000000</td>\n",
       "    </tr>\n",
       "    <tr>\n",
       "      <th>75%</th>\n",
       "      <td>153.000000</td>\n",
       "    </tr>\n",
       "    <tr>\n",
       "      <th>max</th>\n",
       "      <td>226.000000</td>\n",
       "    </tr>\n",
       "  </tbody>\n",
       "</table>\n",
       "</div>"
      ],
      "text/plain": [
       "         max(rul)\n",
       "count  683.000000\n",
       "mean   110.973646\n",
       "std     50.136025\n",
       "min     27.000000\n",
       "25%     69.000000\n",
       "50%    108.000000\n",
       "75%    153.000000\n",
       "max    226.000000"
      ]
     },
     "execution_count": 19,
     "metadata": {},
     "output_type": "execute_result"
    }
   ],
   "source": [
    "labeled_cycles_df.where(labeled_cycles_df.failure.isNotNull()).groupBy('machineID').agg(F.max('rul')).toPandas().describe()"
   ]
  },
  {
   "cell_type": "markdown",
   "metadata": {},
   "source": [
    "## Persisting the labeled feature dataset"
   ]
  },
  {
   "cell_type": "code",
   "execution_count": 23,
   "metadata": {},
   "outputs": [],
   "source": [
    "% rm -rf data/features\n",
    "\n",
    "labeled_cycles_df.coalesce(5).write.csv('data/features', header=True)"
   ]
  },
  {
   "cell_type": "markdown",
   "metadata": {},
   "source": [
    "## References\n",
    "http://waset.org/publications/10006640/building-a-scalable-telemetry-based-multiclass-predictive-maintenance-model-in-r\n",
    "http://citeseerx.ist.psu.edu/viewdoc/download?doi=10.1.1.386.8108&rep=rep1&type=pdf"
   ]
  }
 ],
 "metadata": {
  "kernelspec": {
   "display_name": "PySpark",
   "language": "python",
   "name": "pyspark"
  },
  "language_info": {
   "codemirror_mode": {
    "name": "ipython",
    "version": 3
   },
   "file_extension": ".py",
   "mimetype": "text/x-python",
   "name": "python",
   "nbconvert_exporter": "python",
   "pygments_lexer": "ipython3",
   "version": "3.6.4"
  }
 },
 "nbformat": 4,
 "nbformat_minor": 2
}
