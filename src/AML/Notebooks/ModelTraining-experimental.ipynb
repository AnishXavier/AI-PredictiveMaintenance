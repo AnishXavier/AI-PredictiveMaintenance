{
 "cells": [
  {
   "cell_type": "markdown",
   "metadata": {},
   "source": [
    "# Model Training"
   ]
  },
  {
   "cell_type": "code",
   "execution_count": 87,
   "metadata": {},
   "outputs": [],
   "source": [
    "%matplotlib inline\n",
    "import glob\n",
    "import itertools\n",
    "from collections import Counter\n",
    "import matplotlib.pyplot as plt\n",
    "import pandas as pd\n",
    "import numpy as np\n",
    "from collections import Counter\n",
    "from sklearn.ensemble import RandomForestClassifier\n",
    "from imblearn.over_sampling import SMOTE\n",
    "from sklearn.model_selection import TimeSeriesSplit, cross_val_score, train_test_split\n",
    "from sklearn.metrics import confusion_matrix, accuracy_score"
   ]
  },
  {
   "cell_type": "code",
   "execution_count": 88,
   "metadata": {},
   "outputs": [],
   "source": [
    "filenames = glob.glob(\"data/features/*.csv\")\n",
    "converters={\"failure\": str}\n",
    "dfs= [pd.read_csv(filename, converters=converters) for filename in filenames]\n",
    "combined_df = pd.concat(dfs, ignore_index=True)"
   ]
  },
  {
   "cell_type": "code",
   "execution_count": 89,
   "metadata": {},
   "outputs": [],
   "source": [
    "w = 7\n",
    "seed = 42\n",
    "\n",
    "max_cycles = combined_df.join(combined_df[(combined_df.rul.isna())]\n",
    "                              .groupby(['machineID'], as_index=False).cycle\n",
    "                              .agg(['max', 'count']).apply(lambda x: x['max'] - min(x['count'], w), axis = 1)\n",
    "                              .to_frame(name='max_cycle'), on='machineID')\n",
    "\n",
    "data = max_cycles[max_cycles.max_cycle.isna() | (max_cycles.cycle <= max_cycles.max_cycle)].drop('max_cycle', axis=1)"
   ]
  },
  {
   "cell_type": "code",
   "execution_count": 90,
   "metadata": {},
   "outputs": [],
   "source": [
    "lookback = 5\n",
    "test_size = 0.2\n",
    "time_split = True\n",
    "\n",
    "if time_split:\n",
    "    data.set_index(['timestamp', 'machineID'], inplace=True)\n",
    "    data.sort_index(inplace=True)\n",
    "\n",
    "    train, test = train_test_split(data, test_size=test_size, shuffle=False)\n",
    "    \n",
    "    min_cycles = test.reset_index().groupby(['machineID']).cycle.min().apply(lambda x: x - lookback).to_frame(name='max_cycle')\n",
    "    t = train.reset_index().join(min_cycles, on='machineID')\n",
    "    train = t[t.max_cycle.isna() | (t.cycle < t.max_cycle)].drop('max_cycle', axis=1)\n",
    "    train.set_index(['timestamp', 'machineID'], inplace=True)\n",
    "else:\n",
    "    # asset split\n",
    "    unique_assets = data.reset_index().machineID.unique()\n",
    "    train_assets, test_assets = train_test_split(unique_assets, test_size=test_size, random_state=seed)\n",
    "    train = data[data.machineID.isin(train_assets)]\n",
    "    test = data[data.machineID.isin(test_assets)]\n",
    "    train.set_index(['timestamp', 'machineID'], inplace=True)\n",
    "    test.set_index(['timestamp', 'machineID'], inplace=True)"
   ]
  },
  {
   "cell_type": "code",
   "execution_count": 91,
   "metadata": {},
   "outputs": [
    {
     "data": {
      "text/plain": [
       "Counter({'': 11356, 'F1': 434, 'F2': 148})"
      ]
     },
     "execution_count": 91,
     "metadata": {},
     "output_type": "execute_result"
    }
   ],
   "source": [
    "clf = RandomForestClassifier(random_state=seed)\n",
    "\n",
    "def xy(data, w):\n",
    "    data = data.reset_index(drop = True)\n",
    "    return (data.drop(['cycle', 'failure', 'rul', 'sequenceID'], axis=1),\n",
    "            data.apply(lambda row: row.failure if row.rul and row.rul < w else '', axis=1))\n",
    "\n",
    "# tscv = TimeSeriesSplit(n_splits=6)\n",
    "# cross_val_score(clf, X, Y, cv=tscv)\n",
    "\n",
    "# for train_index, test_index in tscv.split(X):\n",
    "#     train = X[[train_index]]\n",
    "#     test = X[[test_index]]\n",
    "\n",
    "X_train, Y_train = xy(train, w)\n",
    "X_test, Y_test = xy(test, w)\n",
    "\n",
    "sm = SMOTE(random_state=seed)\n",
    "X_train_res, Y_train_res = sm.fit_sample(X_train, Y_train)\n",
    "#X_train_res, Y_train_res = X_train, Y_train\n",
    "\n",
    "clf.fit(X_train_res, Y_train_res)\n",
    "\n",
    "c = Counter(Y_test)\n",
    "c"
   ]
  },
  {
   "cell_type": "code",
   "execution_count": 92,
   "metadata": {},
   "outputs": [
    {
     "data": {
      "image/png": "[encoded data removed]",
      "text/plain": [
       "<matplotlib.figure.Figure at 0x7fb398a4b3c8>"
      ]
     },
     "metadata": {},
     "output_type": "display_data"
    }
   ],
   "source": [
    "Y_predictions = clf.predict(X_test)\n",
    "\n",
    "def plot_confusion_matrix(cm, classes,\n",
    "                          title='Confusion matrix',\n",
    "                          cmap=plt.cm.Blues):\n",
    "    orig = cm\n",
    "    cm = cm.astype('float') / cm.sum(axis=1)[:, np.newaxis]\n",
    "\n",
    "    plt.imshow(cm, interpolation='nearest', cmap=cmap)\n",
    "    plt.title(title)\n",
    "    plt.colorbar()\n",
    "    tick_marks = np.arange(len(classes))\n",
    "    plt.xticks(tick_marks, classes, rotation=45)\n",
    "    plt.yticks(tick_marks, classes)\n",
    "\n",
    "    fmt = '.2f'\n",
    "    thresh = cm.max() / 2.\n",
    "    for i, j in itertools.product(range(cm.shape[0]), range(cm.shape[1])):\n",
    "        plt.text(j, i, format(cm[i, j], fmt) + '\\n({0})'.format(orig[i, j]),\n",
    "                 horizontalalignment=\"center\",\n",
    "                 color=\"white\" if cm[i, j] > thresh else \"black\")\n",
    "\n",
    "    plt.tight_layout()\n",
    "    plt.ylabel('True label')\n",
    "    plt.xlabel('Predicted label')\n",
    "\n",
    "cm = confusion_matrix(Y_test, Y_predictions)\n",
    "plot_confusion_matrix(cm, ['None', 'F1'])"
   ]
  },
  {
   "cell_type": "code",
   "execution_count": 93,
   "metadata": {},
   "outputs": [
    {
     "data": {
      "text/plain": [
       "0.9914558552521361"
      ]
     },
     "execution_count": 93,
     "metadata": {},
     "output_type": "execute_result"
    }
   ],
   "source": [
    "accuracy_score(Y_test, Y_predictions)"
   ]
  },
  {
   "cell_type": "code",
   "execution_count": 94,
   "metadata": {},
   "outputs": [
    {
     "data": {
      "text/plain": [
       "11504"
      ]
     },
     "execution_count": 94,
     "metadata": {},
     "output_type": "execute_result"
    }
   ],
   "source": [
    "Y_test.where(Y_test != 'F1').count()"
   ]
  }
 ],
 "metadata": {
  "kernelspec": {
   "display_name": "Python 3",
   "language": "python",
   "name": "python3"
  },
  "language_info": {
   "codemirror_mode": {
    "name": "ipython",
    "version": 3
   },
   "file_extension": ".py",
   "mimetype": "text/x-python",
   "name": "python",
   "nbconvert_exporter": "python",
   "pygments_lexer": "ipython3",
   "version": "3.6.4"
  }
 },
 "nbformat": 4,
 "nbformat_minor": 2
}
