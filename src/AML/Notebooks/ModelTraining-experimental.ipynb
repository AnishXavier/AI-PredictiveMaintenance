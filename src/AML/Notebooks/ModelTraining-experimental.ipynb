{
 "cells": [
  {
   "cell_type": "code",
   "execution_count": 110,
   "metadata": {},
   "outputs": [],
   "source": [
    "%matplotlib inline\n",
    "import glob\n",
    "import itertools\n",
    "from collections import Counter\n",
    "import matplotlib.pyplot as plt\n",
    "import pandas as pd\n",
    "import numpy as np\n",
    "from collections import Counter\n",
    "from sklearn.ensemble import RandomForestClassifier\n",
    "from imblearn.over_sampling import SMOTE \n",
    "from sklearn.model_selection import TimeSeriesSplit, cross_val_score, train_test_split\n",
    "from sklearn.metrics import confusion_matrix, accuracy_score"
   ]
  },
  {
   "cell_type": "code",
   "execution_count": 111,
   "metadata": {},
   "outputs": [],
   "source": [
    "filenames = glob.glob(\"data/features/*.csv\")\n",
    "converters={\"failure\": str}\n",
    "dfs= [pd.read_csv(filename, converters=converters) for filename in filenames]\n",
    "combined_df = pd.concat(dfs, ignore_index=True)\n",
    "combined_df.set_index(['timestamp', 'machineID'], inplace=True)"
   ]
  },
  {
   "cell_type": "code",
   "execution_count": 112,
   "metadata": {},
   "outputs": [
    {
     "data": {
      "text/html": [
       "<div>\n",
       "<style scoped>\n",
       "    .dataframe tbody tr th:only-of-type {\n",
       "        vertical-align: middle;\n",
       "    }\n",
       "\n",
       "    .dataframe tbody tr th {\n",
       "        vertical-align: top;\n",
       "    }\n",
       "\n",
       "    .dataframe thead th {\n",
       "        text-align: right;\n",
       "    }\n",
       "</style>\n",
       "<table border=\"1\" class=\"dataframe\">\n",
       "  <thead>\n",
       "    <tr style=\"text-align: right;\">\n",
       "      <th></th>\n",
       "      <th></th>\n",
       "      <th>cycle</th>\n",
       "      <th>speed_avg</th>\n",
       "      <th>temperature_avg</th>\n",
       "      <th>temperature_max</th>\n",
       "      <th>pressure_avg</th>\n",
       "      <th>rolling_average</th>\n",
       "      <th>failure</th>\n",
       "      <th>rul</th>\n",
       "    </tr>\n",
       "    <tr>\n",
       "      <th>timestamp</th>\n",
       "      <th>machineID</th>\n",
       "      <th></th>\n",
       "      <th></th>\n",
       "      <th></th>\n",
       "      <th></th>\n",
       "      <th></th>\n",
       "      <th></th>\n",
       "      <th></th>\n",
       "      <th></th>\n",
       "    </tr>\n",
       "  </thead>\n",
       "  <tbody>\n",
       "    <tr>\n",
       "      <th>2017-06-14T03:16:00.000-07:00</th>\n",
       "      <th>M_0539</th>\n",
       "      <td>15</td>\n",
       "      <td>999.619333</td>\n",
       "      <td>137.727444</td>\n",
       "      <td>137.85</td>\n",
       "      <td>1267.804056</td>\n",
       "      <td>137.751667</td>\n",
       "      <td></td>\n",
       "      <td>NaN</td>\n",
       "    </tr>\n",
       "    <tr>\n",
       "      <th>2017-06-13T05:02:00.000-07:00</th>\n",
       "      <th>M_0539</th>\n",
       "      <td>14</td>\n",
       "      <td>999.862833</td>\n",
       "      <td>137.703500</td>\n",
       "      <td>137.81</td>\n",
       "      <td>1268.091667</td>\n",
       "      <td>137.708333</td>\n",
       "      <td></td>\n",
       "      <td>NaN</td>\n",
       "    </tr>\n",
       "    <tr>\n",
       "      <th>2017-06-12T08:15:00.000-07:00</th>\n",
       "      <th>M_0539</th>\n",
       "      <td>13</td>\n",
       "      <td>999.888000</td>\n",
       "      <td>137.667417</td>\n",
       "      <td>137.78</td>\n",
       "      <td>1270.132458</td>\n",
       "      <td>137.663333</td>\n",
       "      <td></td>\n",
       "      <td>NaN</td>\n",
       "    </tr>\n",
       "    <tr>\n",
       "      <th>2017-06-11T09:13:00.000-07:00</th>\n",
       "      <th>M_0539</th>\n",
       "      <td>12</td>\n",
       "      <td>999.956375</td>\n",
       "      <td>137.624375</td>\n",
       "      <td>137.73</td>\n",
       "      <td>1270.227208</td>\n",
       "      <td>137.616667</td>\n",
       "      <td></td>\n",
       "      <td>NaN</td>\n",
       "    </tr>\n",
       "    <tr>\n",
       "      <th>2017-06-11T04:07:00.000-07:00</th>\n",
       "      <th>M_0539</th>\n",
       "      <td>11</td>\n",
       "      <td>999.954708</td>\n",
       "      <td>137.575708</td>\n",
       "      <td>137.69</td>\n",
       "      <td>1271.159125</td>\n",
       "      <td>137.570000</td>\n",
       "      <td></td>\n",
       "      <td>NaN</td>\n",
       "    </tr>\n",
       "  </tbody>\n",
       "</table>\n",
       "</div>"
      ],
      "text/plain": [
       "                                         cycle   speed_avg  temperature_avg  \\\n",
       "timestamp                     machineID                                       \n",
       "2017-06-14T03:16:00.000-07:00 M_0539        15  999.619333       137.727444   \n",
       "2017-06-13T05:02:00.000-07:00 M_0539        14  999.862833       137.703500   \n",
       "2017-06-12T08:15:00.000-07:00 M_0539        13  999.888000       137.667417   \n",
       "2017-06-11T09:13:00.000-07:00 M_0539        12  999.956375       137.624375   \n",
       "2017-06-11T04:07:00.000-07:00 M_0539        11  999.954708       137.575708   \n",
       "\n",
       "                                         temperature_max  pressure_avg  \\\n",
       "timestamp                     machineID                                  \n",
       "2017-06-14T03:16:00.000-07:00 M_0539              137.85   1267.804056   \n",
       "2017-06-13T05:02:00.000-07:00 M_0539              137.81   1268.091667   \n",
       "2017-06-12T08:15:00.000-07:00 M_0539              137.78   1270.132458   \n",
       "2017-06-11T09:13:00.000-07:00 M_0539              137.73   1270.227208   \n",
       "2017-06-11T04:07:00.000-07:00 M_0539              137.69   1271.159125   \n",
       "\n",
       "                                         rolling_average failure  rul  \n",
       "timestamp                     machineID                                \n",
       "2017-06-14T03:16:00.000-07:00 M_0539          137.751667          NaN  \n",
       "2017-06-13T05:02:00.000-07:00 M_0539          137.708333          NaN  \n",
       "2017-06-12T08:15:00.000-07:00 M_0539          137.663333          NaN  \n",
       "2017-06-11T09:13:00.000-07:00 M_0539          137.616667          NaN  \n",
       "2017-06-11T04:07:00.000-07:00 M_0539          137.570000          NaN  "
      ]
     },
     "execution_count": 112,
     "metadata": {},
     "output_type": "execute_result"
    }
   ],
   "source": [
    "combined_df.head()"
   ]
  },
  {
   "cell_type": "code",
   "execution_count": 119,
   "metadata": {},
   "outputs": [
    {
     "data": {
      "text/plain": [
       "Counter({'': 16412, 'F1': 6})"
      ]
     },
     "execution_count": 119,
     "metadata": {},
     "output_type": "execute_result"
    }
   ],
   "source": [
    "seed = 42\n",
    "w = 8\n",
    "\n",
    "clf = RandomForestClassifier(random_state=seed)\n",
    "\n",
    "combined_df.sort_index(inplace=True)\n",
    "X = combined_df.reset_index(drop = True).drop(['cycle', 'failure', 'rul'], axis=1)\n",
    "Y = combined_df.apply(lambda row: row.failure if row.rul and row.rul < w else '', axis=1)\n",
    "\n",
    "# tscv = TimeSeriesSplit(n_splits=6)\n",
    "# cross_val_score(clf, X, Y, cv=tscv)\n",
    "\n",
    "# for train_index, test_index in tscv.split(X):\n",
    "#     train = X[[train_index]]\n",
    "#     test = X[[test_index]]\n",
    "\n",
    "X_train, X_test, Y_train, Y_test = train_test_split(X, Y, test_size=0.33, shuffle=False)\n",
    "sm = SMOTE(random_state=seed)\n",
    "X_train_res, Y_train_res = sm.fit_sample(X_train, Y_train)\n",
    "\n",
    "clf.fit(X_train_res, Y_train_res)\n",
    "\n",
    "c = Counter(Y_train)\n",
    "c"
   ]
  },
  {
   "cell_type": "code",
   "execution_count": 120,
   "metadata": {},
   "outputs": [
    {
     "data": {
      "text/plain": [
       "array([[8018,   19],\n",
       "       [   7,   43]])"
      ]
     },
     "execution_count": 120,
     "metadata": {},
     "output_type": "execute_result"
    },
    {
     "data": {
      "image/png": "[encoded data removed]",
      "text/plain": [
       "<matplotlib.figure.Figure at 0x7f313a73ba58>"
      ]
     },
     "metadata": {},
     "output_type": "display_data"
    }
   ],
   "source": [
    "Y_predictions = clf.predict(X_test)\n",
    "\n",
    "def plot_confusion_matrix(cm, classes,\n",
    "                          normalize=False,\n",
    "                          title='Confusion matrix',\n",
    "                          cmap=plt.cm.Blues):\n",
    "    \"\"\"\n",
    "    This function prints and plots the confusion matrix.\n",
    "    Normalization can be applied by setting `normalize=True`.\n",
    "    \"\"\"\n",
    "    if normalize:\n",
    "        orig = cm\n",
    "        cm = cm.astype('float') / cm.sum(axis=1)[:, np.newaxis]\n",
    "\n",
    "    plt.imshow(cm, interpolation='nearest', cmap=cmap)\n",
    "    plt.title(title)\n",
    "    plt.colorbar()\n",
    "    tick_marks = np.arange(len(classes))\n",
    "    plt.xticks(tick_marks, classes, rotation=45)\n",
    "    plt.yticks(tick_marks, classes)\n",
    "\n",
    "    fmt = '.2f' if normalize else 'd'\n",
    "    thresh = cm.max() / 2.\n",
    "    for i, j in itertools.product(range(cm.shape[0]), range(cm.shape[1])):\n",
    "        plt.text(j, i, format(cm[i, j], fmt) + '\\n({0})'.format(orig[i, j]),\n",
    "                 horizontalalignment=\"center\",\n",
    "                 color=\"white\" if cm[i, j] > thresh else \"black\")\n",
    "\n",
    "    plt.tight_layout()\n",
    "    plt.ylabel('True label')\n",
    "    plt.xlabel('Predicted label')\n",
    "\n",
    "cm = confusion_matrix(Y_test, Y_predictions)\n",
    "plot_confusion_matrix(cm, ['None', 'F1'], normalize=True)\n",
    "cm"
   ]
  },
  {
   "cell_type": "code",
   "execution_count": 121,
   "metadata": {},
   "outputs": [
    {
     "data": {
      "text/plain": [
       "0.9967849635217015"
      ]
     },
     "execution_count": 121,
     "metadata": {},
     "output_type": "execute_result"
    }
   ],
   "source": [
    "accuracy_score(Y_test, Y_predictions)"
   ]
  },
  {
   "cell_type": "code",
   "execution_count": 116,
   "metadata": {},
   "outputs": [
    {
     "data": {
      "text/plain": [
       "8037"
      ]
     },
     "execution_count": 116,
     "metadata": {},
     "output_type": "execute_result"
    }
   ],
   "source": [
    "Y_test.where(Y_test != 'F1').count()"
   ]
  },
  {
   "cell_type": "code",
   "execution_count": null,
   "metadata": {},
   "outputs": [],
   "source": []
  }
 ],
 "metadata": {
  "kernelspec": {
   "display_name": "Python 3",
   "language": "python",
   "name": "python3"
  },
  "language_info": {
   "codemirror_mode": {
    "name": "ipython",
    "version": 3
   },
   "file_extension": ".py",
   "mimetype": "text/x-python",
   "name": "python",
   "nbconvert_exporter": "python",
   "pygments_lexer": "ipython3",
   "version": "3.6.4"
  }
 },
 "nbformat": 4,
 "nbformat_minor": 2
}
