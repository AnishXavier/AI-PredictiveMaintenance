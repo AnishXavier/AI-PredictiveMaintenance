{
 "cells": [
  {
   "cell_type": "code",
   "execution_count": 1,
   "metadata": {},
   "outputs": [
    {
     "name": "stdout",
     "output_type": "stream",
     "text": [
      "SDK Version: 0.1.0.954785\n"
     ]
    }
   ],
   "source": [
    "# Check core SDK version number for debugging purposes\n",
    "import azureml.core\n",
    "print(\"SDK Version:\", azureml.core.VERSION)"
   ]
  },
  {
   "cell_type": "code",
   "execution_count": 2,
   "metadata": {},
   "outputs": [],
   "source": [
    "\n",
    "\n",
    "subscription_id = \"786d6510-8f1e-4ae7-b55b-5178716e6ac8\"\n",
    "resource_group = \"test-anivan\"\n",
    "workspace_name = \"workspace-test1\"\n",
    "workspace_region = 'eastus2' # or eastus2euap"
   ]
  },
  {
   "cell_type": "code",
   "execution_count": 5,
   "metadata": {},
   "outputs": [
    {
     "ename": "CLIError",
     "evalue": "Deployment failed. Correlation ID: 95649f03-7d61-451e-a1d9-2708eb6659de. {\r\n  \"error\": {\r\n    \"code\": \"InvalidResourceType\",\r\n    \"message\": \"The resource type could not be found in the namespace 'Microsoft.MachineLearningServices' for api version '2018-03-01-preview'.\"\r\n  }\r\n}",
     "output_type": "error",
     "traceback": [
      "\u001b[0;31m---------------------------------------------------------------------------\u001b[0m",
      "\u001b[0;31mCloudError\u001b[0m                                Traceback (most recent call last)",
      "\u001b[0;32m~/anaconda3/lib/python3.6/site-packages/azure/cli/core/commands/__init__.py\u001b[0m in \u001b[0;36m__call__\u001b[0;34m(self, poller)\u001b[0m\n\u001b[1;32m    526\u001b[0m         \u001b[0;32mtry\u001b[0m\u001b[0;34m:\u001b[0m\u001b[0;34m\u001b[0m\u001b[0m\n\u001b[0;32m--> 527\u001b[0;31m             \u001b[0mresult\u001b[0m \u001b[0;34m=\u001b[0m \u001b[0mpoller\u001b[0m\u001b[0;34m.\u001b[0m\u001b[0mresult\u001b[0m\u001b[0;34m(\u001b[0m\u001b[0;34m)\u001b[0m\u001b[0;34m\u001b[0m\u001b[0m\n\u001b[0m\u001b[1;32m    528\u001b[0m         \u001b[0;32mexcept\u001b[0m \u001b[0mClientException\u001b[0m \u001b[0;32mas\u001b[0m \u001b[0mclient_exception\u001b[0m\u001b[0;34m:\u001b[0m\u001b[0;34m\u001b[0m\u001b[0m\n",
      "\u001b[0;32m~/anaconda3/lib/python3.6/site-packages/msrestazure/azure_operation.py\u001b[0m in \u001b[0;36mresult\u001b[0;34m(self, timeout)\u001b[0m\n\u001b[1;32m    495\u001b[0m         \"\"\"\n\u001b[0;32m--> 496\u001b[0;31m         \u001b[0mself\u001b[0m\u001b[0;34m.\u001b[0m\u001b[0mwait\u001b[0m\u001b[0;34m(\u001b[0m\u001b[0mtimeout\u001b[0m\u001b[0;34m)\u001b[0m\u001b[0;34m\u001b[0m\u001b[0m\n\u001b[0m\u001b[1;32m    497\u001b[0m         \u001b[0;32mreturn\u001b[0m \u001b[0mself\u001b[0m\u001b[0;34m.\u001b[0m\u001b[0m_operation\u001b[0m\u001b[0;34m.\u001b[0m\u001b[0mresource\u001b[0m\u001b[0;34m\u001b[0m\u001b[0m\n",
      "\u001b[0;32m~/anaconda3/lib/python3.6/site-packages/msrestazure/azure_operation.py\u001b[0m in \u001b[0;36mwait\u001b[0;34m(self, timeout)\u001b[0m\n\u001b[1;32m    510\u001b[0m         \u001b[0;32mtry\u001b[0m\u001b[0;34m:\u001b[0m\u001b[0;34m\u001b[0m\u001b[0m\n\u001b[0;32m--> 511\u001b[0;31m             \u001b[0;32mraise\u001b[0m \u001b[0mself\u001b[0m\u001b[0;34m.\u001b[0m\u001b[0m_exception\u001b[0m\u001b[0;34m\u001b[0m\u001b[0m\n\u001b[0m\u001b[1;32m    512\u001b[0m         \u001b[0;32mexcept\u001b[0m \u001b[0mTypeError\u001b[0m\u001b[0;34m:\u001b[0m\u001b[0;34m\u001b[0m\u001b[0m\n",
      "\u001b[0;31mCloudError\u001b[0m: Azure Error: DeploymentFailed\nMessage: At least one resource deployment operation failed. Please list deployment operations for details. Please see https://aka.ms/arm-debug for usage details.\nException Details:\n\tError Code: NotFound\n\tMessage: {'error': {'code': 'InvalidResourceType', 'message': \"The resource type could not be found in the namespace 'Microsoft.MachineLearningServices' for api version '2018-03-01-preview'.\"}}",
      "\nDuring handling of the above exception, another exception occurred:\n",
      "\u001b[0;31mCLIError\u001b[0m                                  Traceback (most recent call last)",
      "\u001b[0;32m<ipython-input-5-cd84e8d9ac76>\u001b[0m in \u001b[0;36m<module>\u001b[0;34m()\u001b[0m\n\u001b[1;32m      5\u001b[0m                       \u001b[0msubscription_id\u001b[0m \u001b[0;34m=\u001b[0m \u001b[0msubscription_id\u001b[0m\u001b[0;34m,\u001b[0m\u001b[0;34m\u001b[0m\u001b[0m\n\u001b[1;32m      6\u001b[0m                       \u001b[0mresource_group\u001b[0m \u001b[0;34m=\u001b[0m \u001b[0mresource_group\u001b[0m\u001b[0;34m,\u001b[0m\u001b[0;34m\u001b[0m\u001b[0m\n\u001b[0;32m----> 7\u001b[0;31m                       location = workspace_region)\n\u001b[0m\u001b[1;32m      8\u001b[0m \u001b[0mws\u001b[0m\u001b[0;34m.\u001b[0m\u001b[0mget_details\u001b[0m\u001b[0;34m(\u001b[0m\u001b[0;34m)\u001b[0m\u001b[0;34m\u001b[0m\u001b[0m\n",
      "\u001b[0;32m~/anaconda3/lib/python3.6/site-packages/azureml/core/workspace.py\u001b[0m in \u001b[0;36mcreate\u001b[0;34m(name, auth, subscription_id, resource_group, location, _friendly_name, _storage, _key_vault, _app_insights, _container_registry)\u001b[0m\n\u001b[1;32m    183\u001b[0m                                         \u001b[0mlocation\u001b[0m\u001b[0;34m=\u001b[0m\u001b[0mlocation\u001b[0m\u001b[0;34m,\u001b[0m \u001b[0mfriendly_name\u001b[0m\u001b[0;34m=\u001b[0m\u001b[0m_friendly_name\u001b[0m\u001b[0;34m,\u001b[0m\u001b[0;34m\u001b[0m\u001b[0m\n\u001b[1;32m    184\u001b[0m                                         \u001b[0mstorage\u001b[0m\u001b[0;34m=\u001b[0m\u001b[0m_storage\u001b[0m\u001b[0;34m,\u001b[0m \u001b[0mkey_vault\u001b[0m\u001b[0;34m=\u001b[0m\u001b[0m_key_vault\u001b[0m\u001b[0;34m,\u001b[0m\u001b[0;34m\u001b[0m\u001b[0m\n\u001b[0;32m--> 185\u001b[0;31m                                         app_insights=_app_insights, container_registry=_container_registry)\n\u001b[0m\u001b[1;32m    186\u001b[0m \u001b[0;34m\u001b[0m\u001b[0m\n\u001b[1;32m    187\u001b[0m     \u001b[0;34m@\u001b[0m\u001b[0mstaticmethod\u001b[0m\u001b[0;34m\u001b[0m\u001b[0m\n",
      "\u001b[0;32m~/anaconda3/lib/python3.6/site-packages/azureml/core/workspace.py\u001b[0m in \u001b[0;36m_create_legacy\u001b[0;34m(auth, subscription_id, resource_group_name, workspace_name, location, friendly_name, storage, key_vault, app_insights, container_registry)\u001b[0m\n\u001b[1;32m    634\u001b[0m                                                                \u001b[0mkey_vault\u001b[0m\u001b[0;34m=\u001b[0m\u001b[0mkey_vault\u001b[0m\u001b[0;34m,\u001b[0m\u001b[0;34m\u001b[0m\u001b[0m\n\u001b[1;32m    635\u001b[0m                                                                \u001b[0mapp_insights\u001b[0m\u001b[0;34m=\u001b[0m\u001b[0mapp_insights\u001b[0m\u001b[0;34m,\u001b[0m\u001b[0;34m\u001b[0m\u001b[0m\n\u001b[0;32m--> 636\u001b[0;31m                                                                containerRegistry=container_registry)\n\u001b[0m\u001b[1;32m    637\u001b[0m         \u001b[0;32mif\u001b[0m \u001b[0;32mnot\u001b[0m \u001b[0mworkspace_object_autorest\u001b[0m\u001b[0;34m:\u001b[0m\u001b[0;34m\u001b[0m\u001b[0m\n\u001b[1;32m    638\u001b[0m             \u001b[0;32mraise\u001b[0m \u001b[0mWorkspaceException\u001b[0m\u001b[0;34m(\u001b[0m\u001b[0;34m\"Couldn't create the workspace.\"\u001b[0m\u001b[0;34m)\u001b[0m\u001b[0;34m\u001b[0m\u001b[0m\n",
      "\u001b[0;32m~/anaconda3/lib/python3.6/site-packages/azureml/project/_commands.py\u001b[0m in \u001b[0;36mcreate_workspace\u001b[0;34m(auth, resource_group_name, workspace_name, subscription_id, location, friendly_name, storage, key_vault, app_insights, containerRegistry)\u001b[0m\n\u001b[1;32m    508\u001b[0m         \u001b[0mapp_insights\u001b[0m\u001b[0;34m=\u001b[0m\u001b[0mapp_insights\u001b[0m\u001b[0;34m,\u001b[0m\u001b[0;34m\u001b[0m\u001b[0m\n\u001b[1;32m    509\u001b[0m         \u001b[0mcontainerRegistry\u001b[0m\u001b[0;34m=\u001b[0m\u001b[0mcontainerRegistry\u001b[0m\u001b[0;34m,\u001b[0m\u001b[0;34m\u001b[0m\u001b[0m\n\u001b[0;32m--> 510\u001b[0;31m         friendly_name=friendly_name)\n\u001b[0m\u001b[1;32m    511\u001b[0m \u001b[0;34m\u001b[0m\u001b[0m\n\u001b[1;32m    512\u001b[0m \u001b[0;34m\u001b[0m\u001b[0m\n",
      "\u001b[0;32m~/anaconda3/lib/python3.6/site-packages/azureml/workspace/custom.py\u001b[0m in \u001b[0;36mml_workspace_create_resources\u001b[0;34m(auth, client, resource_group_name, workspace_name, location, subscription_id, friendly_name, storage, key_vault, app_insights, containerRegistry)\u001b[0m\n\u001b[1;32m     77\u001b[0m         \u001b[0mkeyVault\u001b[0m\u001b[0;34m=\u001b[0m\u001b[0mkey_vault\u001b[0m\u001b[0;34m,\u001b[0m\u001b[0;34m\u001b[0m\u001b[0m\n\u001b[1;32m     78\u001b[0m         \u001b[0mappInsights\u001b[0m\u001b[0;34m=\u001b[0m\u001b[0mapp_insights\u001b[0m\u001b[0;34m,\u001b[0m\u001b[0;34m\u001b[0m\u001b[0m\n\u001b[0;32m---> 79\u001b[0;31m         containerRegistry=containerRegistry)\n\u001b[0m\u001b[1;32m     80\u001b[0m     \u001b[0;32mtry\u001b[0m\u001b[0;34m:\u001b[0m\u001b[0;34m\u001b[0m\u001b[0m\n\u001b[1;32m     81\u001b[0m         \u001b[0mcreated_workspace\u001b[0m \u001b[0;34m=\u001b[0m \u001b[0mclient\u001b[0m\u001b[0;34m.\u001b[0m\u001b[0mget\u001b[0m\u001b[0;34m(\u001b[0m\u001b[0mresource_group_name\u001b[0m\u001b[0;34m,\u001b[0m \u001b[0mworkspace_name\u001b[0m\u001b[0;34m)\u001b[0m\u001b[0;34m\u001b[0m\u001b[0m\n",
      "\u001b[0;32m~/anaconda3/lib/python3.6/site-packages/azureml/workspace/_utils.py\u001b[0m in \u001b[0;36marm_deploy_template_new_resources\u001b[0;34m(auth, resource_group_name, location, subscription_id, workspace_name, deployment_name, storage, keyVault, appInsights, containerRegistry)\u001b[0m\n\u001b[1;32m    143\u001b[0m         \u001b[0mdeployment_name\u001b[0m\u001b[0;34m,\u001b[0m\u001b[0;34m\u001b[0m\u001b[0m\n\u001b[1;32m    144\u001b[0m         properties)\n\u001b[0;32m--> 145\u001b[0;31m     \u001b[0mLongRunningOperation\u001b[0m\u001b[0;34m(\u001b[0m\u001b[0mget_default_cli\u001b[0m\u001b[0;34m(\u001b[0m\u001b[0;34m)\u001b[0m\u001b[0;34m)\u001b[0m\u001b[0;34m(\u001b[0m\u001b[0mpoller\u001b[0m\u001b[0;34m)\u001b[0m\u001b[0;34m\u001b[0m\u001b[0m\n\u001b[0m\u001b[1;32m    146\u001b[0m     \u001b[0;32mreturn\u001b[0m \u001b[0mvault_name\u001b[0m\u001b[0;34m,\u001b[0m \u001b[0mstorage_name\u001b[0m\u001b[0;34m,\u001b[0m \u001b[0macr_name\u001b[0m\u001b[0;34m,\u001b[0m \u001b[0minsights_name\u001b[0m\u001b[0;34m\u001b[0m\u001b[0m\n\u001b[1;32m    147\u001b[0m \u001b[0;34m\u001b[0m\u001b[0m\n",
      "\u001b[0;32m~/anaconda3/lib/python3.6/site-packages/azure/cli/core/commands/__init__.py\u001b[0m in \u001b[0;36m__call__\u001b[0;34m(self, poller)\u001b[0m\n\u001b[1;32m    529\u001b[0m             \u001b[0;32mfrom\u001b[0m \u001b[0mazure\u001b[0m\u001b[0;34m.\u001b[0m\u001b[0mcli\u001b[0m\u001b[0;34m.\u001b[0m\u001b[0mcore\u001b[0m\u001b[0;34m.\u001b[0m\u001b[0mcommands\u001b[0m\u001b[0;34m.\u001b[0m\u001b[0marm\u001b[0m \u001b[0;32mimport\u001b[0m \u001b[0mhandle_long_running_operation_exception\u001b[0m\u001b[0;34m\u001b[0m\u001b[0m\n\u001b[1;32m    530\u001b[0m             \u001b[0mself\u001b[0m\u001b[0;34m.\u001b[0m\u001b[0mcli_ctx\u001b[0m\u001b[0;34m.\u001b[0m\u001b[0mget_progress_controller\u001b[0m\u001b[0;34m(\u001b[0m\u001b[0;34m)\u001b[0m\u001b[0;34m.\u001b[0m\u001b[0mstop\u001b[0m\u001b[0;34m(\u001b[0m\u001b[0;34m)\u001b[0m\u001b[0;34m\u001b[0m\u001b[0m\n\u001b[0;32m--> 531\u001b[0;31m             \u001b[0mhandle_long_running_operation_exception\u001b[0m\u001b[0;34m(\u001b[0m\u001b[0mclient_exception\u001b[0m\u001b[0;34m)\u001b[0m\u001b[0;34m\u001b[0m\u001b[0m\n\u001b[0m\u001b[1;32m    532\u001b[0m \u001b[0;34m\u001b[0m\u001b[0m\n\u001b[1;32m    533\u001b[0m         \u001b[0mself\u001b[0m\u001b[0;34m.\u001b[0m\u001b[0mcli_ctx\u001b[0m\u001b[0;34m.\u001b[0m\u001b[0mget_progress_controller\u001b[0m\u001b[0;34m(\u001b[0m\u001b[0;34m)\u001b[0m\u001b[0;34m.\u001b[0m\u001b[0mend\u001b[0m\u001b[0;34m(\u001b[0m\u001b[0;34m)\u001b[0m\u001b[0;34m\u001b[0m\u001b[0m\n",
      "\u001b[0;32m~/anaconda3/lib/python3.6/site-packages/azure/cli/core/commands/arm.py\u001b[0m in \u001b[0;36mhandle_long_running_operation_exception\u001b[0;34m(ex)\u001b[0m\n\u001b[1;32m    125\u001b[0m     \u001b[0;31m# capture response for downstream commands (webapp) to dig out more details\u001b[0m\u001b[0;34m\u001b[0m\u001b[0;34m\u001b[0m\u001b[0m\n\u001b[1;32m    126\u001b[0m     \u001b[0msetattr\u001b[0m\u001b[0;34m(\u001b[0m\u001b[0mcli_error\u001b[0m\u001b[0;34m,\u001b[0m \u001b[0;34m'response'\u001b[0m\u001b[0;34m,\u001b[0m \u001b[0mgetattr\u001b[0m\u001b[0;34m(\u001b[0m\u001b[0mex\u001b[0m\u001b[0;34m,\u001b[0m \u001b[0;34m'response'\u001b[0m\u001b[0;34m,\u001b[0m \u001b[0;32mNone\u001b[0m\u001b[0;34m)\u001b[0m\u001b[0;34m)\u001b[0m\u001b[0;34m\u001b[0m\u001b[0m\n\u001b[0;32m--> 127\u001b[0;31m     \u001b[0;32mraise\u001b[0m \u001b[0mcli_error\u001b[0m\u001b[0;34m\u001b[0m\u001b[0m\n\u001b[0m\u001b[1;32m    128\u001b[0m \u001b[0;34m\u001b[0m\u001b[0m\n\u001b[1;32m    129\u001b[0m \u001b[0;34m\u001b[0m\u001b[0m\n",
      "\u001b[0;31mCLIError\u001b[0m: Deployment failed. Correlation ID: 95649f03-7d61-451e-a1d9-2708eb6659de. {\r\n  \"error\": {\r\n    \"code\": \"InvalidResourceType\",\r\n    \"message\": \"The resource type could not be found in the namespace 'Microsoft.MachineLearningServices' for api version '2018-03-01-preview'.\"\r\n  }\r\n}"
     ]
    }
   ],
   "source": [
    "# import the Workspace class and check the azureml SDK version# impor \n",
    "from azureml.core.workspace import Workspace, WorkspaceException\n",
    "\n",
    "ws = Workspace.create(name = workspace_name,\n",
    "                      subscription_id = subscription_id,\n",
    "                      resource_group = resource_group, \n",
    "                      location = workspace_region)\n",
    "ws.get_details()"
   ]
  },
  {
   "cell_type": "code",
   "execution_count": null,
   "metadata": {},
   "outputs": [],
   "source": []
  }
 ],
 "metadata": {
  "kernelspec": {
   "display_name": "Python 3",
   "language": "python",
   "name": "python3"
  },
  "language_info": {
   "codemirror_mode": {
    "name": "ipython",
    "version": 3
   },
   "file_extension": ".py",
   "mimetype": "text/x-python",
   "name": "python",
   "nbconvert_exporter": "python",
   "pygments_lexer": "ipython3",
   "version": "3.6.4"
  }
 },
 "nbformat": 4,
 "nbformat_minor": 2
}
