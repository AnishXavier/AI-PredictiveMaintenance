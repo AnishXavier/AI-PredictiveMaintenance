{
 "cells": [
  {
   "cell_type": "markdown",
   "metadata": {},
   "source": [
    "# Feature Engineering\n",
    "\n",
    "In machine learning, a feature is an individual measurable attribute of a phenomenon being observed. The extraction of features from raw training data is called *feature engineering*. In other words, feature engineering is a process of transforming raw training data into a *representation* suitable for the application of machine learning algorithms.\n",
    "\n",
    "This process usually requires a certain degree of domain expertise and can be divided into the following stages <sup>[[1]](#ref_1)</sup>: \n",
    "- Brainstorming on features\n",
    "- Deciding what features to create\n",
    "- Creating features\n",
    "- Studying how the features impact model's predictive accuracy\n",
    "- Iterating if necessary"
   ]
  },
  {
   "cell_type": "code",
   "execution_count": 178,
   "metadata": {},
   "outputs": [],
   "source": [
    "%matplotlib inline\n",
    "import pyspark\n",
    "from functools import reduce\n",
    "from pyspark.sql import SparkSession, SQLContext, Window\n",
    "import pyspark.sql.functions as F\n",
    "import pandas as pd\n",
    "import matplotlib\n",
    "import matplotlib.pyplot as plt\n",
    "from pyspark.storagelevel import StorageLevel\n",
    "\n",
    "matplotlib.style.use('ggplot')"
   ]
  },
  {
   "cell_type": "markdown",
   "metadata": {},
   "source": [
    "## Reading input data"
   ]
  },
  {
   "cell_type": "code",
   "execution_count": 179,
   "metadata": {},
   "outputs": [
    {
     "name": "stdout",
     "output_type": "stream",
     "text": [
      "root\n",
      " |-- timestamp: timestamp (nullable = true)\n",
      " |-- ambient_pressure: double (nullable = true)\n",
      " |-- ambient_temperature: double (nullable = true)\n",
      " |-- machineID: string (nullable = true)\n",
      " |-- pressure: double (nullable = true)\n",
      " |-- speed: double (nullable = true)\n",
      " |-- speed_desired: long (nullable = true)\n",
      " |-- temperature: double (nullable = true)\n",
      "\n",
      "root\n",
      " |-- timestamp: timestamp (nullable = true)\n",
      " |-- code: string (nullable = true)\n",
      " |-- level: string (nullable = true)\n",
      " |-- machineID: string (nullable = true)\n",
      "\n",
      "Total:\n",
      "13046220 telemetry entries\n",
      "526\tlog entries\n"
     ]
    }
   ],
   "source": [
    "sqlContext = SQLContext(sc)\n",
    "\n",
    "telemetry_input_df = sqlContext.read.parquet('data/telemetry')\n",
    "logs_input_df = sqlContext.read.parquet('data/logs')\n",
    "\n",
    "telemetry_input_df.printSchema()\n",
    "logs_input_df.printSchema()\n",
    "\n",
    "telemetry_entries_count = telemetry_input_df.count()\n",
    "log_entries_count = logs_input_df.count()\n",
    "\n",
    "print('Total:\\n{0} telemetry entries\\n{1}\\tlog entries'.format(telemetry_entries_count, log_entries_count))"
   ]
  },
  {
   "cell_type": "markdown",
   "metadata": {},
   "source": [
    "## Data exploration"
   ]
  },
  {
   "cell_type": "code",
   "execution_count": 180,
   "metadata": {},
   "outputs": [
    {
     "name": "stdout",
     "output_type": "stream",
     "text": [
      "+--------+\n",
      "|   level|\n",
      "+--------+\n",
      "|    INFO|\n",
      "|CRITICAL|\n",
      "+--------+\n",
      "\n"
     ]
    }
   ],
   "source": [
    "logs_input_df.select('level').distinct().show()"
   ]
  },
  {
   "cell_type": "code",
   "execution_count": 181,
   "metadata": {},
   "outputs": [
    {
     "data": {
      "text/plain": [
       "array([<matplotlib.axes._subplots.AxesSubplot object at 0x7f039ea314e0>],\n",
       "      dtype=object)"
      ]
     },
     "execution_count": 181,
     "metadata": {},
     "output_type": "execute_result"
    },
    {
     "data": {
      "image/png": "[encoded data removed]",
      "text/plain": [
       "<matplotlib.figure.Figure at 0x7f039ff6b1d0>"
      ]
     },
     "metadata": {},
     "output_type": "display_data"
    }
   ],
   "source": [
    "failures_df = logs_input_df.where(F.col('level') == 'CRITICAL')\n",
    "failures_df.select('code').groupBy('code').agg(F.count(F.lit(1)).alias('count')).toPandas() \\\n",
    ".set_index('code').plot.pie(subplots=True, figsize=(5, 5))"
   ]
  },
  {
   "cell_type": "code",
   "execution_count": 182,
   "metadata": {},
   "outputs": [
    {
     "name": "stdout",
     "output_type": "stream",
     "text": [
      "1000 machine(s)\n"
     ]
    }
   ],
   "source": [
    "distinct_machines_df = telemetry_input_df.select('machineID').distinct()\n",
    "machine_count = distinct_machines_df.count()\n",
    "print('{0} machine(s)'.format(machine_count))"
   ]
  },
  {
   "cell_type": "code",
   "execution_count": 183,
   "metadata": {},
   "outputs": [
    {
     "data": {
      "text/plain": [
       "array([[<matplotlib.axes._subplots.AxesSubplot object at 0x7f039e8b6908>]],\n",
       "      dtype=object)"
      ]
     },
     "execution_count": 183,
     "metadata": {},
     "output_type": "execute_result"
    },
    {
     "data": {
      "image/png": "[encoded data removed]",
      "text/plain": [
       "<matplotlib.figure.Figure at 0x7f039ed91550>"
      ]
     },
     "metadata": {},
     "output_type": "display_data"
    }
   ],
   "source": [
    "machine_failures_df = distinct_machines_df.join(failures_df, 'machineID', 'left_outer'\n",
    "                                               ).groupBy('machineID').agg(F.count('code').alias('count'))\n",
    "machine_failures_df.toPandas().hist()"
   ]
  },
  {
   "cell_type": "code",
   "execution_count": 184,
   "metadata": {},
   "outputs": [
    {
     "data": {
      "text/html": [
       "<div>\n",
       "<style scoped>\n",
       "    .dataframe tbody tr th:only-of-type {\n",
       "        vertical-align: middle;\n",
       "    }\n",
       "\n",
       "    .dataframe tbody tr th {\n",
       "        vertical-align: top;\n",
       "    }\n",
       "\n",
       "    .dataframe thead th {\n",
       "        text-align: right;\n",
       "    }\n",
       "</style>\n",
       "<table border=\"1\" class=\"dataframe\">\n",
       "  <thead>\n",
       "    <tr style=\"text-align: right;\">\n",
       "      <th></th>\n",
       "      <th>ambient_pressure</th>\n",
       "      <th>ambient_temperature</th>\n",
       "      <th>pressure</th>\n",
       "      <th>speed</th>\n",
       "      <th>speed_desired</th>\n",
       "      <th>temperature</th>\n",
       "    </tr>\n",
       "  </thead>\n",
       "  <tbody>\n",
       "    <tr>\n",
       "      <th>count</th>\n",
       "      <td>11968.000000</td>\n",
       "      <td>11968.000000</td>\n",
       "      <td>11968.000000</td>\n",
       "      <td>11968.000000</td>\n",
       "      <td>11968.0</td>\n",
       "      <td>11968.000000</td>\n",
       "    </tr>\n",
       "    <tr>\n",
       "      <th>mean</th>\n",
       "      <td>100.999734</td>\n",
       "      <td>19.999571</td>\n",
       "      <td>1469.895542</td>\n",
       "      <td>1232.489508</td>\n",
       "      <td>1000.0</td>\n",
       "      <td>145.654403</td>\n",
       "    </tr>\n",
       "    <tr>\n",
       "      <th>std</th>\n",
       "      <td>0.057540</td>\n",
       "      <td>0.058093</td>\n",
       "      <td>426.872350</td>\n",
       "      <td>82.169083</td>\n",
       "      <td>0.0</td>\n",
       "      <td>12.077053</td>\n",
       "    </tr>\n",
       "    <tr>\n",
       "      <th>min</th>\n",
       "      <td>100.900000</td>\n",
       "      <td>19.900000</td>\n",
       "      <td>217.880000</td>\n",
       "      <td>614.650000</td>\n",
       "      <td>1000.0</td>\n",
       "      <td>22.750000</td>\n",
       "    </tr>\n",
       "    <tr>\n",
       "      <th>25%</th>\n",
       "      <td>100.950000</td>\n",
       "      <td>19.950000</td>\n",
       "      <td>1120.655000</td>\n",
       "      <td>1169.570000</td>\n",
       "      <td>1000.0</td>\n",
       "      <td>135.600000</td>\n",
       "    </tr>\n",
       "    <tr>\n",
       "      <th>50%</th>\n",
       "      <td>101.000000</td>\n",
       "      <td>20.000000</td>\n",
       "      <td>1435.130000</td>\n",
       "      <td>1180.380000</td>\n",
       "      <td>1000.0</td>\n",
       "      <td>136.890000</td>\n",
       "    </tr>\n",
       "    <tr>\n",
       "      <th>75%</th>\n",
       "      <td>101.050000</td>\n",
       "      <td>20.050000</td>\n",
       "      <td>1837.322500</td>\n",
       "      <td>1276.217500</td>\n",
       "      <td>1000.0</td>\n",
       "      <td>153.130000</td>\n",
       "    </tr>\n",
       "    <tr>\n",
       "      <th>max</th>\n",
       "      <td>101.100000</td>\n",
       "      <td>20.100000</td>\n",
       "      <td>2718.230000</td>\n",
       "      <td>1768.060000</td>\n",
       "      <td>1000.0</td>\n",
       "      <td>214.940000</td>\n",
       "    </tr>\n",
       "  </tbody>\n",
       "</table>\n",
       "</div>"
      ],
      "text/plain": [
       "       ambient_pressure  ambient_temperature      pressure         speed  \\\n",
       "count      11968.000000         11968.000000  11968.000000  11968.000000   \n",
       "mean         100.999734            19.999571   1469.895542   1232.489508   \n",
       "std            0.057540             0.058093    426.872350     82.169083   \n",
       "min          100.900000            19.900000    217.880000    614.650000   \n",
       "25%          100.950000            19.950000   1120.655000   1169.570000   \n",
       "50%          101.000000            20.000000   1435.130000   1180.380000   \n",
       "75%          101.050000            20.050000   1837.322500   1276.217500   \n",
       "max          101.100000            20.100000   2718.230000   1768.060000   \n",
       "\n",
       "       speed_desired   temperature  \n",
       "count        11968.0  11968.000000  \n",
       "mean          1000.0    145.654403  \n",
       "std              0.0     12.077053  \n",
       "min           1000.0     22.750000  \n",
       "25%           1000.0    135.600000  \n",
       "50%           1000.0    136.890000  \n",
       "75%           1000.0    153.130000  \n",
       "max           1000.0    214.940000  "
      ]
     },
     "execution_count": 184,
     "metadata": {},
     "output_type": "execute_result"
    }
   ],
   "source": [
    "machineID = machine_failures_df.orderBy(F.desc('count')).first().machineID\n",
    "\n",
    "machine_sequence_df = telemetry_input_df.where(telemetry_input_df.machineID == machineID).orderBy(telemetry_input_df.timestamp)\n",
    "#machine_sequence_df.persist(StorageLevel.MEMORY_ONLY)\n",
    "pdf = machine_sequence_df.toPandas()\n",
    "pdf.set_index('timestamp', inplace=True)\n",
    "pdf.describe()"
   ]
  },
  {
   "cell_type": "code",
   "execution_count": 185,
   "metadata": {},
   "outputs": [
    {
     "data": {
      "text/plain": [
       "<matplotlib.axes._subplots.AxesSubplot at 0x7f03a00f7ef0>"
      ]
     },
     "execution_count": 185,
     "metadata": {},
     "output_type": "execute_result"
    },
    {
     "data": {
      "image/png": "[encoded data removed]",
      "text/plain": [
       "<matplotlib.figure.Figure at 0x7f039e9d26a0>"
      ]
     },
     "metadata": {},
     "output_type": "display_data"
    }
   ],
   "source": [
    "pdf.plot(title=machineID , style=\".\", y='speed_desired')"
   ]
  },
  {
   "cell_type": "markdown",
   "metadata": {},
   "source": [
    "## Feature creation\n",
    "\n",
    "### Operational cycles"
   ]
  },
  {
   "cell_type": "code",
   "execution_count": 186,
   "metadata": {},
   "outputs": [
    {
     "data": {
      "text/plain": [
       "array([<matplotlib.axes._subplots.AxesSubplot object at 0x7f03a073b208>,\n",
       "       <matplotlib.axes._subplots.AxesSubplot object at 0x7f039ec96cf8>,\n",
       "       <matplotlib.axes._subplots.AxesSubplot object at 0x7f039ec05748>],\n",
       "      dtype=object)"
      ]
     },
     "execution_count": 186,
     "metadata": {},
     "output_type": "execute_result"
    },
    {
     "data": {
      "image/png": "[encoded data removed]",
      "text/plain": [
       "<matplotlib.figure.Figure at 0x7f03a073b9b0>"
      ]
     },
     "metadata": {},
     "output_type": "display_data"
    }
   ],
   "source": [
    "def cycles(df):\n",
    "    w = Window.partitionBy('machineID').orderBy('timestamp')\n",
    "\n",
    "    # Difference from the previous record or 0 if this is the first one\n",
    "    diff = F.coalesce(F.unix_timestamp('timestamp') - F.unix_timestamp(F.lag('timestamp', 1).over(w)), F.lit(0))\n",
    "\n",
    "    # 0 if diff <= 30, 1 otherwise\n",
    "    indicator = (diff > 30).cast('integer')\n",
    "\n",
    "    subgroup = F.sum(indicator).over(w).alias('cycle')\n",
    "\n",
    "    return df.select(\"*\", subgroup).groupBy('machineID', 'cycle').agg(\n",
    "        F.avg('speed').alias('speed_avg'),\n",
    "        F.avg('temperature').alias('temperature_avg'),\n",
    "        F.max('temperature').alias('temperature_max'),\n",
    "        F.avg('pressure').alias('pressure_avg'),\n",
    "        F.max('pressure').alias('pressure_max'),\n",
    "        F.min('timestamp').alias('cycle_start'),\n",
    "        F.max('timestamp').alias('cycle_end')\n",
    "    ).orderBy('cycle')\n",
    "\n",
    "msdf_cycles = cycles(machine_sequence_df)\n",
    "msdf_cycles[['temperature_avg', 'temperature_max', 'pressure_avg']].toPandas().plot(subplots=True, title='Cycle features')"
   ]
  },
  {
   "cell_type": "code",
   "execution_count": 187,
   "metadata": {},
   "outputs": [],
   "source": [
    "cycles_df = cycles(telemetry_input_df)\n",
    "#print(cycles_df.count())\n",
    "\n",
    "#cycles_df.select(F.max(F.col('cycle_start'))).show()"
   ]
  },
  {
   "cell_type": "markdown",
   "metadata": {},
   "source": [
    "### Labeling"
   ]
  },
  {
   "cell_type": "code",
   "execution_count": 188,
   "metadata": {},
   "outputs": [
    {
     "data": {
      "text/html": [
       "<div>\n",
       "<style scoped>\n",
       "    .dataframe tbody tr th:only-of-type {\n",
       "        vertical-align: middle;\n",
       "    }\n",
       "\n",
       "    .dataframe tbody tr th {\n",
       "        vertical-align: top;\n",
       "    }\n",
       "\n",
       "    .dataframe thead th {\n",
       "        text-align: right;\n",
       "    }\n",
       "</style>\n",
       "<table border=\"1\" class=\"dataframe\">\n",
       "  <thead>\n",
       "    <tr style=\"text-align: right;\">\n",
       "      <th></th>\n",
       "      <th>failure_timestamp</th>\n",
       "      <th>failure</th>\n",
       "      <th>machineID</th>\n",
       "      <th>last_failure_timestamp</th>\n",
       "    </tr>\n",
       "  </thead>\n",
       "  <tbody>\n",
       "    <tr>\n",
       "      <th>0</th>\n",
       "      <td>2017-06-22 18:00:48</td>\n",
       "      <td>F2</td>\n",
       "      <td>M_0925</td>\n",
       "      <td>2000-01-01 00:00:00</td>\n",
       "    </tr>\n",
       "    <tr>\n",
       "      <th>1</th>\n",
       "      <td>2017-08-07 23:22:40</td>\n",
       "      <td>F1</td>\n",
       "      <td>M_0925</td>\n",
       "      <td>2017-06-22 18:00:48</td>\n",
       "    </tr>\n",
       "  </tbody>\n",
       "</table>\n",
       "</div>"
      ],
      "text/plain": [
       "    failure_timestamp failure machineID last_failure_timestamp\n",
       "0 2017-06-22 18:00:48      F2    M_0925    2000-01-01 00:00:00\n",
       "1 2017-08-07 23:22:40      F1    M_0925    2017-06-22 18:00:48"
      ]
     },
     "execution_count": 188,
     "metadata": {},
     "output_type": "execute_result"
    }
   ],
   "source": [
    "w = Window.partitionBy('machineID', 'level').orderBy('timestamp')\n",
    "diff = F.coalesce(F.lag('timestamp', 1).over(w), F.to_timestamp(F.lit('2000-01-01 00:00:00')))\n",
    "\n",
    "failure_intervals_df = (failures_df\n",
    "                .withColumn('last_failure_timestamp', diff)\n",
    "                .withColumnRenamed('timestamp', 'failure_timestamp')\n",
    "                .withColumnRenamed('code', 'failure')\n",
    "                .drop('level'))\n",
    "\n",
    "failure_intervals_df.where(F.col('machineID') == machineID).toPandas()"
   ]
  },
  {
   "cell_type": "code",
   "execution_count": 189,
   "metadata": {},
   "outputs": [
    {
     "data": {
      "text/plain": [
       "<matplotlib.axes._subplots.AxesSubplot at 0x7f03a02797f0>"
      ]
     },
     "execution_count": 189,
     "metadata": {},
     "output_type": "execute_result"
    },
    {
     "data": {
      "image/png": "[encoded data removed]",
      "text/plain": [
       "<matplotlib.figure.Figure at 0x7f039e7550b8>"
      ]
     },
     "metadata": {},
     "output_type": "display_data"
    }
   ],
   "source": [
    "labeled_cycles_df = (cycles_df.join(failure_intervals_df,\n",
    "                                       (cycles_df.machineID == failure_intervals_df.machineID) &\n",
    "                                       (cycles_df.cycle_start >= failure_intervals_df.last_failure_timestamp) &\n",
    "                                       (cycles_df.cycle_end <= failure_intervals_df.failure_timestamp),\n",
    "                                       'left_outer')\n",
    "                     .drop(failure_intervals_df.machineID)\n",
    "                     .drop(cycles_df.cycle_end)\n",
    "                     .drop(failure_intervals_df.last_failure_timestamp)\n",
    "                     .withColumnRenamed('cycle_start', 'timestamp')\n",
    "                     .withColumn(\n",
    "                         'rul',                         \n",
    "                          F.when(F.col('failure').isNull(), None).otherwise(\n",
    "                             F.row_number().over(Window.partitionBy('machineID', 'failure_timestamp')\n",
    "                                             .orderBy(F.desc('cycle')))))\n",
    "                     .withColumn(\n",
    "                         'sequenceID',\n",
    "                         F.dense_rank().over(Window.partitionBy('machineID')\n",
    "                                       .orderBy(F.desc('failure'), 'failure_timestamp')))\n",
    "                     .drop(failure_intervals_df.failure_timestamp))\n",
    "\n",
    "#labeled_cycles_df.where(F.col('machineID') == 'M_0000').orderBy(F.asc('rul')).toPandas().head()\n",
    "#failures_df.where(F.col('machineID') == 'M_0000').toPandas().head()\n",
    "t = labeled_cycles_df.where(F.col('machineID') == machineID).select('timestamp', 'sequenceID', 'failure').toPandas()\n",
    "\n",
    "t.set_index('timestamp').plot(style='.')"
   ]
  },
  {
   "cell_type": "markdown",
   "metadata": {},
   "source": [
    "### Augmenting data with lag features"
   ]
  },
  {
   "cell_type": "code",
   "execution_count": 190,
   "metadata": {},
   "outputs": [
    {
     "name": "stdout",
     "output_type": "stream",
     "text": [
      "root\n",
      " |-- machineID: string (nullable = true)\n",
      " |-- cycle: long (nullable = true)\n",
      " |-- speed_avg: double (nullable = true)\n",
      " |-- temperature_avg: double (nullable = true)\n",
      " |-- temperature_max: double (nullable = true)\n",
      " |-- pressure_avg: double (nullable = true)\n",
      " |-- pressure_max: double (nullable = true)\n",
      " |-- timestamp: timestamp (nullable = true)\n",
      " |-- failure: string (nullable = true)\n",
      " |-- rul: integer (nullable = true)\n",
      " |-- sequenceID: integer (nullable = true)\n",
      "\n"
     ]
    }
   ],
   "source": [
    "labeled_cycles_df.printSchema()"
   ]
  },
  {
   "cell_type": "code",
   "execution_count": 191,
   "metadata": {},
   "outputs": [],
   "source": [
    "lookback = 5\n",
    "w = Window.partitionBy('machineID', 'sequenceID').rowsBetween(-lookback, Window.currentRow).orderBy('cycle')\n",
    "\n",
    "input_columns = ['temperature_avg', 'temperature_max', 'pressure_avg', 'pressure_max']\n",
    "\n",
    "augmented_labeled_cycles_df = (reduce(lambda _df, ic: _df.withColumn('{0}_avg'.format(ic), F.avg(ic).over(w)), input_columns, labeled_cycles_df)\n",
    "                               .withColumn('is_valid', F.count(F.lit(1)).over(w) > lookback)\n",
    "                               .where(F.col('is_valid'))\n",
    "                               .drop('is_valid'))"
   ]
  },
  {
   "cell_type": "markdown",
   "metadata": {},
   "source": [
    "## Persisting the labeled feature data set"
   ]
  },
  {
   "cell_type": "code",
   "execution_count": 192,
   "metadata": {},
   "outputs": [],
   "source": [
    "% rm -rf data/features\n",
    "\n",
    "augmented_labeled_cycles_df.coalesce(5).write.csv('data/features', header=True)"
   ]
  },
  {
   "cell_type": "markdown",
   "metadata": {},
   "source": [
    "## References\n",
    "http://waset.org/publications/10006640/building-a-scalable-telemetry-based-multiclass-predictive-maintenance-model-in-r\n",
    "http://citeseerx.ist.psu.edu/viewdoc/download?doi=10.1.1.386.8108&rep=rep1&type=pdf"
   ]
  }
 ],
 "metadata": {
  "kernelspec": {
   "display_name": "PySpark",
   "language": "python",
   "name": "pyspark"
  },
  "language_info": {
   "codemirror_mode": {
    "name": "ipython",
    "version": 3
   },
   "file_extension": ".py",
   "mimetype": "text/x-python",
   "name": "python",
   "nbconvert_exporter": "python",
   "pygments_lexer": "ipython3",
   "version": "3.6.4"
  }
 },
 "nbformat": 4,
 "nbformat_minor": 2
}
