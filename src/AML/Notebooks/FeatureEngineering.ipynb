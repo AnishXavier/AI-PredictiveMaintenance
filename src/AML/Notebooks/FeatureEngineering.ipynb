{
 "cells": [
  {
   "cell_type": "code",
   "execution_count": 1,
   "metadata": {},
   "outputs": [],
   "source": [
    "import os\n",
    "import json\n",
    "import pickle\n",
    "import pyspark\n",
    "from functools import reduce\n",
    "from pyspark.sql import SparkSession, SQLContext\n",
    "from pyspark.sql.functions import udf, mean, lit, stddev, col, expr, when\n",
    "from pyspark.sql.types import DoubleType, ArrayType, ShortType, LongType, IntegerType\n",
    "import pandas as pd\n",
    "from collections import OrderedDict\n",
    "from datetime import date\n",
    "import numpy as np\n",
    "from scipy import signal\n",
    "%matplotlib inline\n",
    "import matplotlib.pyplot as plt\n",
    "from pyspark.storagelevel import StorageLevel\n",
    "\n",
    "from azureml.api.schema.dataTypes import DataTypes\n",
    "from azureml.api.schema.sampleDefinition import SampleDefinition\n",
    "from azureml.api.realtime.services import generate_schema"
   ]
  },
  {
   "cell_type": "code",
   "execution_count": 3,
   "metadata": {},
   "outputs": [
    {
     "name": "stdout",
     "output_type": "stream",
     "text": [
      "root\n",
      " |-- EnqueuedTimeUtc: string (nullable = true)\n",
      " |-- Properties: map (nullable = true)\n",
      " |    |-- key: string\n",
      " |    |-- value: string (valueContainsNull = true)\n",
      " |-- SystemProperties: map (nullable = true)\n",
      " |    |-- key: string\n",
      " |    |-- value: string (valueContainsNull = true)\n",
      " |-- Body: binary (nullable = true)\n",
      "\n"
     ]
    }
   ],
   "source": [
    "STORAGE_ACCOUNT_SUFFIX = 'core.windows.net'\n",
    "STORAGE_ACCOUNT_NAME = os.environ['STORAGE_ACCOUNT_NAME']\n",
    "TELEMETRY_CONTAINER_NAME = 'telemetry'\n",
    "\n",
    "wasbUrlInput = \"wasb://{0}@{1}.blob.{2}/*/*/*/*/*/*/*\".format(\n",
    "            TELEMETRY_CONTAINER_NAME,\n",
    "            STORAGE_ACCOUNT_NAME,\n",
    "            STORAGE_ACCOUNT_SUFFIX)\n",
    "\n",
    "sc = SparkSession.builder.getOrCreate()\n",
    "\n",
    "hc = sc._jsc.hadoopConfiguration()\n",
    "hc.set(\"avro.mapred.ignore.inputs.without.extension\", \"false\")\n",
    "# hc.set(\"fs.azure.account.key.{}.blob.core.windows.net\".format(STORAGE_ACCOUNT_NAME), STORAGE_ACCOUNT_KEY)\n",
    "\n",
    "sql = SQLContext.getOrCreate(sc)\n",
    "\n",
    "df = sql.read.format(\"com.databricks.spark.avro\").load(wasbUrlInput)\n",
    "\n",
    "df.printSchema()"
   ]
  },
  {
   "cell_type": "code",
   "execution_count": 4,
   "metadata": {},
   "outputs": [
    {
     "name": "stdout",
     "output_type": "stream",
     "text": [
      "Message count: 134741\n"
     ]
    }
   ],
   "source": [
    "print('Message count: {0}'.format(df.count()))"
   ]
  },
  {
   "cell_type": "code",
   "execution_count": 5,
   "metadata": {},
   "outputs": [],
   "source": [
    "sample_rate = 8000\n",
    "\n",
    "def extract_double(c):\n",
    "    return udf(lambda x: float(pickle.loads(x)[c]), DoubleType())\n",
    "\n",
    "def extract_array(c):\n",
    "    return udf(lambda x: pickle.loads(x)[c], ArrayType(ShortType()))\n",
    "\n",
    "def extract_amplitude_spectrum(c):\n",
    "    def m(x):\n",
    "        ampl = np.abs(np.fft.fft(pickle.loads(x)[c])) / sample_rate\n",
    "        return ampl[:sample_rate // 2 + 1].tolist()\n",
    "                      \n",
    "    return udf(m, ArrayType(DoubleType()))\n",
    "\n",
    "def extract_dominant_frequencies(index):\n",
    "    def m(ff):\n",
    "        freq = np.fft.fftfreq(sample_rate, d = 1/sample_rate)[:sample_rate // 2 + 1]\n",
    "        return [float(f[index]) for f in sorted(list(zip(freq, ff)), key = lambda x: x[1], reverse = True)]\n",
    "    \n",
    "    return udf(m, ArrayType(DoubleType()))\n",
    "\n",
    "\n",
    "dfa = (df\n",
    "       .withColumn('machineID', df.SystemProperties['connectionDeviceId'])\n",
    "       .withColumn(\"ambient_temperature\", extract_double(\"ambient_temperature\")(df.Body))\n",
    "       .withColumn(\"ambient_pressure\", extract_double(\"ambient_pressure\")(df.Body))\n",
    "       .withColumn(\"speed\", extract_double(\"speed\")(df.Body))\n",
    "       .withColumn(\"temperature\", extract_double(\"temperature\")(df.Body))\n",
    "       .withColumn(\"pressure\", extract_double(\"pressure\")(df.Body))\n",
    "       .withColumn(\"vibration\", extract_array(\"vibration\")(df.Body))\n",
    "       .withColumn(\"fft\", extract_amplitude_spectrum(\"vibration\")(df.Body))\n",
    "       .drop('Properties', 'SystemProperties', 'Body'))\n",
    "\n",
    "dfa = (dfa\n",
    "       .withColumn(\"dominant_frequencies\", extract_dominant_frequencies(0)(dfa.fft))\n",
    "       .withColumn(\"dominant_frequencies_amplitudes\", extract_dominant_frequencies(1)(dfa.fft)))"
   ]
  },
  {
   "cell_type": "code",
   "execution_count": 6,
   "metadata": {},
   "outputs": [
    {
     "name": "stdout",
     "output_type": "stream",
     "text": [
      "root\n",
      " |-- EnqueuedTimeUtc: string (nullable = true)\n",
      " |-- machineID: string (nullable = true)\n",
      " |-- ambient_temperature: double (nullable = true)\n",
      " |-- ambient_pressure: double (nullable = true)\n",
      " |-- speed: double (nullable = true)\n",
      " |-- temperature: double (nullable = true)\n",
      " |-- pressure: double (nullable = true)\n",
      " |-- vibration: array (nullable = true)\n",
      " |    |-- element: short (containsNull = true)\n",
      " |-- fft: array (nullable = true)\n",
      " |    |-- element: double (containsNull = true)\n",
      " |-- dominant_frequencies: array (nullable = true)\n",
      " |    |-- element: double (containsNull = true)\n",
      " |-- dominant_frequencies_amplitudes: array (nullable = true)\n",
      " |    |-- element: double (containsNull = true)\n",
      "\n"
     ]
    }
   ],
   "source": [
    "#df.unpersist()\n",
    "dfa.printSchema()\n",
    "input_features = [\"ambient_temperature\", \"ambient_pressure\", \"speed\", \"temperature\", \"pressure\", \"vibration\"]\n",
    "input_sample = dfa.limit(5).select(input_features)\n",
    "\n",
    "# define the input data frame\n",
    "inputs = {\"input_df\": SampleDefinition(DataTypes.SPARK, input_sample)}\n",
    "\n",
    "def run(input_df):\n",
    "    pass\n",
    "\n",
    "json_schema = generate_schema(run_func=run, inputs=inputs, filepath='../service_schema.json')"
   ]
  },
  {
   "cell_type": "code",
   "execution_count": 7,
   "metadata": {},
   "outputs": [
    {
     "data": {
      "image/png": "[encoded data removed]",
      "text/plain": [
       "<Figure size 432x288 with 1 Axes>"
      ]
     },
     "metadata": {},
     "output_type": "display_data"
    }
   ],
   "source": [
    "#dfa.limit(5).toPandas()\n",
    "plt.plot(dfa.first().fft)\n",
    "plt.show()"
   ]
  },
  {
   "cell_type": "code",
   "execution_count": 8,
   "metadata": {},
   "outputs": [
    {
     "ename": "ValueError",
     "evalue": "need at least one array to concatenate",
     "output_type": "error",
     "traceback": [
      "\u001b[0;31m---------------------------------------------------------------------------\u001b[0m",
      "\u001b[0;31mValueError\u001b[0m                                Traceback (most recent call last)",
      "\u001b[0;32m<ipython-input-8-28ae51846434>\u001b[0m in \u001b[0;36m<module>\u001b[0;34m()\u001b[0m\n\u001b[1;32m      1\u001b[0m \u001b[0mk\u001b[0m \u001b[0;34m=\u001b[0m \u001b[0mdfa\u001b[0m\u001b[0;34m.\u001b[0m\u001b[0mwhere\u001b[0m\u001b[0;34m(\u001b[0m\u001b[0mdfa\u001b[0m\u001b[0;34m.\u001b[0m\u001b[0mmachineID\u001b[0m \u001b[0;34m==\u001b[0m \u001b[0;34m'pm1-353'\u001b[0m\u001b[0;34m)\u001b[0m\u001b[0;34m.\u001b[0m\u001b[0morderBy\u001b[0m\u001b[0;34m(\u001b[0m\u001b[0;34m'EnqueuedTimeUtc'\u001b[0m\u001b[0;34m)\u001b[0m\u001b[0;34m.\u001b[0m\u001b[0mtake\u001b[0m\u001b[0;34m(\u001b[0m\u001b[0;36m100\u001b[0m\u001b[0;34m)\u001b[0m\u001b[0;34m\u001b[0m\u001b[0m\n\u001b[0;32m----> 2\u001b[0;31m \u001b[0mk\u001b[0m \u001b[0;34m=\u001b[0m \u001b[0mnp\u001b[0m\u001b[0;34m.\u001b[0m\u001b[0mconcatenate\u001b[0m\u001b[0;34m(\u001b[0m\u001b[0mnp\u001b[0m\u001b[0;34m.\u001b[0m\u001b[0marray\u001b[0m\u001b[0;34m(\u001b[0m\u001b[0;34m[\u001b[0m\u001b[0mx\u001b[0m\u001b[0;34m.\u001b[0m\u001b[0mvibration\u001b[0m \u001b[0;32mfor\u001b[0m \u001b[0mx\u001b[0m \u001b[0;32min\u001b[0m \u001b[0mk\u001b[0m\u001b[0;34m]\u001b[0m\u001b[0;34m)\u001b[0m\u001b[0;34m)\u001b[0m\u001b[0;34m\u001b[0m\u001b[0m\n\u001b[0m",
      "\u001b[0;31mValueError\u001b[0m: need at least one array to concatenate"
     ]
    }
   ],
   "source": [
    "k = dfa.where(dfa.machineID == 'pm1-353').orderBy('EnqueuedTimeUtc').take(100)\n",
    "k = np.concatenate(np.array([x.vibration for x in k]))"
   ]
  },
  {
   "cell_type": "code",
   "execution_count": null,
   "metadata": {},
   "outputs": [],
   "source": [
    "freqs, times, Sx = signal.spectrogram(k, fs=8000, window='hanning',\n",
    "                                      nperseg=4096, noverlap=4096 - 100,\n",
    "                                      detrend=False, scaling='spectrum')\n",
    "f, ax = plt.subplots(figsize=(9, 5))\n",
    "ax.pcolormesh(times, freqs, 10 * np.log10(Sx), cmap='viridis')\n",
    "ax.set_ylabel('Frequency [kHz]')\n",
    "ax.set_xlabel('Time [s]')\n",
    "plt.show()"
   ]
  },
  {
   "cell_type": "code",
   "execution_count": 9,
   "metadata": {},
   "outputs": [
    {
     "data": {
      "text/html": [
       "<div>\n",
       "<style>\n",
       "    .dataframe thead tr:only-child th {\n",
       "        text-align: right;\n",
       "    }\n",
       "\n",
       "    .dataframe thead th {\n",
       "        text-align: left;\n",
       "    }\n",
       "\n",
       "    .dataframe tbody tr th {\n",
       "        vertical-align: top;\n",
       "    }\n",
       "</style>\n",
       "<table border=\"1\" class=\"dataframe\">\n",
       "  <thead>\n",
       "    <tr style=\"text-align: right;\">\n",
       "      <th></th>\n",
       "      <th>0</th>\n",
       "      <th>1</th>\n",
       "    </tr>\n",
       "  </thead>\n",
       "  <tbody>\n",
       "    <tr>\n",
       "      <th>0</th>\n",
       "      <td>43.0</td>\n",
       "      <td>267.467196</td>\n",
       "    </tr>\n",
       "    <tr>\n",
       "      <th>1</th>\n",
       "      <td>87.0</td>\n",
       "      <td>232.575952</td>\n",
       "    </tr>\n",
       "    <tr>\n",
       "      <th>2</th>\n",
       "      <td>46.0</td>\n",
       "      <td>218.129581</td>\n",
       "    </tr>\n",
       "    <tr>\n",
       "      <th>3</th>\n",
       "      <td>110.0</td>\n",
       "      <td>217.559215</td>\n",
       "    </tr>\n",
       "    <tr>\n",
       "      <th>4</th>\n",
       "      <td>112.0</td>\n",
       "      <td>209.578698</td>\n",
       "    </tr>\n",
       "  </tbody>\n",
       "</table>\n",
       "</div>"
      ],
      "text/plain": [
       "       0           1\n",
       "0   43.0  267.467196\n",
       "1   87.0  232.575952\n",
       "2   46.0  218.129581\n",
       "3  110.0  217.559215\n",
       "4  112.0  209.578698"
      ]
     },
     "execution_count": 9,
     "metadata": {},
     "output_type": "execute_result"
    }
   ],
   "source": [
    "freq = np.fft.fftfreq(sample_rate, d = 1/sample_rate)[:sample_rate // 2 + 1]\n",
    "max_freq = sorted(list(zip(freq, dfa.sample(False, 0.1, seed=0).first().fft)), key = lambda x: x[1], reverse = True)[10 : ]\n",
    "pdf = pd.DataFrame.from_records(max_freq)\n",
    "pdf.head()"
   ]
  },
  {
   "cell_type": "code",
   "execution_count": 10,
   "metadata": {},
   "outputs": [
    {
     "data": {
      "text/plain": [
       "DataFrame[EnqueuedTimeUtc: string, machineID: string, ambient_temperature: double, ambient_pressure: double, speed: double, temperature: double, pressure: double, f0: double, f1: double, f2: double, a0: double, a1: double, a2: double]"
      ]
     },
     "execution_count": 10,
     "metadata": {},
     "output_type": "execute_result"
    }
   ],
   "source": [
    "frequency_features = 3\n",
    "dfa = reduce(lambda _df, i: _df.withColumn('f{0}'.format(i), _df.dominant_frequencies[i]), range(frequency_features), dfa)\n",
    "dfa = reduce(lambda _df, i: _df.withColumn('a{0}'.format(i), _df.dominant_frequencies_amplitudes[i]), range(frequency_features), dfa)\n",
    "dfa = dfa.drop('vibration', 'fft', 'dominant_frequencies', 'dominant_frequencies_amplitudes')\n",
    "dfa.persist(StorageLevel.MEMORY_AND_DISK)"
   ]
  },
  {
   "cell_type": "code",
   "execution_count": 11,
   "metadata": {},
   "outputs": [],
   "source": [
    "dependent_features = [c for c in dfa.columns if c not in ['machineID', 'EnqueuedTimeUtc', 'speed', 'ambient_pressure', 'ambient_temperature']]\n",
    "dfa = reduce(lambda _df, f: _df.withColumn('{0}_n'.format(f), col(f) / col('speed')), dependent_features, dfa)"
   ]
  },
  {
   "cell_type": "code",
   "execution_count": 12,
   "metadata": {},
   "outputs": [
    {
     "data": {
      "text/html": [
       "<div>\n",
       "<style>\n",
       "    .dataframe thead tr:only-child th {\n",
       "        text-align: right;\n",
       "    }\n",
       "\n",
       "    .dataframe thead th {\n",
       "        text-align: left;\n",
       "    }\n",
       "\n",
       "    .dataframe tbody tr th {\n",
       "        vertical-align: top;\n",
       "    }\n",
       "</style>\n",
       "<table border=\"1\" class=\"dataframe\">\n",
       "  <thead>\n",
       "    <tr style=\"text-align: right;\">\n",
       "      <th></th>\n",
       "      <th>EnqueuedTimeUtc</th>\n",
       "      <th>machineID</th>\n",
       "      <th>ambient_temperature</th>\n",
       "      <th>ambient_pressure</th>\n",
       "      <th>speed</th>\n",
       "      <th>temperature</th>\n",
       "      <th>pressure</th>\n",
       "      <th>f0</th>\n",
       "      <th>f1</th>\n",
       "      <th>f2</th>\n",
       "      <th>...</th>\n",
       "      <th>a1</th>\n",
       "      <th>a2</th>\n",
       "      <th>temperature_n</th>\n",
       "      <th>pressure_n</th>\n",
       "      <th>f0_n</th>\n",
       "      <th>f1_n</th>\n",
       "      <th>f2_n</th>\n",
       "      <th>a0_n</th>\n",
       "      <th>a1_n</th>\n",
       "      <th>a2_n</th>\n",
       "    </tr>\n",
       "  </thead>\n",
       "  <tbody>\n",
       "    <tr>\n",
       "      <th>0</th>\n",
       "      <td>2018-03-18T22:39:27.1700000Z</td>\n",
       "      <td>pm1-354</td>\n",
       "      <td>20.0</td>\n",
       "      <td>101.0</td>\n",
       "      <td>1220.0</td>\n",
       "      <td>44.844100</td>\n",
       "      <td>2439.076271</td>\n",
       "      <td>244.0</td>\n",
       "      <td>81.0</td>\n",
       "      <td>41.0</td>\n",
       "      <td>...</td>\n",
       "      <td>1210.648171</td>\n",
       "      <td>1078.872708</td>\n",
       "      <td>0.036757</td>\n",
       "      <td>1.999243</td>\n",
       "      <td>0.2</td>\n",
       "      <td>0.066393</td>\n",
       "      <td>0.033607</td>\n",
       "      <td>1.744738</td>\n",
       "      <td>0.992335</td>\n",
       "      <td>0.884322</td>\n",
       "    </tr>\n",
       "    <tr>\n",
       "      <th>1</th>\n",
       "      <td>2018-03-18T22:39:27.1860000Z</td>\n",
       "      <td>pm1-355</td>\n",
       "      <td>20.0</td>\n",
       "      <td>101.0</td>\n",
       "      <td>1330.0</td>\n",
       "      <td>48.684045</td>\n",
       "      <td>2658.702074</td>\n",
       "      <td>266.0</td>\n",
       "      <td>111.0</td>\n",
       "      <td>89.0</td>\n",
       "      <td>...</td>\n",
       "      <td>1248.399628</td>\n",
       "      <td>1223.222544</td>\n",
       "      <td>0.036605</td>\n",
       "      <td>1.999024</td>\n",
       "      <td>0.2</td>\n",
       "      <td>0.083459</td>\n",
       "      <td>0.066917</td>\n",
       "      <td>1.607191</td>\n",
       "      <td>0.938646</td>\n",
       "      <td>0.919716</td>\n",
       "    </tr>\n",
       "    <tr>\n",
       "      <th>2</th>\n",
       "      <td>2018-03-18T22:39:28.1700000Z</td>\n",
       "      <td>pm1-355</td>\n",
       "      <td>20.0</td>\n",
       "      <td>101.0</td>\n",
       "      <td>1330.0</td>\n",
       "      <td>48.761467</td>\n",
       "      <td>2658.710434</td>\n",
       "      <td>266.0</td>\n",
       "      <td>89.0</td>\n",
       "      <td>111.0</td>\n",
       "      <td>...</td>\n",
       "      <td>1236.198100</td>\n",
       "      <td>1227.499490</td>\n",
       "      <td>0.036663</td>\n",
       "      <td>1.999030</td>\n",
       "      <td>0.2</td>\n",
       "      <td>0.066917</td>\n",
       "      <td>0.083459</td>\n",
       "      <td>1.596141</td>\n",
       "      <td>0.929472</td>\n",
       "      <td>0.922932</td>\n",
       "    </tr>\n",
       "    <tr>\n",
       "      <th>3</th>\n",
       "      <td>2018-03-18T22:39:28.1860000Z</td>\n",
       "      <td>pm1-354</td>\n",
       "      <td>20.0</td>\n",
       "      <td>101.0</td>\n",
       "      <td>1220.0</td>\n",
       "      <td>44.911873</td>\n",
       "      <td>2439.082236</td>\n",
       "      <td>244.0</td>\n",
       "      <td>81.0</td>\n",
       "      <td>41.0</td>\n",
       "      <td>...</td>\n",
       "      <td>1250.764035</td>\n",
       "      <td>1112.843036</td>\n",
       "      <td>0.036813</td>\n",
       "      <td>1.999248</td>\n",
       "      <td>0.2</td>\n",
       "      <td>0.066393</td>\n",
       "      <td>0.033607</td>\n",
       "      <td>1.747513</td>\n",
       "      <td>1.025216</td>\n",
       "      <td>0.912166</td>\n",
       "    </tr>\n",
       "    <tr>\n",
       "      <th>4</th>\n",
       "      <td>2018-03-18T22:39:29.2510000Z</td>\n",
       "      <td>pm1-355</td>\n",
       "      <td>20.0</td>\n",
       "      <td>101.0</td>\n",
       "      <td>1330.0</td>\n",
       "      <td>48.838783</td>\n",
       "      <td>2658.718713</td>\n",
       "      <td>266.0</td>\n",
       "      <td>111.0</td>\n",
       "      <td>89.0</td>\n",
       "      <td>...</td>\n",
       "      <td>1248.823526</td>\n",
       "      <td>1223.771400</td>\n",
       "      <td>0.036721</td>\n",
       "      <td>1.999037</td>\n",
       "      <td>0.2</td>\n",
       "      <td>0.083459</td>\n",
       "      <td>0.066917</td>\n",
       "      <td>1.607127</td>\n",
       "      <td>0.938965</td>\n",
       "      <td>0.920129</td>\n",
       "    </tr>\n",
       "  </tbody>\n",
       "</table>\n",
       "<p>5 rows × 21 columns</p>\n",
       "</div>"
      ],
      "text/plain": [
       "                EnqueuedTimeUtc machineID  ambient_temperature  \\\n",
       "0  2018-03-18T22:39:27.1700000Z   pm1-354                 20.0   \n",
       "1  2018-03-18T22:39:27.1860000Z   pm1-355                 20.0   \n",
       "2  2018-03-18T22:39:28.1700000Z   pm1-355                 20.0   \n",
       "3  2018-03-18T22:39:28.1860000Z   pm1-354                 20.0   \n",
       "4  2018-03-18T22:39:29.2510000Z   pm1-355                 20.0   \n",
       "\n",
       "   ambient_pressure   speed  temperature     pressure     f0     f1     f2  \\\n",
       "0             101.0  1220.0    44.844100  2439.076271  244.0   81.0   41.0   \n",
       "1             101.0  1330.0    48.684045  2658.702074  266.0  111.0   89.0   \n",
       "2             101.0  1330.0    48.761467  2658.710434  266.0   89.0  111.0   \n",
       "3             101.0  1220.0    44.911873  2439.082236  244.0   81.0   41.0   \n",
       "4             101.0  1330.0    48.838783  2658.718713  266.0  111.0   89.0   \n",
       "\n",
       "     ...              a1           a2  temperature_n  pressure_n  f0_n  \\\n",
       "0    ...     1210.648171  1078.872708       0.036757    1.999243   0.2   \n",
       "1    ...     1248.399628  1223.222544       0.036605    1.999024   0.2   \n",
       "2    ...     1236.198100  1227.499490       0.036663    1.999030   0.2   \n",
       "3    ...     1250.764035  1112.843036       0.036813    1.999248   0.2   \n",
       "4    ...     1248.823526  1223.771400       0.036721    1.999037   0.2   \n",
       "\n",
       "       f1_n      f2_n      a0_n      a1_n      a2_n  \n",
       "0  0.066393  0.033607  1.744738  0.992335  0.884322  \n",
       "1  0.083459  0.066917  1.607191  0.938646  0.919716  \n",
       "2  0.066917  0.083459  1.596141  0.929472  0.922932  \n",
       "3  0.066393  0.033607  1.747513  1.025216  0.912166  \n",
       "4  0.083459  0.066917  1.607127  0.938965  0.920129  \n",
       "\n",
       "[5 rows x 21 columns]"
      ]
     },
     "execution_count": 12,
     "metadata": {},
     "output_type": "execute_result"
    }
   ],
   "source": [
    "wasbUrlOutput = \"wasb://{0}@{1}.blob.{2}/features.parquet\".format(\n",
    "            'intermediate',\n",
    "            STORAGE_ACCOUNT_NAME,\n",
    "            STORAGE_ACCOUNT_SUFFIX)\n",
    "\n",
    "dfa.write.parquet(wasbUrlOutput, mode=\"overwrite\")\n",
    "\n",
    "dfa.limit(5).toPandas().head()"
   ]
  },
  {
   "cell_type": "code",
   "execution_count": null,
   "metadata": {},
   "outputs": [],
   "source": []
  }
 ],
 "metadata": {
  "kernelspec": {
   "display_name": "AML ldsvm",
   "language": "python",
   "name": "aml_ldsvm"
  },
  "language_info": {
   "codemirror_mode": {
    "name": "ipython",
    "version": 3
   },
   "file_extension": ".py",
   "mimetype": "text/x-python",
   "name": "python",
   "nbconvert_exporter": "python",
   "pygments_lexer": "ipython3",
   "version": "3.5.2"
  }
 },
 "nbformat": 4,
 "nbformat_minor": 2
}
