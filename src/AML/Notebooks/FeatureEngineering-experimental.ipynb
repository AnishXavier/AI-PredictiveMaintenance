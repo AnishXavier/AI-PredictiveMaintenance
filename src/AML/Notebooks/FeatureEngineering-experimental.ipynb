{
 "cells": [
  {
   "cell_type": "markdown",
   "metadata": {},
   "source": [
    "# Feature Engineering\n",
    "\n",
    "In machine learning, a feature is an individual measurable attribute of a phenomenon being observed. The extraction of features from raw training data is called *feature engineering*. In other words, feature engineering is a process of transforming raw training data into a *representation* suitable for the application of machine learning algorithms.\n",
    "\n",
    "This process usually requires a certain degree of domain expertise and can be divided into the following stages <sup>[[1]](#ref_1)</sup>: \n",
    "- Brainstorming on features\n",
    "- Deciding what features to create\n",
    "- Creating features\n",
    "- Studying how the features impact model's predictive accuracy\n",
    "- Iterating if necessary"
   ]
  },
  {
   "cell_type": "code",
   "execution_count": 16,
   "metadata": {},
   "outputs": [],
   "source": [
    "%matplotlib inline\n",
    "import pyspark\n",
    "from functools import reduce\n",
    "from pyspark.sql import SparkSession, SQLContext, Window\n",
    "import pyspark.sql.functions as F\n",
    "import pandas as pd\n",
    "import matplotlib\n",
    "import matplotlib.pyplot as plt\n",
    "from pyspark.storagelevel import StorageLevel\n",
    "\n",
    "matplotlib.style.use('ggplot')"
   ]
  },
  {
   "cell_type": "markdown",
   "metadata": {},
   "source": [
    "## Reading input data"
   ]
  },
  {
   "cell_type": "code",
   "execution_count": 17,
   "metadata": {},
   "outputs": [
    {
     "name": "stdout",
     "output_type": "stream",
     "text": [
      "root\n",
      " |-- timestamp: timestamp (nullable = true)\n",
      " |-- ambient_pressure: double (nullable = true)\n",
      " |-- ambient_temperature: double (nullable = true)\n",
      " |-- machineID: string (nullable = true)\n",
      " |-- pressure: double (nullable = true)\n",
      " |-- speed: double (nullable = true)\n",
      " |-- speed_desired: long (nullable = true)\n",
      " |-- temperature: double (nullable = true)\n",
      "\n",
      "root\n",
      " |-- timestamp: timestamp (nullable = true)\n",
      " |-- code: string (nullable = true)\n",
      " |-- level: string (nullable = true)\n",
      " |-- machineID: string (nullable = true)\n",
      "\n"
     ]
    }
   ],
   "source": [
    "sqlContext = SQLContext(sc)\n",
    "\n",
    "df_telemetry = sqlContext.read.parquet('data/telemetry')\n",
    "df_logs = sqlContext.read.parquet('data/logs')\n",
    "\n",
    "df_telemetry.printSchema()\n",
    "df_logs.printSchema()"
   ]
  },
  {
   "cell_type": "code",
   "execution_count": 18,
   "metadata": {},
   "outputs": [
    {
     "name": "stdout",
     "output_type": "stream",
     "text": [
      "51597942\n",
      "3001\n",
      "+-------------------+-----+--------+---------+\n",
      "|          timestamp| code|   level|machineID|\n",
      "+-------------------+-----+--------+---------+\n",
      "|2018-04-14 18:43:45|   F1|CRITICAL|   M_0000|\n",
      "|2018-04-15 13:00:00|fixed|    INFO|   M_0000|\n",
      "+-------------------+-----+--------+---------+\n",
      "\n"
     ]
    }
   ],
   "source": [
    "print(df_telemetry.count())\n",
    "print(df_logs.count())\n",
    "df_logs.where(F.col('machineID') == 'M_0000').show()"
   ]
  },
  {
   "cell_type": "markdown",
   "metadata": {},
   "source": [
    "## Data exploration"
   ]
  },
  {
   "cell_type": "code",
   "execution_count": 20,
   "metadata": {},
   "outputs": [
    {
     "data": {
      "text/html": [
       "<div>\n",
       "<style scoped>\n",
       "    .dataframe tbody tr th:only-of-type {\n",
       "        vertical-align: middle;\n",
       "    }\n",
       "\n",
       "    .dataframe tbody tr th {\n",
       "        vertical-align: top;\n",
       "    }\n",
       "\n",
       "    .dataframe thead th {\n",
       "        text-align: right;\n",
       "    }\n",
       "</style>\n",
       "<table border=\"1\" class=\"dataframe\">\n",
       "  <thead>\n",
       "    <tr style=\"text-align: right;\">\n",
       "      <th></th>\n",
       "      <th>ambient_pressure</th>\n",
       "      <th>ambient_temperature</th>\n",
       "      <th>pressure</th>\n",
       "      <th>speed</th>\n",
       "      <th>speed_desired</th>\n",
       "      <th>temperature</th>\n",
       "    </tr>\n",
       "  </thead>\n",
       "  <tbody>\n",
       "    <tr>\n",
       "      <th>count</th>\n",
       "      <td>47982.000000</td>\n",
       "      <td>47982.000000</td>\n",
       "      <td>47982.000000</td>\n",
       "      <td>47982.000000</td>\n",
       "      <td>47982.0</td>\n",
       "      <td>47982.000000</td>\n",
       "    </tr>\n",
       "    <tr>\n",
       "      <th>mean</th>\n",
       "      <td>101.000201</td>\n",
       "      <td>19.999984</td>\n",
       "      <td>1088.411805</td>\n",
       "      <td>999.969273</td>\n",
       "      <td>1000.0</td>\n",
       "      <td>144.761585</td>\n",
       "    </tr>\n",
       "    <tr>\n",
       "      <th>std</th>\n",
       "      <td>0.057904</td>\n",
       "      <td>0.058020</td>\n",
       "      <td>170.114927</td>\n",
       "      <td>3.913631</td>\n",
       "      <td>0.0</td>\n",
       "      <td>7.983581</td>\n",
       "    </tr>\n",
       "    <tr>\n",
       "      <th>min</th>\n",
       "      <td>100.900000</td>\n",
       "      <td>19.900000</td>\n",
       "      <td>147.220000</td>\n",
       "      <td>502.220000</td>\n",
       "      <td>1000.0</td>\n",
       "      <td>25.110000</td>\n",
       "    </tr>\n",
       "    <tr>\n",
       "      <th>25%</th>\n",
       "      <td>100.950000</td>\n",
       "      <td>19.950000</td>\n",
       "      <td>1023.255000</td>\n",
       "      <td>997.460000</td>\n",
       "      <td>1000.0</td>\n",
       "      <td>139.850000</td>\n",
       "    </tr>\n",
       "    <tr>\n",
       "      <th>50%</th>\n",
       "      <td>101.000000</td>\n",
       "      <td>20.000000</td>\n",
       "      <td>1138.890000</td>\n",
       "      <td>999.980000</td>\n",
       "      <td>1000.0</td>\n",
       "      <td>142.170000</td>\n",
       "    </tr>\n",
       "    <tr>\n",
       "      <th>75%</th>\n",
       "      <td>101.050000</td>\n",
       "      <td>20.050000</td>\n",
       "      <td>1206.100000</td>\n",
       "      <td>1002.520000</td>\n",
       "      <td>1000.0</td>\n",
       "      <td>146.700000</td>\n",
       "    </tr>\n",
       "    <tr>\n",
       "      <th>max</th>\n",
       "      <td>101.100000</td>\n",
       "      <td>20.100000</td>\n",
       "      <td>1303.590000</td>\n",
       "      <td>1005.000000</td>\n",
       "      <td>1000.0</td>\n",
       "      <td>214.880000</td>\n",
       "    </tr>\n",
       "  </tbody>\n",
       "</table>\n",
       "</div>"
      ],
      "text/plain": [
       "       ambient_pressure  ambient_temperature      pressure         speed  \\\n",
       "count      47982.000000         47982.000000  47982.000000  47982.000000   \n",
       "mean         101.000201            19.999984   1088.411805    999.969273   \n",
       "std            0.057904             0.058020    170.114927      3.913631   \n",
       "min          100.900000            19.900000    147.220000    502.220000   \n",
       "25%          100.950000            19.950000   1023.255000    997.460000   \n",
       "50%          101.000000            20.000000   1138.890000    999.980000   \n",
       "75%          101.050000            20.050000   1206.100000   1002.520000   \n",
       "max          101.100000            20.100000   1303.590000   1005.000000   \n",
       "\n",
       "       speed_desired   temperature  \n",
       "count        47982.0  47982.000000  \n",
       "mean          1000.0    144.761585  \n",
       "std              0.0      7.983581  \n",
       "min           1000.0     25.110000  \n",
       "25%           1000.0    139.850000  \n",
       "50%           1000.0    142.170000  \n",
       "75%           1000.0    146.700000  \n",
       "max           1000.0    214.880000  "
      ]
     },
     "execution_count": 20,
     "metadata": {},
     "output_type": "execute_result"
    }
   ],
   "source": [
    "machineID = df_logs.first().machineID\n",
    "# machineID = 'M_0000'\n",
    "\n",
    "machine_sequence_df = df_telemetry.where(df_telemetry.machineID == machineID).orderBy(df_telemetry.timestamp)\n",
    "#machine_sequence_df.persist(StorageLevel.MEMORY_ONLY)\n",
    "pdf = machine_sequence_df.toPandas()\n",
    "pdf.set_index('timestamp', inplace=True)\n",
    "pdf.describe()"
   ]
  },
  {
   "cell_type": "code",
   "execution_count": 21,
   "metadata": {},
   "outputs": [
    {
     "data": {
      "text/plain": [
       "<matplotlib.axes._subplots.AxesSubplot at 0x7f387fece828>"
      ]
     },
     "execution_count": 21,
     "metadata": {},
     "output_type": "execute_result"
    },
    {
     "data": {
      "image/png": "[encoded data removed]",
      "text/plain": [
       "<matplotlib.figure.Figure at 0x7f387f46b828>"
      ]
     },
     "metadata": {},
     "output_type": "display_data"
    }
   ],
   "source": [
    "pdf.plot(title=machineID , style=\".\", y='speed_desired')"
   ]
  },
  {
   "cell_type": "code",
   "execution_count": 22,
   "metadata": {},
   "outputs": [
    {
     "data": {
      "text/plain": [
       "<matplotlib.axes._subplots.AxesSubplot at 0x7f387ff589e8>"
      ]
     },
     "execution_count": 22,
     "metadata": {},
     "output_type": "execute_result"
    },
    {
     "data": {
      "image/png": "[encoded data removed]",
      "text/plain": [
       "<matplotlib.figure.Figure at 0x7f387f48b470>"
      ]
     },
     "metadata": {},
     "output_type": "display_data"
    }
   ],
   "source": [
    "df_logs.toPandas().plot()"
   ]
  },
  {
   "cell_type": "markdown",
   "metadata": {},
   "source": [
    "## Feature creation\n",
    "\n",
    "### Operational cycles"
   ]
  },
  {
   "cell_type": "code",
   "execution_count": 23,
   "metadata": {},
   "outputs": [
    {
     "data": {
      "text/plain": [
       "275"
      ]
     },
     "execution_count": 23,
     "metadata": {},
     "output_type": "execute_result"
    },
    {
     "data": {
      "image/png": "[encoded data removed]",
      "text/plain": [
       "<matplotlib.figure.Figure at 0x7f387f8ee080>"
      ]
     },
     "metadata": {},
     "output_type": "display_data"
    }
   ],
   "source": [
    "def cycles(df):\n",
    "    w = Window.partitionBy('machineID').orderBy('timestamp')\n",
    "\n",
    "    # Difference from the previous record or 0 if this is the first one\n",
    "    diff = F.coalesce(F.unix_timestamp('timestamp') - F.unix_timestamp(F.lag('timestamp', 1).over(w)), F.lit(0))\n",
    "\n",
    "    # 0 if diff <= 30, 1 otherwise\n",
    "    indicator = (diff > 30).cast('integer')\n",
    "\n",
    "    subgroup = F.sum(indicator).over(w).alias('cycle')\n",
    "\n",
    "    return df.select(\"*\", subgroup).groupBy('machineID', 'cycle').agg(\n",
    "        F.avg('speed').alias('speed_avg'),\n",
    "        F.avg('temperature').alias('temperature_avg'),\n",
    "        F.max('temperature').alias('temperature_max'),\n",
    "        F.avg('pressure').alias('pressure_avg'),\n",
    "        F.min('timestamp').alias('cycle_start'),\n",
    "        F.max('timestamp').alias('cycle_end')\n",
    "    ).orderBy('cycle')\n",
    "\n",
    "msdf_cycles = cycles(machine_sequence_df)\n",
    "msdf_cycles[['temperature_avg', 'temperature_max', 'pressure_avg']].toPandas().plot(subplots=True, title='Cycle features')\n",
    "msdf_cycles.count()"
   ]
  },
  {
   "cell_type": "code",
   "execution_count": 24,
   "metadata": {},
   "outputs": [
    {
     "name": "stdout",
     "output_type": "stream",
     "text": [
      "287540\n",
      "+-------------------+\n",
      "|   max(cycle_start)|\n",
      "+-------------------+\n",
      "|2018-05-14 15:53:00|\n",
      "+-------------------+\n",
      "\n"
     ]
    }
   ],
   "source": [
    "cycles_df = cycles(df_telemetry)\n",
    "#print(cycles_df.count())\n",
    "\n",
    "#cycles_df.select(F.max(F.col('cycle_start'))).show()"
   ]
  },
  {
   "cell_type": "markdown",
   "metadata": {},
   "source": [
    "### Augmenting data with additional lag features"
   ]
  },
  {
   "cell_type": "code",
   "execution_count": 25,
   "metadata": {},
   "outputs": [],
   "source": [
    "w = Window.partitionBy('machineID').rowsBetween(-5, Window.currentRow).orderBy('cycle_start')\n",
    "augmented_cycles_df = cycles_df.withColumn('rolling_average', F.avg(\"temperature_max\").over(w))"
   ]
  },
  {
   "cell_type": "markdown",
   "metadata": {},
   "source": [
    "### Labeling"
   ]
  },
  {
   "cell_type": "code",
   "execution_count": 26,
   "metadata": {},
   "outputs": [
    {
     "data": {
      "text/html": [
       "<div>\n",
       "<style scoped>\n",
       "    .dataframe tbody tr th:only-of-type {\n",
       "        vertical-align: middle;\n",
       "    }\n",
       "\n",
       "    .dataframe tbody tr th {\n",
       "        vertical-align: top;\n",
       "    }\n",
       "\n",
       "    .dataframe thead th {\n",
       "        text-align: right;\n",
       "    }\n",
       "</style>\n",
       "<table border=\"1\" class=\"dataframe\">\n",
       "  <thead>\n",
       "    <tr style=\"text-align: right;\">\n",
       "      <th></th>\n",
       "      <th>machineID</th>\n",
       "      <th>cycle</th>\n",
       "      <th>speed_avg</th>\n",
       "      <th>temperature_avg</th>\n",
       "      <th>temperature_max</th>\n",
       "      <th>pressure_avg</th>\n",
       "      <th>timestamp</th>\n",
       "      <th>rolling_average</th>\n",
       "      <th>failure</th>\n",
       "      <th>rul</th>\n",
       "    </tr>\n",
       "  </thead>\n",
       "  <tbody>\n",
       "    <tr>\n",
       "      <th>0</th>\n",
       "      <td>M_0000</td>\n",
       "      <td>293</td>\n",
       "      <td>1000.264733</td>\n",
       "      <td>136.982233</td>\n",
       "      <td>137.10</td>\n",
       "      <td>1290.239233</td>\n",
       "      <td>2018-05-13 20:11:00</td>\n",
       "      <td>137.028333</td>\n",
       "      <td>None</td>\n",
       "      <td>NaN</td>\n",
       "    </tr>\n",
       "    <tr>\n",
       "      <th>1</th>\n",
       "      <td>M_0000</td>\n",
       "      <td>292</td>\n",
       "      <td>999.873000</td>\n",
       "      <td>136.972667</td>\n",
       "      <td>137.05</td>\n",
       "      <td>1288.624500</td>\n",
       "      <td>2018-05-13 08:18:00</td>\n",
       "      <td>137.000000</td>\n",
       "      <td>None</td>\n",
       "      <td>NaN</td>\n",
       "    </tr>\n",
       "    <tr>\n",
       "      <th>2</th>\n",
       "      <td>M_0000</td>\n",
       "      <td>291</td>\n",
       "      <td>999.961167</td>\n",
       "      <td>136.950667</td>\n",
       "      <td>137.04</td>\n",
       "      <td>1292.764000</td>\n",
       "      <td>2018-05-08 23:56:00</td>\n",
       "      <td>136.973333</td>\n",
       "      <td>None</td>\n",
       "      <td>NaN</td>\n",
       "    </tr>\n",
       "    <tr>\n",
       "      <th>3</th>\n",
       "      <td>M_0000</td>\n",
       "      <td>290</td>\n",
       "      <td>1000.008250</td>\n",
       "      <td>136.929292</td>\n",
       "      <td>137.03</td>\n",
       "      <td>1291.723333</td>\n",
       "      <td>2018-05-07 19:09:00</td>\n",
       "      <td>136.945000</td>\n",
       "      <td>None</td>\n",
       "      <td>NaN</td>\n",
       "    </tr>\n",
       "    <tr>\n",
       "      <th>4</th>\n",
       "      <td>M_0000</td>\n",
       "      <td>289</td>\n",
       "      <td>1000.215200</td>\n",
       "      <td>136.879867</td>\n",
       "      <td>137.00</td>\n",
       "      <td>1294.350033</td>\n",
       "      <td>2018-05-06 09:16:00</td>\n",
       "      <td>136.908333</td>\n",
       "      <td>None</td>\n",
       "      <td>NaN</td>\n",
       "    </tr>\n",
       "  </tbody>\n",
       "</table>\n",
       "</div>"
      ],
      "text/plain": [
       "  machineID  cycle    speed_avg  temperature_avg  temperature_max  \\\n",
       "0    M_0000    293  1000.264733       136.982233           137.10   \n",
       "1    M_0000    292   999.873000       136.972667           137.05   \n",
       "2    M_0000    291   999.961167       136.950667           137.04   \n",
       "3    M_0000    290  1000.008250       136.929292           137.03   \n",
       "4    M_0000    289  1000.215200       136.879867           137.00   \n",
       "\n",
       "   pressure_avg           timestamp  rolling_average failure  rul  \n",
       "0   1290.239233 2018-05-13 20:11:00       137.028333    None  NaN  \n",
       "1   1288.624500 2018-05-13 08:18:00       137.000000    None  NaN  \n",
       "2   1292.764000 2018-05-08 23:56:00       136.973333    None  NaN  \n",
       "3   1291.723333 2018-05-07 19:09:00       136.945000    None  NaN  \n",
       "4   1294.350033 2018-05-06 09:16:00       136.908333    None  NaN  "
      ]
     },
     "execution_count": 26,
     "metadata": {},
     "output_type": "execute_result"
    }
   ],
   "source": [
    "#df_logs.show()\n",
    "\n",
    "w = Window.partitionBy('machineID', 'level', 'code').orderBy('timestamp') # since last failure of the same type?\n",
    "diff = F.coalesce(F.lag('timestamp', 1).over(w), F.to_timestamp(F.lit('2000-01-01 00:00:00')))\n",
    "\n",
    "failures_df = (df_logs.where(df_logs.level == 'CRITICAL')\n",
    "               .withColumn('last_failure_timestamp', diff)\n",
    "               .withColumnRenamed('timestamp', 'failure_timestamp')\n",
    "               .withColumnRenamed('code', 'failure')\n",
    "               .drop('level'))\n",
    "\n",
    "labeled_cycles_df = (augmented_cycles_df.join(failures_df,\n",
    "                                       (augmented_cycles_df.machineID == failures_df.machineID) &\n",
    "                                       (augmented_cycles_df.cycle_start >= failures_df.last_failure_timestamp) &\n",
    "                                       (augmented_cycles_df.cycle_end <= failures_df.failure_timestamp),\n",
    "                                       'left_outer')\n",
    "                     .drop(failures_df.machineID)\n",
    "                     .drop(augmented_cycles_df.cycle_end)\n",
    "                     .drop(failures_df.last_failure_timestamp)\n",
    "                     .withColumnRenamed('cycle_start', 'timestamp')\n",
    "                     .withColumn(\n",
    "                         'rul',\n",
    "                         \n",
    "                          F.when(F.col('failure').isNull(), None).otherwise(\n",
    "                             F.row_number().over(Window.partitionBy('machineID', 'failure_timestamp')\n",
    "                                             .orderBy(F.desc('cycle')))))\n",
    "                         .drop(failures_df.failure_timestamp))\n",
    "\n",
    "#labeled_cycles_df.where(F.col('machineID') == 'M_0000').orderBy(F.asc('rul')).toPandas().head()\n",
    "#failures_df.where(F.col('machineID') == 'M_0000').toPandas().head()\n",
    "#labeled_cycles_df.where(F.col('machineID') == 'M_0000').count()"
   ]
  },
  {
   "cell_type": "code",
   "execution_count": 27,
   "metadata": {},
   "outputs": [
    {
     "data": {
      "text/html": [
       "<div>\n",
       "<style scoped>\n",
       "    .dataframe tbody tr th:only-of-type {\n",
       "        vertical-align: middle;\n",
       "    }\n",
       "\n",
       "    .dataframe tbody tr th {\n",
       "        vertical-align: top;\n",
       "    }\n",
       "\n",
       "    .dataframe thead th {\n",
       "        text-align: right;\n",
       "    }\n",
       "</style>\n",
       "<table border=\"1\" class=\"dataframe\">\n",
       "  <thead>\n",
       "    <tr style=\"text-align: right;\">\n",
       "      <th></th>\n",
       "      <th>machineID</th>\n",
       "      <th>cycle</th>\n",
       "      <th>speed_avg</th>\n",
       "      <th>temperature_avg</th>\n",
       "      <th>temperature_max</th>\n",
       "      <th>pressure_avg</th>\n",
       "      <th>timestamp</th>\n",
       "      <th>rolling_average</th>\n",
       "      <th>failure</th>\n",
       "      <th>rul</th>\n",
       "    </tr>\n",
       "  </thead>\n",
       "  <tbody>\n",
       "    <tr>\n",
       "      <th>0</th>\n",
       "      <td>M_0217</td>\n",
       "      <td>297</td>\n",
       "      <td>1000.222778</td>\n",
       "      <td>139.428833</td>\n",
       "      <td>139.54</td>\n",
       "      <td>1217.466167</td>\n",
       "      <td>2018-05-12 10:01:00</td>\n",
       "      <td>139.425000</td>\n",
       "      <td>None</td>\n",
       "      <td>None</td>\n",
       "    </tr>\n",
       "    <tr>\n",
       "      <th>1</th>\n",
       "      <td>M_0217</td>\n",
       "      <td>296</td>\n",
       "      <td>999.863333</td>\n",
       "      <td>139.382750</td>\n",
       "      <td>139.50</td>\n",
       "      <td>1219.387917</td>\n",
       "      <td>2018-05-11 11:54:00</td>\n",
       "      <td>139.380000</td>\n",
       "      <td>None</td>\n",
       "      <td>None</td>\n",
       "    </tr>\n",
       "    <tr>\n",
       "      <th>2</th>\n",
       "      <td>M_0217</td>\n",
       "      <td>295</td>\n",
       "      <td>999.983367</td>\n",
       "      <td>139.328100</td>\n",
       "      <td>139.45</td>\n",
       "      <td>1221.655633</td>\n",
       "      <td>2018-05-07 20:12:00</td>\n",
       "      <td>139.336667</td>\n",
       "      <td>None</td>\n",
       "      <td>None</td>\n",
       "    </tr>\n",
       "    <tr>\n",
       "      <th>3</th>\n",
       "      <td>M_0217</td>\n",
       "      <td>294</td>\n",
       "      <td>1000.322167</td>\n",
       "      <td>139.283833</td>\n",
       "      <td>139.38</td>\n",
       "      <td>1220.785667</td>\n",
       "      <td>2018-05-07 07:14:00</td>\n",
       "      <td>139.295000</td>\n",
       "      <td>None</td>\n",
       "      <td>None</td>\n",
       "    </tr>\n",
       "    <tr>\n",
       "      <th>4</th>\n",
       "      <td>M_0217</td>\n",
       "      <td>293</td>\n",
       "      <td>999.647667</td>\n",
       "      <td>139.245667</td>\n",
       "      <td>139.36</td>\n",
       "      <td>1221.775250</td>\n",
       "      <td>2018-05-06 21:34:00</td>\n",
       "      <td>139.256667</td>\n",
       "      <td>None</td>\n",
       "      <td>None</td>\n",
       "    </tr>\n",
       "  </tbody>\n",
       "</table>\n",
       "</div>"
      ],
      "text/plain": [
       "  machineID  cycle    speed_avg  temperature_avg  temperature_max  \\\n",
       "0    M_0217    297  1000.222778       139.428833           139.54   \n",
       "1    M_0217    296   999.863333       139.382750           139.50   \n",
       "2    M_0217    295   999.983367       139.328100           139.45   \n",
       "3    M_0217    294  1000.322167       139.283833           139.38   \n",
       "4    M_0217    293   999.647667       139.245667           139.36   \n",
       "\n",
       "   pressure_avg           timestamp  rolling_average failure   rul  \n",
       "0   1217.466167 2018-05-12 10:01:00       139.425000    None  None  \n",
       "1   1219.387917 2018-05-11 11:54:00       139.380000    None  None  \n",
       "2   1221.655633 2018-05-07 20:12:00       139.336667    None  None  \n",
       "3   1220.785667 2018-05-07 07:14:00       139.295000    None  None  \n",
       "4   1221.775250 2018-05-06 21:34:00       139.256667    None  None  "
      ]
     },
     "execution_count": 27,
     "metadata": {},
     "output_type": "execute_result"
    }
   ],
   "source": [
    "#labeled_cycles_df.limit(10).toPandas().head()"
   ]
  },
  {
   "cell_type": "code",
   "execution_count": 28,
   "metadata": {},
   "outputs": [
    {
     "data": {
      "text/html": [
       "<div>\n",
       "<style scoped>\n",
       "    .dataframe tbody tr th:only-of-type {\n",
       "        vertical-align: middle;\n",
       "    }\n",
       "\n",
       "    .dataframe tbody tr th {\n",
       "        vertical-align: top;\n",
       "    }\n",
       "\n",
       "    .dataframe thead th {\n",
       "        text-align: right;\n",
       "    }\n",
       "</style>\n",
       "<table border=\"1\" class=\"dataframe\">\n",
       "  <thead>\n",
       "    <tr style=\"text-align: right;\">\n",
       "      <th></th>\n",
       "      <th>max(rul)</th>\n",
       "    </tr>\n",
       "  </thead>\n",
       "  <tbody>\n",
       "    <tr>\n",
       "      <th>count</th>\n",
       "      <td>983.000000</td>\n",
       "    </tr>\n",
       "    <tr>\n",
       "      <th>mean</th>\n",
       "      <td>170.128179</td>\n",
       "    </tr>\n",
       "    <tr>\n",
       "      <th>std</th>\n",
       "      <td>58.991126</td>\n",
       "    </tr>\n",
       "    <tr>\n",
       "      <th>min</th>\n",
       "      <td>32.000000</td>\n",
       "    </tr>\n",
       "    <tr>\n",
       "      <th>25%</th>\n",
       "      <td>126.000000</td>\n",
       "    </tr>\n",
       "    <tr>\n",
       "      <th>50%</th>\n",
       "      <td>170.000000</td>\n",
       "    </tr>\n",
       "    <tr>\n",
       "      <th>75%</th>\n",
       "      <td>219.000000</td>\n",
       "    </tr>\n",
       "    <tr>\n",
       "      <th>max</th>\n",
       "      <td>289.000000</td>\n",
       "    </tr>\n",
       "  </tbody>\n",
       "</table>\n",
       "</div>"
      ],
      "text/plain": [
       "         max(rul)\n",
       "count  983.000000\n",
       "mean   170.128179\n",
       "std     58.991126\n",
       "min     32.000000\n",
       "25%    126.000000\n",
       "50%    170.000000\n",
       "75%    219.000000\n",
       "max    289.000000"
      ]
     },
     "execution_count": 28,
     "metadata": {},
     "output_type": "execute_result"
    }
   ],
   "source": [
    "#labeled_cycles_df.where(labeled_cycles_df.failure.isNotNull()).groupBy('machineID').agg(F.max('rul')).toPandas().describe()"
   ]
  },
  {
   "cell_type": "markdown",
   "metadata": {},
   "source": [
    "## Persisting the labeled feature dataset"
   ]
  },
  {
   "cell_type": "code",
   "execution_count": 29,
   "metadata": {},
   "outputs": [],
   "source": [
    "% rm -rf data/features\n",
    "\n",
    "labeled_cycles_df.coalesce(5).write.csv('data/features', header=True)"
   ]
  },
  {
   "cell_type": "markdown",
   "metadata": {},
   "source": [
    "## References\n",
    "http://waset.org/publications/10006640/building-a-scalable-telemetry-based-multiclass-predictive-maintenance-model-in-r\n",
    "http://citeseerx.ist.psu.edu/viewdoc/download?doi=10.1.1.386.8108&rep=rep1&type=pdf"
   ]
  }
 ],
 "metadata": {
  "kernelspec": {
   "display_name": "PySpark",
   "language": "python",
   "name": "pyspark"
  },
  "language_info": {
   "codemirror_mode": {
    "name": "ipython",
    "version": 3
   },
   "file_extension": ".py",
   "mimetype": "text/x-python",
   "name": "python",
   "nbconvert_exporter": "python",
   "pygments_lexer": "ipython3",
   "version": "3.6.4"
  }
 },
 "nbformat": 4,
 "nbformat_minor": 2
}
