{
 "cells": [
  {
   "cell_type": "markdown",
   "metadata": {},
   "source": [
    "# Feature Engineering\n",
    "\n",
    "In machine learning, a feature is an individual measurable attribute of a phenomenon being observed. The extraction of features from raw training data is called *feature engineering*. In other words, feature engineering is a process of transforming raw training data into a *representation* suitable for the application of machine learning algorithms.\n",
    "\n",
    "This process usually requires a certain degree of domain expertise and can be divides into the following stages <sup>[[1]](#ref_1)</sup>: \n",
    "- Brainstorming on features\n",
    "- Deciding what features to create\n",
    "- Creating features\n",
    "- Studying how the features impact model's predictive accuracy\n",
    "- Iterating if necessary"
   ]
  },
  {
   "cell_type": "code",
   "execution_count": 17,
   "metadata": {},
   "outputs": [],
   "source": [
    "%matplotlib inline\n",
    "import os\n",
    "import json\n",
    "import pickle\n",
    "import pyspark\n",
    "from functools import reduce\n",
    "from pyspark.sql import SparkSession, SQLContext\n",
    "from pyspark.sql.functions import udf, mean, lit, stddev, col, expr, when\n",
    "from pyspark.sql.types import DoubleType, ArrayType, ShortType, LongType, IntegerType\n",
    "import pandas as pd\n",
    "from collections import OrderedDict\n",
    "from datetime import date\n",
    "import numpy as np\n",
    "from scipy import signal\n",
    "import matplotlib.pyplot as plt\n",
    "from pyspark.storagelevel import StorageLevel\n",
    "\n",
    "from azureml.api.schema.dataTypes import DataTypes\n",
    "from azureml.api.schema.sampleDefinition import SampleDefinition\n",
    "from azureml.api.realtime.services import generate_schema"
   ]
  },
  {
   "cell_type": "code",
   "execution_count": 18,
   "metadata": {},
   "outputs": [
    {
     "name": "stdout",
     "output_type": "stream",
     "text": [
      "root\n",
      " |-- EnqueuedTimeUtc: string (nullable = true)\n",
      " |-- Properties: map (nullable = true)\n",
      " |    |-- key: string\n",
      " |    |-- value: string (valueContainsNull = true)\n",
      " |-- SystemProperties: map (nullable = true)\n",
      " |    |-- key: string\n",
      " |    |-- value: string (valueContainsNull = true)\n",
      " |-- Body: binary (nullable = true)\n",
      "\n"
     ]
    }
   ],
   "source": [
    "STORAGE_ACCOUNT_SUFFIX = 'core.windows.net'\n",
    "\n",
    "TELEMETRY_STORAGE_ACCOUNT_NAME = os.getenv('TELEMETRY_STORAGE_ACCOUNT_NAME')\n",
    "TELEMETRY_STORAGE_ACCOUNT_KEY = os.getenv('TELEMETRY_STORAGE_ACCOUNT_KEY')\n",
    "TELEMETRY_CONTAINER_NAME = os.getenv('TELEMETRY_CONTAINER_NAME')\n",
    "STAGING_STORAGE_ACCOUNT_NAME = os.getenv('STAGING_STORAGE_ACCOUNT_NAME')\n",
    "STAGING_STORAGE_ACCOUNT_KEY = os.getenv('STAGING_STORAGE_ACCOUNT_KEY')\n",
    "AZUREML_NATIVE_SHARE_DIRECTORY = os.getenv('AZUREML_NATIVE_SHARE_DIRECTORY')\n",
    "\n",
    "wasbTelemetryUrl = \"wasb://{0}@{1}.blob.{2}/*/*/*/*/*/*/*\".format(\n",
    "            TELEMETRY_CONTAINER_NAME,\n",
    "            TELEMETRY_STORAGE_ACCOUNT_NAME,\n",
    "            STORAGE_ACCOUNT_SUFFIX)\n",
    "\n",
    "sc = SparkSession.builder.getOrCreate()\n",
    "hc = sc._jsc.hadoopConfiguration()\n",
    "hc.set(\"avro.mapred.ignore.inputs.without.extension\", \"false\")\n",
    "\n",
    "if TELEMETRY_STORAGE_ACCOUNT_KEY:\n",
    "    hc.set(\"fs.azure.account.key.{}.blob.core.windows.net\".format(TELEMETRY_STORAGE_ACCOUNT_NAME), TELEMETRY_STORAGE_ACCOUNT_KEY)\n",
    "\n",
    "hc.set(\"fs.azure.account.key.{}.blob.core.windows.net\".format(STAGING_STORAGE_ACCOUNT_NAME), STAGING_STORAGE_ACCOUNT_KEY)\n",
    "    \n",
    "sql = SQLContext.getOrCreate(sc)\n",
    "\n",
    "df = sql.read.format(\"com.databricks.spark.avro\").load(wasbTelemetryUrl)\n",
    "\n",
    "df.printSchema()"
   ]
  },
  {
   "cell_type": "code",
   "execution_count": 19,
   "metadata": {},
   "outputs": [
    {
     "name": "stdout",
     "output_type": "stream",
     "text": [
      "Message count: 5460\n"
     ]
    }
   ],
   "source": [
    "print('Message count: {0}'.format(df.count()))"
   ]
  },
  {
   "cell_type": "code",
   "execution_count": 20,
   "metadata": {},
   "outputs": [],
   "source": [
    "sample_rate = 1024\n",
    "\n",
    "def extract_double(c):\n",
    "    return udf(lambda x: float(pickle.loads(x)[c]), DoubleType())\n",
    "\n",
    "def extract_array(c):\n",
    "    return udf(lambda x: pickle.loads(x)[c].tolist(), ArrayType(ShortType()))\n",
    "\n",
    "def extract_amplitude_spectrum(c):\n",
    "    def m(x):\n",
    "        ampl = np.abs(np.fft.fft(pickle.loads(x)[c])) / sample_rate\n",
    "        return ampl[:sample_rate // 2 + 1].tolist()\n",
    "                      \n",
    "    return udf(m, ArrayType(DoubleType()))\n",
    "\n",
    "def extract_dominant_frequencies(index):\n",
    "    def m(ff):\n",
    "        freq = np.fft.fftfreq(sample_rate, d = 1/sample_rate)[:sample_rate // 2 + 1]\n",
    "        return [float(f[index]) for f in sorted(list(zip(freq, ff)), key = lambda x: x[1], reverse = True)]\n",
    "    \n",
    "    return udf(m, ArrayType(DoubleType()))\n",
    "\n",
    "\n",
    "dfa = (df\n",
    "       .withColumn('machineID', df.SystemProperties['connectionDeviceId'])\n",
    "       .withColumn(\"ambient_temperature\", extract_double(\"ambient_temperature\")(df.Body))\n",
    "       .withColumn(\"ambient_pressure\", extract_double(\"ambient_pressure\")(df.Body))\n",
    "       .withColumn(\"speed\", extract_double(\"speed\")(df.Body))\n",
    "       .withColumn(\"temperature\", extract_double(\"temperature\")(df.Body))\n",
    "       .withColumn(\"pressure\", extract_double(\"pressure\")(df.Body))\n",
    "       .withColumn(\"vibration\", extract_array(\"vibration\")(df.Body))\n",
    "       .withColumn(\"fft\", extract_amplitude_spectrum(\"vibration\")(df.Body))\n",
    "       .drop('Properties', 'SystemProperties', 'Body'))\n",
    "\n",
    "dfa = (dfa\n",
    "       .withColumn(\"dominant_frequencies\", extract_dominant_frequencies(0)(dfa.fft))\n",
    "       .withColumn(\"dominant_frequencies_amplitudes\", extract_dominant_frequencies(1)(dfa.fft))\n",
    "       .where(dfa.speed > 0))"
   ]
  },
  {
   "cell_type": "code",
   "execution_count": 21,
   "metadata": {},
   "outputs": [
    {
     "name": "stdout",
     "output_type": "stream",
     "text": [
      "root\n",
      " |-- EnqueuedTimeUtc: string (nullable = true)\n",
      " |-- machineID: string (nullable = true)\n",
      " |-- ambient_temperature: double (nullable = true)\n",
      " |-- ambient_pressure: double (nullable = true)\n",
      " |-- speed: double (nullable = true)\n",
      " |-- temperature: double (nullable = true)\n",
      " |-- pressure: double (nullable = true)\n",
      " |-- vibration: array (nullable = true)\n",
      " |    |-- element: short (containsNull = true)\n",
      " |-- fft: array (nullable = true)\n",
      " |    |-- element: double (containsNull = true)\n",
      " |-- dominant_frequencies: array (nullable = true)\n",
      " |    |-- element: double (containsNull = true)\n",
      " |-- dominant_frequencies_amplitudes: array (nullable = true)\n",
      " |    |-- element: double (containsNull = true)\n",
      "\n"
     ]
    }
   ],
   "source": [
    "#df.unpersist()\n",
    "dfa.printSchema()\n",
    "input_features = [\"ambient_temperature\", \"ambient_pressure\", \"speed\", \"temperature\", \"pressure\", \"vibration\"]\n",
    "input_sample = dfa.limit(5).select(input_features)\n",
    "\n",
    "# define the input data frame\n",
    "inputs = {\"input_df\": SampleDefinition(DataTypes.SPARK, input_sample)}\n",
    "\n",
    "def run(input_df):\n",
    "    pass\n",
    "\n",
    "json_schema = generate_schema(run_func=run, inputs=inputs, filepath=os.path.join(AZUREML_NATIVE_SHARE_DIRECTORY, 'service_schema.json'))"
   ]
  },
  {
   "cell_type": "code",
   "execution_count": 22,
   "metadata": {},
   "outputs": [
    {
     "data": {
      "image/png": "[encoded data removed]",
      "text/plain": [
       "<matplotlib.figure.Figure at 0x7fb0f27f3080>"
      ]
     },
     "metadata": {},
     "output_type": "display_data"
    }
   ],
   "source": [
    "#dfa.limit(5).toPandas()\n",
    "#print(dfa.first().speed)\n",
    "fft = np.array(dfa.where(dfa.speed > 1000).first().fft)\n",
    "plt.plot(fft)\n",
    "plt.show()"
   ]
  },
  {
   "cell_type": "code",
   "execution_count": 23,
   "metadata": {},
   "outputs": [],
   "source": [
    "k = dfa.where(dfa.machineID == 'MACHINE-000').orderBy('EnqueuedTimeUtc').take(20)\n",
    "k = np.concatenate(np.array([x.vibration for x in k]))"
   ]
  },
  {
   "cell_type": "code",
   "execution_count": 24,
   "metadata": {},
   "outputs": [
    {
     "data": {
      "image/png": "[encoded data removed]",
      "text/plain": [
       "<matplotlib.figure.Figure at 0x7fb0f03e7b38>"
      ]
     },
     "metadata": {},
     "output_type": "display_data"
    }
   ],
   "source": [
    "freqs, times, Sx = signal.spectrogram(k, fs=sample_rate, window='hanning',\n",
    "                                      nperseg=4096, noverlap=4096 - 100,\n",
    "                                      detrend=False, scaling='spectrum')\n",
    "f, ax = plt.subplots(figsize=(9, 5))\n",
    "ax.pcolormesh(times, freqs, 10 * np.log10(Sx), cmap='viridis')\n",
    "ax.set_ylabel('Frequency [kHz]')\n",
    "ax.set_xlabel('Time [s]')\n",
    "plt.show()"
   ]
  },
  {
   "cell_type": "code",
   "execution_count": 25,
   "metadata": {},
   "outputs": [
    {
     "data": {
      "text/html": [
       "<div>\n",
       "<style>\n",
       "    .dataframe thead tr:only-child th {\n",
       "        text-align: right;\n",
       "    }\n",
       "\n",
       "    .dataframe thead th {\n",
       "        text-align: left;\n",
       "    }\n",
       "\n",
       "    .dataframe tbody tr th {\n",
       "        vertical-align: top;\n",
       "    }\n",
       "</style>\n",
       "<table border=\"1\" class=\"dataframe\">\n",
       "  <thead>\n",
       "    <tr style=\"text-align: right;\">\n",
       "      <th></th>\n",
       "      <th>0</th>\n",
       "      <th>1</th>\n",
       "    </tr>\n",
       "  </thead>\n",
       "  <tbody>\n",
       "    <tr>\n",
       "      <th>0</th>\n",
       "      <td>269.0</td>\n",
       "      <td>462.665685</td>\n",
       "    </tr>\n",
       "    <tr>\n",
       "      <th>1</th>\n",
       "      <td>266.0</td>\n",
       "      <td>398.994409</td>\n",
       "    </tr>\n",
       "    <tr>\n",
       "      <th>2</th>\n",
       "      <td>90.0</td>\n",
       "      <td>359.171016</td>\n",
       "    </tr>\n",
       "    <tr>\n",
       "      <th>3</th>\n",
       "      <td>23.0</td>\n",
       "      <td>312.652908</td>\n",
       "    </tr>\n",
       "    <tr>\n",
       "      <th>4</th>\n",
       "      <td>110.0</td>\n",
       "      <td>290.341932</td>\n",
       "    </tr>\n",
       "  </tbody>\n",
       "</table>\n",
       "</div>"
      ],
      "text/plain": [
       "       0           1\n",
       "0  269.0  462.665685\n",
       "1  266.0  398.994409\n",
       "2   90.0  359.171016\n",
       "3   23.0  312.652908\n",
       "4  110.0  290.341932"
      ]
     },
     "execution_count": 25,
     "metadata": {},
     "output_type": "execute_result"
    }
   ],
   "source": [
    "freq = np.fft.fftfreq(sample_rate, d = 1/sample_rate)[:sample_rate // 2 + 1]\n",
    "max_freq = sorted(list(zip(freq, dfa.sample(False, 0.1, seed=0).first().fft)), key = lambda x: x[1], reverse = True)[10 : ]\n",
    "pdf = pd.DataFrame.from_records(max_freq)\n",
    "pdf.head()"
   ]
  },
  {
   "cell_type": "code",
   "execution_count": 26,
   "metadata": {},
   "outputs": [
    {
     "data": {
      "text/plain": [
       "DataFrame[EnqueuedTimeUtc: string, machineID: string, ambient_temperature: double, ambient_pressure: double, speed: double, temperature: double, pressure: double, f0: double, f1: double, f2: double, a0: double, a1: double, a2: double]"
      ]
     },
     "execution_count": 26,
     "metadata": {},
     "output_type": "execute_result"
    }
   ],
   "source": [
    "frequency_features = 3\n",
    "dfa = reduce(lambda _df, i: _df.withColumn('f{0}'.format(i), _df.dominant_frequencies[i]), range(frequency_features), dfa)\n",
    "dfa = reduce(lambda _df, i: _df.withColumn('a{0}'.format(i), _df.dominant_frequencies_amplitudes[i]), range(frequency_features), dfa)\n",
    "dfa = dfa.drop('vibration', 'fft', 'dominant_frequencies', 'dominant_frequencies_amplitudes')\n",
    "dfa.persist(StorageLevel.MEMORY_AND_DISK)"
   ]
  },
  {
   "cell_type": "code",
   "execution_count": 27,
   "metadata": {},
   "outputs": [],
   "source": [
    "dependent_features = [c for c in dfa.columns if c not in ['machineID', 'EnqueuedTimeUtc', 'speed', 'ambient_pressure', 'ambient_temperature']]\n",
    "dfa = reduce(lambda _df, f: _df.withColumn('{0}_n'.format(f), col(f) / col('speed')), dependent_features, dfa)"
   ]
  },
  {
   "cell_type": "code",
   "execution_count": 28,
   "metadata": {},
   "outputs": [
    {
     "data": {
      "text/html": [
       "<div>\n",
       "<style>\n",
       "    .dataframe thead tr:only-child th {\n",
       "        text-align: right;\n",
       "    }\n",
       "\n",
       "    .dataframe thead th {\n",
       "        text-align: left;\n",
       "    }\n",
       "\n",
       "    .dataframe tbody tr th {\n",
       "        vertical-align: top;\n",
       "    }\n",
       "</style>\n",
       "<table border=\"1\" class=\"dataframe\">\n",
       "  <thead>\n",
       "    <tr style=\"text-align: right;\">\n",
       "      <th></th>\n",
       "      <th>EnqueuedTimeUtc</th>\n",
       "      <th>machineID</th>\n",
       "      <th>ambient_temperature</th>\n",
       "      <th>ambient_pressure</th>\n",
       "      <th>speed</th>\n",
       "      <th>temperature</th>\n",
       "      <th>pressure</th>\n",
       "      <th>f0</th>\n",
       "      <th>f1</th>\n",
       "      <th>f2</th>\n",
       "      <th>...</th>\n",
       "      <th>a1</th>\n",
       "      <th>a2</th>\n",
       "      <th>temperature_n</th>\n",
       "      <th>pressure_n</th>\n",
       "      <th>f0_n</th>\n",
       "      <th>f1_n</th>\n",
       "      <th>f2_n</th>\n",
       "      <th>a0_n</th>\n",
       "      <th>a1_n</th>\n",
       "      <th>a2_n</th>\n",
       "    </tr>\n",
       "  </thead>\n",
       "  <tbody>\n",
       "    <tr>\n",
       "      <th>0</th>\n",
       "      <td>2018-04-09T05:21:31.5560000Z</td>\n",
       "      <td>MACHINE-009</td>\n",
       "      <td>20.0</td>\n",
       "      <td>101.0</td>\n",
       "      <td>1362.0</td>\n",
       "      <td>120.00</td>\n",
       "      <td>2724.0</td>\n",
       "      <td>45.0</td>\n",
       "      <td>46.0</td>\n",
       "      <td>409.0</td>\n",
       "      <td>...</td>\n",
       "      <td>6220.699919</td>\n",
       "      <td>5563.574244</td>\n",
       "      <td>0.088106</td>\n",
       "      <td>2.0</td>\n",
       "      <td>0.033040</td>\n",
       "      <td>0.033774</td>\n",
       "      <td>0.300294</td>\n",
       "      <td>6.794222</td>\n",
       "      <td>4.567327</td>\n",
       "      <td>4.084856</td>\n",
       "    </tr>\n",
       "    <tr>\n",
       "      <th>1</th>\n",
       "      <td>2018-04-09T05:21:31.6970000Z</td>\n",
       "      <td>MACHINE-008</td>\n",
       "      <td>20.0</td>\n",
       "      <td>101.0</td>\n",
       "      <td>1117.0</td>\n",
       "      <td>105.45</td>\n",
       "      <td>1675.5</td>\n",
       "      <td>223.0</td>\n",
       "      <td>93.0</td>\n",
       "      <td>37.0</td>\n",
       "      <td>...</td>\n",
       "      <td>1267.540256</td>\n",
       "      <td>1195.808706</td>\n",
       "      <td>0.094405</td>\n",
       "      <td>1.5</td>\n",
       "      <td>0.199642</td>\n",
       "      <td>0.083259</td>\n",
       "      <td>0.033124</td>\n",
       "      <td>1.450224</td>\n",
       "      <td>1.134772</td>\n",
       "      <td>1.070554</td>\n",
       "    </tr>\n",
       "    <tr>\n",
       "      <th>2</th>\n",
       "      <td>2018-04-09T05:21:31.8530000Z</td>\n",
       "      <td>MACHINE-006</td>\n",
       "      <td>20.0</td>\n",
       "      <td>101.0</td>\n",
       "      <td>1338.0</td>\n",
       "      <td>120.00</td>\n",
       "      <td>2676.0</td>\n",
       "      <td>268.0</td>\n",
       "      <td>89.0</td>\n",
       "      <td>267.0</td>\n",
       "      <td>...</td>\n",
       "      <td>1372.411966</td>\n",
       "      <td>1074.453509</td>\n",
       "      <td>0.089686</td>\n",
       "      <td>2.0</td>\n",
       "      <td>0.200299</td>\n",
       "      <td>0.066517</td>\n",
       "      <td>0.199552</td>\n",
       "      <td>1.204195</td>\n",
       "      <td>1.025719</td>\n",
       "      <td>0.803030</td>\n",
       "    </tr>\n",
       "    <tr>\n",
       "      <th>3</th>\n",
       "      <td>2018-04-09T05:21:32.4310000Z</td>\n",
       "      <td>MACHINE-004</td>\n",
       "      <td>20.0</td>\n",
       "      <td>101.0</td>\n",
       "      <td>1344.0</td>\n",
       "      <td>120.00</td>\n",
       "      <td>2688.0</td>\n",
       "      <td>269.0</td>\n",
       "      <td>112.0</td>\n",
       "      <td>45.0</td>\n",
       "      <td>...</td>\n",
       "      <td>1295.036371</td>\n",
       "      <td>1217.667110</td>\n",
       "      <td>0.089286</td>\n",
       "      <td>2.0</td>\n",
       "      <td>0.200149</td>\n",
       "      <td>0.083333</td>\n",
       "      <td>0.033482</td>\n",
       "      <td>1.481760</td>\n",
       "      <td>0.963569</td>\n",
       "      <td>0.906002</td>\n",
       "    </tr>\n",
       "    <tr>\n",
       "      <th>4</th>\n",
       "      <td>2018-04-09T05:21:32.4470000Z</td>\n",
       "      <td>MACHINE-003</td>\n",
       "      <td>20.0</td>\n",
       "      <td>101.0</td>\n",
       "      <td>1367.0</td>\n",
       "      <td>120.00</td>\n",
       "      <td>2734.0</td>\n",
       "      <td>273.0</td>\n",
       "      <td>91.0</td>\n",
       "      <td>114.0</td>\n",
       "      <td>...</td>\n",
       "      <td>1442.337249</td>\n",
       "      <td>1294.461786</td>\n",
       "      <td>0.087783</td>\n",
       "      <td>2.0</td>\n",
       "      <td>0.199707</td>\n",
       "      <td>0.066569</td>\n",
       "      <td>0.083394</td>\n",
       "      <td>1.176007</td>\n",
       "      <td>1.055111</td>\n",
       "      <td>0.946936</td>\n",
       "    </tr>\n",
       "  </tbody>\n",
       "</table>\n",
       "<p>5 rows × 21 columns</p>\n",
       "</div>"
      ],
      "text/plain": [
       "                EnqueuedTimeUtc    machineID  ambient_temperature  \\\n",
       "0  2018-04-09T05:21:31.5560000Z  MACHINE-009                 20.0   \n",
       "1  2018-04-09T05:21:31.6970000Z  MACHINE-008                 20.0   \n",
       "2  2018-04-09T05:21:31.8530000Z  MACHINE-006                 20.0   \n",
       "3  2018-04-09T05:21:32.4310000Z  MACHINE-004                 20.0   \n",
       "4  2018-04-09T05:21:32.4470000Z  MACHINE-003                 20.0   \n",
       "\n",
       "   ambient_pressure   speed  temperature  pressure     f0     f1     f2  \\\n",
       "0             101.0  1362.0       120.00    2724.0   45.0   46.0  409.0   \n",
       "1             101.0  1117.0       105.45    1675.5  223.0   93.0   37.0   \n",
       "2             101.0  1338.0       120.00    2676.0  268.0   89.0  267.0   \n",
       "3             101.0  1344.0       120.00    2688.0  269.0  112.0   45.0   \n",
       "4             101.0  1367.0       120.00    2734.0  273.0   91.0  114.0   \n",
       "\n",
       "     ...              a1           a2  temperature_n  pressure_n      f0_n  \\\n",
       "0    ...     6220.699919  5563.574244       0.088106         2.0  0.033040   \n",
       "1    ...     1267.540256  1195.808706       0.094405         1.5  0.199642   \n",
       "2    ...     1372.411966  1074.453509       0.089686         2.0  0.200299   \n",
       "3    ...     1295.036371  1217.667110       0.089286         2.0  0.200149   \n",
       "4    ...     1442.337249  1294.461786       0.087783         2.0  0.199707   \n",
       "\n",
       "       f1_n      f2_n      a0_n      a1_n      a2_n  \n",
       "0  0.033774  0.300294  6.794222  4.567327  4.084856  \n",
       "1  0.083259  0.033124  1.450224  1.134772  1.070554  \n",
       "2  0.066517  0.199552  1.204195  1.025719  0.803030  \n",
       "3  0.083333  0.033482  1.481760  0.963569  0.906002  \n",
       "4  0.066569  0.083394  1.176007  1.055111  0.946936  \n",
       "\n",
       "[5 rows x 21 columns]"
      ]
     },
     "execution_count": 28,
     "metadata": {},
     "output_type": "execute_result"
    }
   ],
   "source": [
    "wasbUrlOutput = \"wasb://{0}@{1}.blob.{2}/features.parquet\".format(\n",
    "            'intermediate',\n",
    "            STAGING_STORAGE_ACCOUNT_NAME,\n",
    "            STORAGE_ACCOUNT_SUFFIX)\n",
    "\n",
    "dfa.write.parquet(wasbUrlOutput, mode=\"overwrite\")\n",
    "\n",
    "dfa.limit(5).toPandas().head()"
   ]
  },
  {
   "cell_type": "markdown",
   "metadata": {},
   "source": [
    "## References\n",
    "<a name=\"ref_1\"></a>1.  [Big Data: Week 3 Video 3 - Feature Engineering](https://www.youtube.com/watch?v=drUToKxEAUA). youtube.com."
   ]
  },
  {
   "cell_type": "code",
   "execution_count": null,
   "metadata": {},
   "outputs": [],
   "source": []
  }
 ],
 "metadata": {
  "kernelspec": {
   "display_name": "PySpark",
   "language": "python",
   "name": "pyspark"
  },
  "language_info": {
   "codemirror_mode": {
    "name": "ipython",
    "version": 3
   },
   "file_extension": ".py",
   "mimetype": "text/x-python",
   "name": "python",
   "nbconvert_exporter": "python",
   "pygments_lexer": "ipython3",
   "version": "3.6.2"
  }
 },
 "nbformat": 4,
 "nbformat_minor": 2
}
