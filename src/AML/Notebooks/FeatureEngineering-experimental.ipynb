{
 "cells": [
  {
   "cell_type": "markdown",
   "metadata": {},
   "source": [
    "# Feature Engineering\n",
    "\n",
    "In machine learning, a feature is an individual measurable attribute of a phenomenon being observed. The extraction of features from raw training data is called *feature engineering*. In other words, feature engineering is a process of transforming raw training data into a *representation* suitable for the application of machine learning algorithms.\n",
    "\n",
    "This process usually requires a certain degree of domain expertise and can be divided into the following stages <sup>[[1]](#ref_1)</sup>: \n",
    "- Brainstorming on features\n",
    "- Deciding what features to create\n",
    "- Creating features\n",
    "- Studying how the features impact model's predictive accuracy\n",
    "- Iterating if necessary"
   ]
  },
  {
   "cell_type": "code",
   "execution_count": 125,
   "metadata": {},
   "outputs": [],
   "source": [
    "%matplotlib inline\n",
    "import pyspark\n",
    "from functools import reduce\n",
    "from pyspark.sql import SparkSession, SQLContext, Window\n",
    "import pyspark.sql.functions as F\n",
    "import pandas as pd\n",
    "import matplotlib\n",
    "import matplotlib.pyplot as plt\n",
    "from pyspark.storagelevel import StorageLevel\n",
    "\n",
    "matplotlib.style.use('ggplot')"
   ]
  },
  {
   "cell_type": "markdown",
   "metadata": {},
   "source": [
    "## Reading input data"
   ]
  },
  {
   "cell_type": "code",
   "execution_count": 126,
   "metadata": {},
   "outputs": [
    {
     "name": "stdout",
     "output_type": "stream",
     "text": [
      "root\n",
      " |-- timestamp: timestamp (nullable = true)\n",
      " |-- ambient_pressure: double (nullable = true)\n",
      " |-- ambient_temperature: double (nullable = true)\n",
      " |-- machineID: string (nullable = true)\n",
      " |-- pressure: double (nullable = true)\n",
      " |-- speed: double (nullable = true)\n",
      " |-- speed_desired: long (nullable = true)\n",
      " |-- temperature: double (nullable = true)\n",
      "\n",
      "root\n",
      " |-- timestamp: timestamp (nullable = true)\n",
      " |-- code: string (nullable = true)\n",
      " |-- level: string (nullable = true)\n",
      " |-- machineID: string (nullable = true)\n",
      "\n"
     ]
    }
   ],
   "source": [
    "sqlContext = SQLContext(sc)\n",
    "\n",
    "df_telemetry = sqlContext.read.parquet('data/telemetry')\n",
    "df_logs = sqlContext.read.parquet('data/logs')\n",
    "\n",
    "df_telemetry.printSchema()\n",
    "df_logs.printSchema()"
   ]
  },
  {
   "cell_type": "code",
   "execution_count": 127,
   "metadata": {},
   "outputs": [
    {
     "name": "stdout",
     "output_type": "stream",
     "text": [
      "4419266\n",
      "8\n",
      "+-------------------+----+--------+---------+\n",
      "|          timestamp|code|   level|machineID|\n",
      "+-------------------+----+--------+---------+\n",
      "|2017-06-08 11:17:10|  F1|CRITICAL|   M_0506|\n",
      "|2017-06-09 15:02:52|  F1|CRITICAL|   M_0144|\n",
      "|2017-06-10 05:10:15|  F1|CRITICAL|   M_0942|\n",
      "|2017-06-11 04:06:30|  F1|CRITICAL|   M_0709|\n",
      "|2017-06-12 18:46:59|  F1|CRITICAL|   M_0998|\n",
      "|2017-06-12 22:14:18|  F1|CRITICAL|   M_0217|\n",
      "|2017-06-13 05:08:57|  F1|CRITICAL|   M_0174|\n",
      "|2017-06-13 12:47:25|  F1|CRITICAL|   M_0030|\n",
      "+-------------------+----+--------+---------+\n",
      "\n"
     ]
    }
   ],
   "source": [
    "print(df_telemetry.count())\n",
    "print(df_logs.count())\n",
    "df_logs.show()"
   ]
  },
  {
   "cell_type": "markdown",
   "metadata": {},
   "source": [
    "## Data exploration"
   ]
  },
  {
   "cell_type": "code",
   "execution_count": 128,
   "metadata": {},
   "outputs": [
    {
     "data": {
      "text/html": [
       "<div>\n",
       "<style scoped>\n",
       "    .dataframe tbody tr th:only-of-type {\n",
       "        vertical-align: middle;\n",
       "    }\n",
       "\n",
       "    .dataframe tbody tr th {\n",
       "        vertical-align: top;\n",
       "    }\n",
       "\n",
       "    .dataframe thead th {\n",
       "        text-align: right;\n",
       "    }\n",
       "</style>\n",
       "<table border=\"1\" class=\"dataframe\">\n",
       "  <thead>\n",
       "    <tr style=\"text-align: right;\">\n",
       "      <th></th>\n",
       "      <th>ambient_pressure</th>\n",
       "      <th>ambient_temperature</th>\n",
       "      <th>pressure</th>\n",
       "      <th>speed</th>\n",
       "      <th>speed_desired</th>\n",
       "      <th>temperature</th>\n",
       "    </tr>\n",
       "  </thead>\n",
       "  <tbody>\n",
       "    <tr>\n",
       "      <th>count</th>\n",
       "      <td>5110.000000</td>\n",
       "      <td>5110.000000</td>\n",
       "      <td>5110.000000</td>\n",
       "      <td>5110.000000</td>\n",
       "      <td>5110.0</td>\n",
       "      <td>5110.000000</td>\n",
       "    </tr>\n",
       "    <tr>\n",
       "      <th>mean</th>\n",
       "      <td>100.999162</td>\n",
       "      <td>20.000726</td>\n",
       "      <td>815.077857</td>\n",
       "      <td>999.818452</td>\n",
       "      <td>1000.0</td>\n",
       "      <td>156.985141</td>\n",
       "    </tr>\n",
       "    <tr>\n",
       "      <th>std</th>\n",
       "      <td>0.057630</td>\n",
       "      <td>0.057542</td>\n",
       "      <td>138.622522</td>\n",
       "      <td>8.558367</td>\n",
       "      <td>0.0</td>\n",
       "      <td>9.289316</td>\n",
       "    </tr>\n",
       "    <tr>\n",
       "      <th>min</th>\n",
       "      <td>100.900000</td>\n",
       "      <td>19.900000</td>\n",
       "      <td>160.790000</td>\n",
       "      <td>502.220000</td>\n",
       "      <td>1000.0</td>\n",
       "      <td>25.110000</td>\n",
       "    </tr>\n",
       "    <tr>\n",
       "      <th>25%</th>\n",
       "      <td>100.950000</td>\n",
       "      <td>19.950000</td>\n",
       "      <td>745.255000</td>\n",
       "      <td>997.462500</td>\n",
       "      <td>1000.0</td>\n",
       "      <td>151.150000</td>\n",
       "    </tr>\n",
       "    <tr>\n",
       "      <th>50%</th>\n",
       "      <td>101.000000</td>\n",
       "      <td>20.000000</td>\n",
       "      <td>855.025000</td>\n",
       "      <td>1000.020000</td>\n",
       "      <td>1000.0</td>\n",
       "      <td>154.405000</td>\n",
       "    </tr>\n",
       "    <tr>\n",
       "      <th>75%</th>\n",
       "      <td>101.050000</td>\n",
       "      <td>20.050000</td>\n",
       "      <td>921.257500</td>\n",
       "      <td>1002.570000</td>\n",
       "      <td>1000.0</td>\n",
       "      <td>160.210000</td>\n",
       "    </tr>\n",
       "    <tr>\n",
       "      <th>max</th>\n",
       "      <td>101.100000</td>\n",
       "      <td>20.100000</td>\n",
       "      <td>988.960000</td>\n",
       "      <td>1004.990000</td>\n",
       "      <td>1000.0</td>\n",
       "      <td>214.880000</td>\n",
       "    </tr>\n",
       "  </tbody>\n",
       "</table>\n",
       "</div>"
      ],
      "text/plain": [
       "       ambient_pressure  ambient_temperature     pressure        speed  \\\n",
       "count       5110.000000          5110.000000  5110.000000  5110.000000   \n",
       "mean         100.999162            20.000726   815.077857   999.818452   \n",
       "std            0.057630             0.057542   138.622522     8.558367   \n",
       "min          100.900000            19.900000   160.790000   502.220000   \n",
       "25%          100.950000            19.950000   745.255000   997.462500   \n",
       "50%          101.000000            20.000000   855.025000  1000.020000   \n",
       "75%          101.050000            20.050000   921.257500  1002.570000   \n",
       "max          101.100000            20.100000   988.960000  1004.990000   \n",
       "\n",
       "       speed_desired  temperature  \n",
       "count         5110.0  5110.000000  \n",
       "mean          1000.0   156.985141  \n",
       "std              0.0     9.289316  \n",
       "min           1000.0    25.110000  \n",
       "25%           1000.0   151.150000  \n",
       "50%           1000.0   154.405000  \n",
       "75%           1000.0   160.210000  \n",
       "max           1000.0   214.880000  "
      ]
     },
     "execution_count": 128,
     "metadata": {},
     "output_type": "execute_result"
    }
   ],
   "source": [
    "machineID = df_logs.first().machineID\n",
    "\n",
    "machine_sequence_df = df_telemetry.where(df_telemetry.machineID == machineID).orderBy(df_telemetry.timestamp)\n",
    "#machine_sequence_df.persist(StorageLevel.MEMORY_ONLY)\n",
    "pdf = machine_sequence_df.toPandas()\n",
    "pdf.set_index('timestamp', inplace=True)\n",
    "pdf.describe()"
   ]
  },
  {
   "cell_type": "code",
   "execution_count": 129,
   "metadata": {},
   "outputs": [
    {
     "data": {
      "text/plain": [
       "<matplotlib.axes._subplots.AxesSubplot at 0x7f01e23643c8>"
      ]
     },
     "execution_count": 129,
     "metadata": {},
     "output_type": "execute_result"
    },
    {
     "data": {
      "image/png": "[encoded data removed]",
      "text/plain": [
       "<matplotlib.figure.Figure at 0x7f01e255e5c0>"
      ]
     },
     "metadata": {},
     "output_type": "display_data"
    }
   ],
   "source": [
    "pdf.plot(title=machineID , style=\".\", y='speed_desired')"
   ]
  },
  {
   "cell_type": "markdown",
   "metadata": {},
   "source": [
    "## Feature creation\n",
    "\n",
    "### Operational cycles"
   ]
  },
  {
   "cell_type": "code",
   "execution_count": 130,
   "metadata": {},
   "outputs": [
    {
     "data": {
      "text/plain": [
       "array([<matplotlib.axes._subplots.AxesSubplot object at 0x7f01e24c7400>,\n",
       "       <matplotlib.axes._subplots.AxesSubplot object at 0x7f01e242e080>,\n",
       "       <matplotlib.axes._subplots.AxesSubplot object at 0x7f01e23f1b00>],\n",
       "      dtype=object)"
      ]
     },
     "execution_count": 130,
     "metadata": {},
     "output_type": "execute_result"
    },
    {
     "data": {
      "image/png": "[encoded data removed]",
      "text/plain": [
       "<matplotlib.figure.Figure at 0x7f01e24c79b0>"
      ]
     },
     "metadata": {},
     "output_type": "display_data"
    }
   ],
   "source": [
    "def cycles(df):\n",
    "    w = Window.partitionBy('machineID').orderBy('timestamp')\n",
    "\n",
    "    # Difference from the previous record or 0 if this is the first one\n",
    "    diff = F.coalesce(F.unix_timestamp('timestamp') - F.unix_timestamp(F.lag('timestamp', 1).over(w)), F.lit(0))\n",
    "\n",
    "    # 0 if diff <= 30, 1 otherwise\n",
    "    indicator = (diff > 30).cast('integer')\n",
    "\n",
    "    subgroup = F.sum(indicator).over(w).alias('cycle')\n",
    "\n",
    "    return df.select(\"*\", subgroup).groupBy('machineID', 'cycle').agg(\n",
    "        F.avg('speed').alias('speed_avg'),\n",
    "        F.avg('temperature').alias('temperature_avg'),\n",
    "        F.max('temperature').alias('temperature_max'),\n",
    "        F.avg('pressure').alias('pressure_avg'),\n",
    "        F.min('timestamp').alias('cycle_start'),\n",
    "        F.max('timestamp').alias('cycle_end')\n",
    "    ).orderBy('cycle')\n",
    "\n",
    "msdf_cycles = cycles(machine_sequence_df)\n",
    "msdf_cycles[['temperature_avg', 'temperature_max', 'pressure_avg']].toPandas().plot(subplots=True, title='Cycle features')"
   ]
  },
  {
   "cell_type": "code",
   "execution_count": 131,
   "metadata": {},
   "outputs": [
    {
     "name": "stdout",
     "output_type": "stream",
     "text": [
      "+-------------------+\n",
      "|   max(cycle_start)|\n",
      "+-------------------+\n",
      "|2017-06-14 15:57:00|\n",
      "+-------------------+\n",
      "\n"
     ]
    }
   ],
   "source": [
    "cycles_df = cycles(df_telemetry)\n",
    "# cycles_df.unpersist()\n",
    "# cycles_df.persist(StorageLevel.MEMORY_AND_DISK)\n",
    "cycles_df.count()\n",
    "\n",
    "cycles_df.select(F.max(F.col('cycle_start'))).show()"
   ]
  },
  {
   "cell_type": "markdown",
   "metadata": {},
   "source": [
    "### Augmenting data with additional lag features"
   ]
  },
  {
   "cell_type": "code",
   "execution_count": 132,
   "metadata": {},
   "outputs": [],
   "source": [
    "w = Window.partitionBy('machineID').rowsBetween(-5, Window.currentRow).orderBy('cycle_start')\n",
    "augmented_cycles_df = cycles_df.withColumn('rolling_average', F.avg(\"temperature_max\").over(w))"
   ]
  },
  {
   "cell_type": "markdown",
   "metadata": {},
   "source": [
    "### Labeling"
   ]
  },
  {
   "cell_type": "code",
   "execution_count": 133,
   "metadata": {},
   "outputs": [],
   "source": [
    "#df_logs.show()\n",
    "\n",
    "w = Window.partitionBy('machineID', 'level', 'code').orderBy('timestamp') # since last failure of the same type?\n",
    "diff = F.coalesce(F.lag('timestamp', 1).over(w), F.to_timestamp(F.lit('2000-01-01 00:00:00')))\n",
    "\n",
    "failures_df = (df_logs.where(df_logs.level == 'CRITICAL')\n",
    "               .withColumn('last_failure_timestamp', diff)\n",
    "               .withColumnRenamed('timestamp', 'failure_timestamp')\n",
    "               .withColumnRenamed('code', 'failure')\n",
    "               .drop('level'))\n",
    "\n",
    "labeled_cycles_df = (augmented_cycles_df.join(failures_df,\n",
    "                                       (augmented_cycles_df.machineID == failures_df.machineID) &\n",
    "                                       (augmented_cycles_df.cycle_start >= failures_df.last_failure_timestamp) &\n",
    "                                       (augmented_cycles_df.cycle_end <= failures_df.failure_timestamp),\n",
    "                                       'left_outer')\n",
    "                     .drop(failures_df.machineID)\n",
    "                     .drop(augmented_cycles_df.cycle_end)\n",
    "                     .drop(failures_df.last_failure_timestamp)\n",
    "                     .withColumnRenamed('cycle_start', 'timestamp')\n",
    "                     .withColumn(\n",
    "                         'rul',\n",
    "                         F.when(F.col('failure').isNull(), None).otherwise(\n",
    "                             F.dense_rank().over(Window.partitionBy('machineID', 'failure_timestamp')\n",
    "                                             .orderBy(F.desc('cycle')))))\n",
    "                     .drop(failures_df.failure_timestamp))"
   ]
  },
  {
   "cell_type": "code",
   "execution_count": 134,
   "metadata": {},
   "outputs": [
    {
     "data": {
      "text/html": [
       "<div>\n",
       "<style scoped>\n",
       "    .dataframe tbody tr th:only-of-type {\n",
       "        vertical-align: middle;\n",
       "    }\n",
       "\n",
       "    .dataframe tbody tr th {\n",
       "        vertical-align: top;\n",
       "    }\n",
       "\n",
       "    .dataframe thead th {\n",
       "        text-align: right;\n",
       "    }\n",
       "</style>\n",
       "<table border=\"1\" class=\"dataframe\">\n",
       "  <thead>\n",
       "    <tr style=\"text-align: right;\">\n",
       "      <th></th>\n",
       "      <th>machineID</th>\n",
       "      <th>cycle</th>\n",
       "      <th>speed_avg</th>\n",
       "      <th>temperature_avg</th>\n",
       "      <th>temperature_max</th>\n",
       "      <th>pressure_avg</th>\n",
       "      <th>timestamp</th>\n",
       "      <th>rolling_average</th>\n",
       "      <th>failure</th>\n",
       "      <th>rul</th>\n",
       "    </tr>\n",
       "  </thead>\n",
       "  <tbody>\n",
       "    <tr>\n",
       "      <th>0</th>\n",
       "      <td>M_0217</td>\n",
       "      <td>33</td>\n",
       "      <td>1000.073406</td>\n",
       "      <td>187.673043</td>\n",
       "      <td>214.82</td>\n",
       "      <td>380.155580</td>\n",
       "      <td>2017-06-12 22:12:00</td>\n",
       "      <td>175.851667</td>\n",
       "      <td>F1</td>\n",
       "      <td>1</td>\n",
       "    </tr>\n",
       "    <tr>\n",
       "      <th>1</th>\n",
       "      <td>M_0217</td>\n",
       "      <td>32</td>\n",
       "      <td>999.677467</td>\n",
       "      <td>173.705233</td>\n",
       "      <td>179.67</td>\n",
       "      <td>541.218833</td>\n",
       "      <td>2017-06-12 05:02:00</td>\n",
       "      <td>166.905000</td>\n",
       "      <td>F1</td>\n",
       "      <td>2</td>\n",
       "    </tr>\n",
       "    <tr>\n",
       "      <th>2</th>\n",
       "      <td>M_0217</td>\n",
       "      <td>31</td>\n",
       "      <td>1000.136800</td>\n",
       "      <td>167.089667</td>\n",
       "      <td>169.64</td>\n",
       "      <td>634.847867</td>\n",
       "      <td>2017-06-10 07:20:00</td>\n",
       "      <td>163.550000</td>\n",
       "      <td>F1</td>\n",
       "      <td>3</td>\n",
       "    </tr>\n",
       "    <tr>\n",
       "      <th>3</th>\n",
       "      <td>M_0217</td>\n",
       "      <td>30</td>\n",
       "      <td>999.778167</td>\n",
       "      <td>164.637333</td>\n",
       "      <td>165.06</td>\n",
       "      <td>673.618667</td>\n",
       "      <td>2017-06-09 22:41:00</td>\n",
       "      <td>161.743333</td>\n",
       "      <td>F1</td>\n",
       "      <td>4</td>\n",
       "    </tr>\n",
       "    <tr>\n",
       "      <th>4</th>\n",
       "      <td>M_0217</td>\n",
       "      <td>29</td>\n",
       "      <td>999.911000</td>\n",
       "      <td>162.848400</td>\n",
       "      <td>164.36</td>\n",
       "      <td>702.745900</td>\n",
       "      <td>2017-06-09 07:11:00</td>\n",
       "      <td>160.541667</td>\n",
       "      <td>F1</td>\n",
       "      <td>5</td>\n",
       "    </tr>\n",
       "  </tbody>\n",
       "</table>\n",
       "</div>"
      ],
      "text/plain": [
       "  machineID  cycle    speed_avg  temperature_avg  temperature_max  \\\n",
       "0    M_0217     33  1000.073406       187.673043           214.82   \n",
       "1    M_0217     32   999.677467       173.705233           179.67   \n",
       "2    M_0217     31  1000.136800       167.089667           169.64   \n",
       "3    M_0217     30   999.778167       164.637333           165.06   \n",
       "4    M_0217     29   999.911000       162.848400           164.36   \n",
       "\n",
       "   pressure_avg           timestamp  rolling_average failure  rul  \n",
       "0    380.155580 2017-06-12 22:12:00       175.851667      F1    1  \n",
       "1    541.218833 2017-06-12 05:02:00       166.905000      F1    2  \n",
       "2    634.847867 2017-06-10 07:20:00       163.550000      F1    3  \n",
       "3    673.618667 2017-06-09 22:41:00       161.743333      F1    4  \n",
       "4    702.745900 2017-06-09 07:11:00       160.541667      F1    5  "
      ]
     },
     "execution_count": 134,
     "metadata": {},
     "output_type": "execute_result"
    }
   ],
   "source": [
    "labeled_cycles_df.limit(10).toPandas().head()"
   ]
  },
  {
   "cell_type": "code",
   "execution_count": 135,
   "metadata": {},
   "outputs": [
    {
     "data": {
      "text/html": [
       "<div>\n",
       "<style scoped>\n",
       "    .dataframe tbody tr th:only-of-type {\n",
       "        vertical-align: middle;\n",
       "    }\n",
       "\n",
       "    .dataframe tbody tr th {\n",
       "        vertical-align: top;\n",
       "    }\n",
       "\n",
       "    .dataframe thead th {\n",
       "        text-align: right;\n",
       "    }\n",
       "</style>\n",
       "<table border=\"1\" class=\"dataframe\">\n",
       "  <thead>\n",
       "    <tr style=\"text-align: right;\">\n",
       "      <th></th>\n",
       "      <th>max(rul)</th>\n",
       "    </tr>\n",
       "  </thead>\n",
       "  <tbody>\n",
       "    <tr>\n",
       "      <th>count</th>\n",
       "      <td>8.00000</td>\n",
       "    </tr>\n",
       "    <tr>\n",
       "      <th>mean</th>\n",
       "      <td>30.25000</td>\n",
       "    </tr>\n",
       "    <tr>\n",
       "      <th>std</th>\n",
       "      <td>2.37547</td>\n",
       "    </tr>\n",
       "    <tr>\n",
       "      <th>min</th>\n",
       "      <td>28.00000</td>\n",
       "    </tr>\n",
       "    <tr>\n",
       "      <th>25%</th>\n",
       "      <td>28.75000</td>\n",
       "    </tr>\n",
       "    <tr>\n",
       "      <th>50%</th>\n",
       "      <td>29.00000</td>\n",
       "    </tr>\n",
       "    <tr>\n",
       "      <th>75%</th>\n",
       "      <td>32.25000</td>\n",
       "    </tr>\n",
       "    <tr>\n",
       "      <th>max</th>\n",
       "      <td>34.00000</td>\n",
       "    </tr>\n",
       "  </tbody>\n",
       "</table>\n",
       "</div>"
      ],
      "text/plain": [
       "       max(rul)\n",
       "count   8.00000\n",
       "mean   30.25000\n",
       "std     2.37547\n",
       "min    28.00000\n",
       "25%    28.75000\n",
       "50%    29.00000\n",
       "75%    32.25000\n",
       "max    34.00000"
      ]
     },
     "execution_count": 135,
     "metadata": {},
     "output_type": "execute_result"
    }
   ],
   "source": [
    "labeled_cycles_df.where(labeled_cycles_df.failure.isNotNull()).groupBy('machineID').agg(F.max('rul')).toPandas().describe()"
   ]
  },
  {
   "cell_type": "markdown",
   "metadata": {},
   "source": [
    "## Persisting the labeled feature dataset"
   ]
  },
  {
   "cell_type": "code",
   "execution_count": 136,
   "metadata": {},
   "outputs": [],
   "source": [
    "% rm -rf data/features\n",
    "\n",
    "labeled_cycles_df.coalesce(5).write.csv('data/features', header=True)"
   ]
  },
  {
   "cell_type": "markdown",
   "metadata": {},
   "source": [
    "## References\n",
    "http://waset.org/publications/10006640/building-a-scalable-telemetry-based-multiclass-predictive-maintenance-model-in-r\n",
    "http://citeseerx.ist.psu.edu/viewdoc/download?doi=10.1.1.386.8108&rep=rep1&type=pdf"
   ]
  }
 ],
 "metadata": {
  "kernelspec": {
   "display_name": "PySpark",
   "language": "python",
   "name": "pyspark"
  },
  "language_info": {
   "codemirror_mode": {
    "name": "ipython",
    "version": 3
   },
   "file_extension": ".py",
   "mimetype": "text/x-python",
   "name": "python",
   "nbconvert_exporter": "python",
   "pygments_lexer": "ipython3",
   "version": "3.6.4"
  }
 },
 "nbformat": 4,
 "nbformat_minor": 2
}
