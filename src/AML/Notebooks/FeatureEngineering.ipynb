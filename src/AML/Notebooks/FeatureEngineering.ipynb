{
 "cells": [
  {
   "cell_type": "markdown",
   "metadata": {},
   "source": [
    "# Feature Engineering\n",
    "\n",
    "In machine learning, a feature is an individual measurable attribute of a phenomenon being observed. The extraction of features from raw training data is called *feature engineering*. In other words, feature engineering is a process of transforming raw training data into a *representation* suitable for the application of machine learning algorithms.\n",
    "\n",
    "This process usually requires a certain degree of domain expertise and can be divided into the following stages <sup>[[1]](#ref_1)</sup>: \n",
    "- Brainstorming on features\n",
    "- Deciding what features to create\n",
    "- Creating features\n",
    "- Studying how the features impact model's predictive accuracy\n",
    "- Iterating if necessary"
   ]
  },
  {
   "cell_type": "code",
   "execution_count": 1,
   "metadata": {},
   "outputs": [],
   "source": [
    "%matplotlib inline\n",
    "import os\n",
    "import json\n",
    "import pickle\n",
    "import pyspark\n",
    "from functools import reduce\n",
    "from pyspark.sql import SparkSession, SQLContext\n",
    "from pyspark.sql.functions import udf, mean, lit, stddev, col, expr, when\n",
    "from pyspark.sql.types import DoubleType, ArrayType, ShortType, LongType, IntegerType\n",
    "import pandas as pd\n",
    "from collections import OrderedDict\n",
    "from datetime import date\n",
    "import numpy as np\n",
    "from scipy import signal\n",
    "import matplotlib.pyplot as plt\n",
    "from pyspark.storagelevel import StorageLevel\n",
    "\n",
    "from azureml.api.schema.dataTypes import DataTypes\n",
    "from azureml.api.schema.sampleDefinition import SampleDefinition\n",
    "from azureml.api.realtime.services import generate_schema"
   ]
  },
  {
   "cell_type": "markdown",
   "metadata": {},
   "source": [
    "##  Reading raw training dataset\n",
    "First, let's read the raw training dataset from Azure Blob storage into a Spark dataframe. The dataset consists of IoT Hub messages that contain sensor data<sup>[[2]](#ref_2)</sup>. Captured data is written in Apache Avro format: a compact, fast, binary format that provides rich data structures with inline schema<sup>[[3]](#ref_3)</sup>."
   ]
  },
  {
   "cell_type": "code",
   "execution_count": 2,
   "metadata": {},
   "outputs": [
    {
     "name": "stdout",
     "output_type": "stream",
     "text": [
      "root\n",
      " |-- EnqueuedTimeUtc: string (nullable = true)\n",
      " |-- Properties: map (nullable = true)\n",
      " |    |-- key: string\n",
      " |    |-- value: string (valueContainsNull = true)\n",
      " |-- SystemProperties: map (nullable = true)\n",
      " |    |-- key: string\n",
      " |    |-- value: string (valueContainsNull = true)\n",
      " |-- Body: binary (nullable = true)\n",
      "\n"
     ]
    }
   ],
   "source": [
    "STORAGE_ACCOUNT_SUFFIX = 'core.windows.net'\n",
    "\n",
    "TELEMETRY_STORAGE_ACCOUNT_NAME = os.getenv('TELEMETRY_STORAGE_ACCOUNT_NAME')\n",
    "TELEMETRY_STORAGE_ACCOUNT_KEY = os.getenv('TELEMETRY_STORAGE_ACCOUNT_KEY')\n",
    "TELEMETRY_CONTAINER_NAME = os.getenv('TELEMETRY_CONTAINER_NAME')\n",
    "STAGING_STORAGE_ACCOUNT_NAME = os.getenv('STAGING_STORAGE_ACCOUNT_NAME')\n",
    "STAGING_STORAGE_ACCOUNT_KEY = os.getenv('STAGING_STORAGE_ACCOUNT_KEY')\n",
    "AZUREML_NATIVE_SHARE_DIRECTORY = os.getenv('AZUREML_NATIVE_SHARE_DIRECTORY')\n",
    "\n",
    "wasbTelemetryUrl = \"wasb://{0}@{1}.blob.{2}/*/*/*/*/*/*/*\".format(\n",
    "            TELEMETRY_CONTAINER_NAME,\n",
    "            TELEMETRY_STORAGE_ACCOUNT_NAME,\n",
    "            STORAGE_ACCOUNT_SUFFIX)\n",
    "\n",
    "sc = SparkSession.builder.getOrCreate()\n",
    "hc = sc._jsc.hadoopConfiguration()\n",
    "hc.set(\"avro.mapred.ignore.inputs.without.extension\", \"false\")\n",
    "\n",
    "if TELEMETRY_STORAGE_ACCOUNT_KEY:\n",
    "    hc.set(\"fs.azure.account.key.{}.blob.core.windows.net\".format(TELEMETRY_STORAGE_ACCOUNT_NAME), TELEMETRY_STORAGE_ACCOUNT_KEY)\n",
    "\n",
    "hc.set(\"fs.azure.account.key.{}.blob.core.windows.net\".format(STAGING_STORAGE_ACCOUNT_NAME), STAGING_STORAGE_ACCOUNT_KEY)\n",
    "    \n",
    "sql = SQLContext.getOrCreate(sc)\n",
    "\n",
    "df = sql.read.format(\"com.databricks.spark.avro\").load(wasbTelemetryUrl)\n",
    "\n",
    "df.printSchema()"
   ]
  },
  {
   "cell_type": "code",
   "execution_count": 3,
   "metadata": {},
   "outputs": [
    {
     "name": "stdout",
     "output_type": "stream",
     "text": [
      "Message count: 425987\n"
     ]
    }
   ],
   "source": [
    "print('Message count: {0}'.format(df.count()))"
   ]
  },
  {
   "cell_type": "markdown",
   "metadata": {},
   "source": [
    "## Reconstructing telemetry from the binary payload\n",
    "The Body column in the dataframe above is a pickled Python object which encapsulates multiple sensor readings at a given time. Among these readings are:\n",
    "- ambient temperature (°C)\n",
    "- ambient pressure (kPa)\n",
    "- rotational speed (RPM)\n",
    "- temperature (°C)\n",
    "- pressure (kPa)\n",
    "- vibration signal (16 bit integer PCM data at 1024 Hz)\n",
    "\n",
    "The last 4 values describe the state of a machine, whereas the first two describe the operational environment.\n",
    "Below, we are performing the following:\n",
    "- extracting the machine ID from IoT Hub message's SystemProperties\n",
    "- restoring the 6 sensor readings from the binary payload (and adding them as columns to the dataframe)\n",
    "- removing unused IoT Hub message metadata"
   ]
  },
  {
   "cell_type": "code",
   "execution_count": 4,
   "metadata": {},
   "outputs": [
    {
     "name": "stdout",
     "output_type": "stream",
     "text": [
      "root\n",
      " |-- EnqueuedTimeUtc: string (nullable = true)\n",
      " |-- ambient_temperature: double (nullable = true)\n",
      " |-- ambient_pressure: double (nullable = true)\n",
      " |-- speed: double (nullable = true)\n",
      " |-- temperature: double (nullable = true)\n",
      " |-- pressure: double (nullable = true)\n",
      " |-- vibration: array (nullable = true)\n",
      " |    |-- element: short (containsNull = true)\n",
      " |-- machineID: string (nullable = true)\n",
      "\n"
     ]
    }
   ],
   "source": [
    "input_columns = [\n",
    "    (\"ambient_temperature\", DoubleType()),\n",
    "    (\"ambient_pressure\", DoubleType()),\n",
    "    (\"speed\", DoubleType()),\n",
    "    (\"temperature\", DoubleType()),\n",
    "    (\"pressure\", DoubleType()),\n",
    "    (\"vibration\", ArrayType(ShortType()))]\n",
    "\n",
    "def extract_value(c):\n",
    "    def f(x):\n",
    "        v = pickle.loads(x)[c[0]]\n",
    "        if isinstance(v, np.ndarray):\n",
    "            v = v.tolist()\n",
    "        if isinstance(c[1], DoubleType):            \n",
    "            v = float(v)\n",
    "        return v\n",
    "    return udf(f, c[1])\n",
    "\n",
    "# Note: Python's reduce function provides a concise way of adding many columns to the dataframe at once.\n",
    "# We will be using this pattern a couple of times throughout this notebook.\n",
    "df = (reduce(lambda _df, ic: _df.withColumn(ic[0], extract_value(ic)(df.Body)), input_columns, df)\n",
    "      .withColumn('machineID', df.SystemProperties['connectionDeviceId'])\n",
    "      .drop('Properties', 'SystemProperties', 'Body'))\n",
    "\n",
    "df.printSchema()"
   ]
  },
  {
   "cell_type": "markdown",
   "metadata": {},
   "source": [
    "## Digression: Input sample and service schema\n",
    "Before we proceed and transform the input dataset into features, let's take advantage of having access to the actual input telemetry and take a sample. That way, when performing model operationalization, it won't be necessary to read and reconstruct the raw dataset once again.\n",
    "\n",
    "As mentioned earlier, there are 6 sensor readings coming from each machine. The same sensor readings will be sent to a real-time Web service to get failure predictions from the model."
   ]
  },
  {
   "cell_type": "code",
   "execution_count": 5,
   "metadata": {},
   "outputs": [],
   "source": [
    "input_sample = df.limit(5).select([ic[0] for ic in input_columns])  # select only sensor readings into the sample;\n",
    "                                                                    # no machineID, timestamp, etc\n",
    "\n",
    "# define the input data frame\n",
    "inputs = {\"input_df\": SampleDefinition(DataTypes.SPARK, input_sample)}\n",
    "\n",
    "# dummy run function\n",
    "def run(input_df):\n",
    "    pass\n",
    "\n",
    "json_schema = generate_schema(run_func=run, inputs=inputs, filepath=os.path.join(AZUREML_NATIVE_SHARE_DIRECTORY, 'service_schema.json'))"
   ]
  },
  {
   "cell_type": "markdown",
   "metadata": {},
   "source": [
    "We will need *service_schema.json* when the model is ready to be operationalized.\n",
    "\n",
    "## Feature engineering\n",
    "\n",
    "- performing a fast Fourier transform (FFT) of the vibration signal to obtain its amplitude spectrum up to the *Nyquist frequency* (i.e., half the sampling frequency)<sup>[[4]](#ref_4)"
   ]
  },
  {
   "cell_type": "code",
   "execution_count": 6,
   "metadata": {},
   "outputs": [],
   "source": [
    "sample_rate = 1024\n",
    "\n",
    "def extract_amplitude_spectrum(x):\n",
    "    ampl = np.abs(np.fft.fft(x)) / sample_rate\n",
    "    return ampl[:sample_rate // 2 + 1].tolist()\n",
    "                      \n",
    "extract_amplitude_spectrum_udf = udf(extract_amplitude_spectrum, ArrayType(DoubleType()))\n",
    "\n",
    "def extract_dominant_frequencies(index):\n",
    "    def m(ff):\n",
    "        freq = np.fft.fftfreq(sample_rate, d = 1/sample_rate)[:sample_rate // 2 + 1]\n",
    "        return [float(f[index]) for f in sorted(list(zip(freq, ff)), key = lambda x: x[1], reverse = True)]\n",
    "    \n",
    "    return udf(m, ArrayType(DoubleType()))\n",
    "\n",
    "features_df = df.withColumn(\"fft\", extract_amplitude_spectrum_udf(df.vibration))\n",
    "\n",
    "features_df = (features_df\n",
    "       .withColumn(\"dominant_frequencies\", extract_dominant_frequencies(0)(features_df.fft))\n",
    "       .withColumn(\"dominant_frequencies_amplitudes\", extract_dominant_frequencies(1)(features_df.fft))\n",
    "       .where(features_df.speed > 0))\n",
    "\n",
    "#df.unpersist()"
   ]
  },
  {
   "cell_type": "code",
   "execution_count": 7,
   "metadata": {},
   "outputs": [
    {
     "data": {
      "image/png": "[encoded data removed]",
      "text/plain": [
       "<matplotlib.figure.Figure at 0x7f763cf4ce10>"
      ]
     },
     "metadata": {},
     "output_type": "display_data"
    }
   ],
   "source": [
    "fft = np.array(features_df.where(features_df.speed > 1000).first().fft)\n",
    "plt.plot(fft)\n",
    "plt.show()"
   ]
  },
  {
   "cell_type": "code",
   "execution_count": 8,
   "metadata": {},
   "outputs": [],
   "source": [
    "k = features_df.where(features_df.machineID == 'MACHINE-000').orderBy('EnqueuedTimeUtc').take(20)\n",
    "k = np.concatenate(np.array([x.vibration for x in k]))"
   ]
  },
  {
   "cell_type": "code",
   "execution_count": 9,
   "metadata": {},
   "outputs": [
    {
     "data": {
      "image/png": "[encoded data removed]",
      "text/plain": [
       "<matplotlib.figure.Figure at 0x7f7634f75160>"
      ]
     },
     "metadata": {},
     "output_type": "display_data"
    }
   ],
   "source": [
    "freqs, times, Sx = signal.spectrogram(k, fs=sample_rate, window='hanning',\n",
    "                                      nperseg=4096, noverlap=4096 - 100,\n",
    "                                      detrend=False, scaling='spectrum')\n",
    "f, ax = plt.subplots(figsize=(9, 5))\n",
    "ax.pcolormesh(times, freqs, 10 * np.log10(Sx), cmap='viridis')\n",
    "ax.set_ylabel('Frequency [kHz]')\n",
    "ax.set_xlabel('Time [s]')\n",
    "plt.show()"
   ]
  },
  {
   "cell_type": "code",
   "execution_count": 10,
   "metadata": {},
   "outputs": [
    {
     "data": {
      "text/html": [
       "<div>\n",
       "<style>\n",
       "    .dataframe thead tr:only-child th {\n",
       "        text-align: right;\n",
       "    }\n",
       "\n",
       "    .dataframe thead th {\n",
       "        text-align: left;\n",
       "    }\n",
       "\n",
       "    .dataframe tbody tr th {\n",
       "        vertical-align: top;\n",
       "    }\n",
       "</style>\n",
       "<table border=\"1\" class=\"dataframe\">\n",
       "  <thead>\n",
       "    <tr style=\"text-align: right;\">\n",
       "      <th></th>\n",
       "      <th>0</th>\n",
       "      <th>1</th>\n",
       "    </tr>\n",
       "  </thead>\n",
       "  <tbody>\n",
       "    <tr>\n",
       "      <th>0</th>\n",
       "      <td>76.0</td>\n",
       "      <td>326.354425</td>\n",
       "    </tr>\n",
       "    <tr>\n",
       "      <th>1</th>\n",
       "      <td>180.0</td>\n",
       "      <td>312.492036</td>\n",
       "    </tr>\n",
       "    <tr>\n",
       "      <th>2</th>\n",
       "      <td>61.0</td>\n",
       "      <td>311.951746</td>\n",
       "    </tr>\n",
       "    <tr>\n",
       "      <th>3</th>\n",
       "      <td>29.0</td>\n",
       "      <td>309.209959</td>\n",
       "    </tr>\n",
       "    <tr>\n",
       "      <th>4</th>\n",
       "      <td>58.0</td>\n",
       "      <td>277.819071</td>\n",
       "    </tr>\n",
       "  </tbody>\n",
       "</table>\n",
       "</div>"
      ],
      "text/plain": [
       "       0           1\n",
       "0   76.0  326.354425\n",
       "1  180.0  312.492036\n",
       "2   61.0  311.951746\n",
       "3   29.0  309.209959\n",
       "4   58.0  277.819071"
      ]
     },
     "execution_count": 10,
     "metadata": {},
     "output_type": "execute_result"
    }
   ],
   "source": [
    "freq = np.fft.fftfreq(sample_rate, d = 1/sample_rate)[:sample_rate // 2 + 1]\n",
    "max_freq = sorted(list(zip(freq, features_df.sample(False, 0.1, seed=0).first().fft)), key = lambda x: x[1], reverse = True)[10 : ]\n",
    "pdf = pd.DataFrame.from_records(max_freq)\n",
    "pdf.head()"
   ]
  },
  {
   "cell_type": "code",
   "execution_count": 11,
   "metadata": {},
   "outputs": [
    {
     "data": {
      "text/plain": [
       "DataFrame[EnqueuedTimeUtc: string, ambient_temperature: double, ambient_pressure: double, speed: double, temperature: double, pressure: double, machineID: string, f0: double, f1: double, f2: double, a0: double, a1: double, a2: double]"
      ]
     },
     "execution_count": 11,
     "metadata": {},
     "output_type": "execute_result"
    }
   ],
   "source": [
    "frequency_features = 3\n",
    "features_df = reduce(lambda _df, i: _df.withColumn('f{0}'.format(i), _df.dominant_frequencies[i]), range(frequency_features), features_df)\n",
    "features_df = reduce(lambda _df, i: _df.withColumn('a{0}'.format(i), _df.dominant_frequencies_amplitudes[i]), range(frequency_features), features_df)\n",
    "features_df = features_df.drop('vibration', 'fft', 'dominant_frequencies', 'dominant_frequencies_amplitudes')\n",
    "features_df.persist(StorageLevel.MEMORY_AND_DISK)"
   ]
  },
  {
   "cell_type": "code",
   "execution_count": 12,
   "metadata": {},
   "outputs": [],
   "source": [
    "dependent_features = [c for c in features_df.columns if c not in ['machineID', 'EnqueuedTimeUtc', 'speed', 'ambient_pressure', 'ambient_temperature']]\n",
    "features_df = reduce(lambda _df, f: _df.withColumn('{0}_n'.format(f), col(f) / col('speed')), dependent_features, features_df)"
   ]
  },
  {
   "cell_type": "code",
   "execution_count": 13,
   "metadata": {},
   "outputs": [
    {
     "data": {
      "text/html": [
       "<div>\n",
       "<style>\n",
       "    .dataframe thead tr:only-child th {\n",
       "        text-align: right;\n",
       "    }\n",
       "\n",
       "    .dataframe thead th {\n",
       "        text-align: left;\n",
       "    }\n",
       "\n",
       "    .dataframe tbody tr th {\n",
       "        vertical-align: top;\n",
       "    }\n",
       "</style>\n",
       "<table border=\"1\" class=\"dataframe\">\n",
       "  <thead>\n",
       "    <tr style=\"text-align: right;\">\n",
       "      <th></th>\n",
       "      <th>EnqueuedTimeUtc</th>\n",
       "      <th>ambient_temperature</th>\n",
       "      <th>ambient_pressure</th>\n",
       "      <th>speed</th>\n",
       "      <th>temperature</th>\n",
       "      <th>pressure</th>\n",
       "      <th>machineID</th>\n",
       "      <th>f0</th>\n",
       "      <th>f1</th>\n",
       "      <th>f2</th>\n",
       "      <th>...</th>\n",
       "      <th>a1</th>\n",
       "      <th>a2</th>\n",
       "      <th>temperature_n</th>\n",
       "      <th>pressure_n</th>\n",
       "      <th>f0_n</th>\n",
       "      <th>f1_n</th>\n",
       "      <th>f2_n</th>\n",
       "      <th>a0_n</th>\n",
       "      <th>a1_n</th>\n",
       "      <th>a2_n</th>\n",
       "    </tr>\n",
       "  </thead>\n",
       "  <tbody>\n",
       "    <tr>\n",
       "      <th>0</th>\n",
       "      <td>2018-04-16T21:01:27.1340000Z</td>\n",
       "      <td>20.0</td>\n",
       "      <td>101.0</td>\n",
       "      <td>1107.0</td>\n",
       "      <td>110.70</td>\n",
       "      <td>2214.00</td>\n",
       "      <td>MACHINE-001</td>\n",
       "      <td>221.0</td>\n",
       "      <td>74.0</td>\n",
       "      <td>37.0</td>\n",
       "      <td>...</td>\n",
       "      <td>1394.161884</td>\n",
       "      <td>1309.790872</td>\n",
       "      <td>0.100000</td>\n",
       "      <td>2.00000</td>\n",
       "      <td>0.199639</td>\n",
       "      <td>0.066847</td>\n",
       "      <td>0.033424</td>\n",
       "      <td>1.458841</td>\n",
       "      <td>1.259405</td>\n",
       "      <td>1.183190</td>\n",
       "    </tr>\n",
       "    <tr>\n",
       "      <th>1</th>\n",
       "      <td>2018-04-16T21:01:27.3840000Z</td>\n",
       "      <td>20.0</td>\n",
       "      <td>101.0</td>\n",
       "      <td>774.0</td>\n",
       "      <td>97.05</td>\n",
       "      <td>1548.41</td>\n",
       "      <td>MACHINE-009</td>\n",
       "      <td>26.0</td>\n",
       "      <td>232.0</td>\n",
       "      <td>25.0</td>\n",
       "      <td>...</td>\n",
       "      <td>6881.882060</td>\n",
       "      <td>2821.981138</td>\n",
       "      <td>0.125388</td>\n",
       "      <td>2.00053</td>\n",
       "      <td>0.033592</td>\n",
       "      <td>0.299742</td>\n",
       "      <td>0.032300</td>\n",
       "      <td>14.885416</td>\n",
       "      <td>8.891320</td>\n",
       "      <td>3.645970</td>\n",
       "    </tr>\n",
       "    <tr>\n",
       "      <th>2</th>\n",
       "      <td>2018-04-16T21:01:27.6650000Z</td>\n",
       "      <td>20.0</td>\n",
       "      <td>101.0</td>\n",
       "      <td>724.0</td>\n",
       "      <td>72.40</td>\n",
       "      <td>1448.00</td>\n",
       "      <td>MACHINE-004</td>\n",
       "      <td>145.0</td>\n",
       "      <td>48.0</td>\n",
       "      <td>24.0</td>\n",
       "      <td>...</td>\n",
       "      <td>1291.174340</td>\n",
       "      <td>1272.790601</td>\n",
       "      <td>0.100000</td>\n",
       "      <td>2.00000</td>\n",
       "      <td>0.200276</td>\n",
       "      <td>0.066298</td>\n",
       "      <td>0.033149</td>\n",
       "      <td>2.743880</td>\n",
       "      <td>1.783390</td>\n",
       "      <td>1.757998</td>\n",
       "    </tr>\n",
       "    <tr>\n",
       "      <th>3</th>\n",
       "      <td>2018-04-16T21:01:27.6650000Z</td>\n",
       "      <td>20.0</td>\n",
       "      <td>101.0</td>\n",
       "      <td>874.0</td>\n",
       "      <td>87.40</td>\n",
       "      <td>1748.00</td>\n",
       "      <td>MACHINE-003</td>\n",
       "      <td>175.0</td>\n",
       "      <td>58.0</td>\n",
       "      <td>29.0</td>\n",
       "      <td>...</td>\n",
       "      <td>1293.030725</td>\n",
       "      <td>1248.508246</td>\n",
       "      <td>0.100000</td>\n",
       "      <td>2.00000</td>\n",
       "      <td>0.200229</td>\n",
       "      <td>0.066362</td>\n",
       "      <td>0.033181</td>\n",
       "      <td>2.275784</td>\n",
       "      <td>1.479440</td>\n",
       "      <td>1.428499</td>\n",
       "    </tr>\n",
       "    <tr>\n",
       "      <th>4</th>\n",
       "      <td>2018-04-16T21:01:27.6650000Z</td>\n",
       "      <td>20.0</td>\n",
       "      <td>101.0</td>\n",
       "      <td>894.0</td>\n",
       "      <td>89.40</td>\n",
       "      <td>1788.00</td>\n",
       "      <td>MACHINE-006</td>\n",
       "      <td>179.0</td>\n",
       "      <td>30.0</td>\n",
       "      <td>60.0</td>\n",
       "      <td>...</td>\n",
       "      <td>1239.637867</td>\n",
       "      <td>1111.663844</td>\n",
       "      <td>0.100000</td>\n",
       "      <td>2.00000</td>\n",
       "      <td>0.200224</td>\n",
       "      <td>0.033557</td>\n",
       "      <td>0.067114</td>\n",
       "      <td>2.220081</td>\n",
       "      <td>1.386620</td>\n",
       "      <td>1.243472</td>\n",
       "    </tr>\n",
       "  </tbody>\n",
       "</table>\n",
       "<p>5 rows × 21 columns</p>\n",
       "</div>"
      ],
      "text/plain": [
       "                EnqueuedTimeUtc  ambient_temperature  ambient_pressure  \\\n",
       "0  2018-04-16T21:01:27.1340000Z                 20.0             101.0   \n",
       "1  2018-04-16T21:01:27.3840000Z                 20.0             101.0   \n",
       "2  2018-04-16T21:01:27.6650000Z                 20.0             101.0   \n",
       "3  2018-04-16T21:01:27.6650000Z                 20.0             101.0   \n",
       "4  2018-04-16T21:01:27.6650000Z                 20.0             101.0   \n",
       "\n",
       "    speed  temperature  pressure    machineID     f0     f1    f2    ...     \\\n",
       "0  1107.0       110.70   2214.00  MACHINE-001  221.0   74.0  37.0    ...      \n",
       "1   774.0        97.05   1548.41  MACHINE-009   26.0  232.0  25.0    ...      \n",
       "2   724.0        72.40   1448.00  MACHINE-004  145.0   48.0  24.0    ...      \n",
       "3   874.0        87.40   1748.00  MACHINE-003  175.0   58.0  29.0    ...      \n",
       "4   894.0        89.40   1788.00  MACHINE-006  179.0   30.0  60.0    ...      \n",
       "\n",
       "            a1           a2  temperature_n  pressure_n      f0_n      f1_n  \\\n",
       "0  1394.161884  1309.790872       0.100000     2.00000  0.199639  0.066847   \n",
       "1  6881.882060  2821.981138       0.125388     2.00053  0.033592  0.299742   \n",
       "2  1291.174340  1272.790601       0.100000     2.00000  0.200276  0.066298   \n",
       "3  1293.030725  1248.508246       0.100000     2.00000  0.200229  0.066362   \n",
       "4  1239.637867  1111.663844       0.100000     2.00000  0.200224  0.033557   \n",
       "\n",
       "       f2_n       a0_n      a1_n      a2_n  \n",
       "0  0.033424   1.458841  1.259405  1.183190  \n",
       "1  0.032300  14.885416  8.891320  3.645970  \n",
       "2  0.033149   2.743880  1.783390  1.757998  \n",
       "3  0.033181   2.275784  1.479440  1.428499  \n",
       "4  0.067114   2.220081  1.386620  1.243472  \n",
       "\n",
       "[5 rows x 21 columns]"
      ]
     },
     "execution_count": 13,
     "metadata": {},
     "output_type": "execute_result"
    }
   ],
   "source": [
    "wasbUrlOutput = \"wasb://{0}@{1}.blob.{2}/features.parquet\".format(\n",
    "            'intermediate',\n",
    "            STAGING_STORAGE_ACCOUNT_NAME,\n",
    "            STORAGE_ACCOUNT_SUFFIX)\n",
    "\n",
    "features_df.write.parquet(wasbUrlOutput, mode=\"overwrite\")\n",
    "\n",
    "features_df.limit(5).toPandas().head()"
   ]
  },
  {
   "cell_type": "markdown",
   "metadata": {},
   "source": [
    "## References\n",
    "<a name=\"ref_1\"></a>1.  [Big Data: Week 3 Video 3 - Feature Engineering](https://www.youtube.com/watch?v=drUToKxEAUA). youtube.com.\n",
    "\n",
    "<a name=\"ref_2\"></a>2.  [Save IoT hub messages that contain sensor data to your Azure blob storage](https://docs.microsoft.com/en-us/azure/iot-hub/iot-hub-store-data-in-azure-table-storage)\n",
    "\n",
    "<a name=\"ref_3\"></a>3.  [Azure Event Hubs Capture](https://docs.microsoft.com/en-us/azure/event-hubs/event-hubs-capture-overview)\n",
    "\n",
    "<a name=\"ref_4\"></a>4.  [Digital Signal Processing Using MATLAB for Students and Researchers](https://books.google.com/books?id=Qtd-e1NtZVkC&pg=PA82#v=onepage&q&f=false). John Wiley & Sons. p. 82. ISBN 9781118033807. \"The Nyquist rate is twice the bandwidth of the signal ... The Nyquist frequency or folding frequency is half the sampling rate and corresponds to the highest frequency which a sampled data system can reproduce without error.\""
   ]
  },
  {
   "cell_type": "code",
   "execution_count": null,
   "metadata": {},
   "outputs": [],
   "source": []
  }
 ],
 "metadata": {
  "kernelspec": {
   "display_name": "PySpark",
   "language": "python",
   "name": "pyspark"
  },
  "language_info": {
   "codemirror_mode": {
    "name": "ipython",
    "version": 3
   },
   "file_extension": ".py",
   "mimetype": "text/x-python",
   "name": "python",
   "nbconvert_exporter": "python",
   "pygments_lexer": "ipython3",
   "version": "3.6.2"
  }
 },
 "nbformat": 4,
 "nbformat_minor": 2
}
